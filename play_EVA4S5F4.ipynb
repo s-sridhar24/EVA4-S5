{
  "nbformat": 4,
  "nbformat_minor": 0,
  "metadata": {
    "colab": {
      "name": "play_EVA4S5F4.ipynb",
      "provenance": [],
      "collapsed_sections": [],
      "include_colab_link": true
    },
    "kernelspec": {
      "name": "python3",
      "display_name": "Python 3"
    },
    "accelerator": "GPU",
    "widgets": {
      "application/vnd.jupyter.widget-state+json": {
        "d609364af5634b32a18ae97773d57685": {
          "model_module": "@jupyter-widgets/controls",
          "model_name": "HBoxModel",
          "state": {
            "_view_name": "HBoxView",
            "_dom_classes": [],
            "_model_name": "HBoxModel",
            "_view_module": "@jupyter-widgets/controls",
            "_model_module_version": "1.5.0",
            "_view_count": null,
            "_view_module_version": "1.5.0",
            "box_style": "",
            "layout": "IPY_MODEL_002301c9d4734df3a29375c4a280e415",
            "_model_module": "@jupyter-widgets/controls",
            "children": [
              "IPY_MODEL_a172535002f14aceba1c2cfa8fc0e728",
              "IPY_MODEL_2114fb65127349348ec80717c3469182"
            ]
          }
        },
        "002301c9d4734df3a29375c4a280e415": {
          "model_module": "@jupyter-widgets/base",
          "model_name": "LayoutModel",
          "state": {
            "_view_name": "LayoutView",
            "grid_template_rows": null,
            "right": null,
            "justify_content": null,
            "_view_module": "@jupyter-widgets/base",
            "overflow": null,
            "_model_module_version": "1.2.0",
            "_view_count": null,
            "flex_flow": null,
            "width": null,
            "min_width": null,
            "border": null,
            "align_items": null,
            "bottom": null,
            "_model_module": "@jupyter-widgets/base",
            "top": null,
            "grid_column": null,
            "overflow_y": null,
            "overflow_x": null,
            "grid_auto_flow": null,
            "grid_area": null,
            "grid_template_columns": null,
            "flex": null,
            "_model_name": "LayoutModel",
            "justify_items": null,
            "grid_row": null,
            "max_height": null,
            "align_content": null,
            "visibility": null,
            "align_self": null,
            "height": null,
            "min_height": null,
            "padding": null,
            "grid_auto_rows": null,
            "grid_gap": null,
            "max_width": null,
            "order": null,
            "_view_module_version": "1.2.0",
            "grid_template_areas": null,
            "object_position": null,
            "object_fit": null,
            "grid_auto_columns": null,
            "margin": null,
            "display": null,
            "left": null
          }
        },
        "a172535002f14aceba1c2cfa8fc0e728": {
          "model_module": "@jupyter-widgets/controls",
          "model_name": "IntProgressModel",
          "state": {
            "_view_name": "ProgressView",
            "style": "IPY_MODEL_b631b0ce982b461497894207dc09d2de",
            "_dom_classes": [],
            "description": "",
            "_model_name": "IntProgressModel",
            "bar_style": "success",
            "max": 1,
            "_view_module": "@jupyter-widgets/controls",
            "_model_module_version": "1.5.0",
            "value": 1,
            "_view_count": null,
            "_view_module_version": "1.5.0",
            "orientation": "horizontal",
            "min": 0,
            "description_tooltip": null,
            "_model_module": "@jupyter-widgets/controls",
            "layout": "IPY_MODEL_54574dd7097f4f59827fe4cc32fb2cd6"
          }
        },
        "2114fb65127349348ec80717c3469182": {
          "model_module": "@jupyter-widgets/controls",
          "model_name": "HTMLModel",
          "state": {
            "_view_name": "HTMLView",
            "style": "IPY_MODEL_0972d6cc813c420187db3b91c4269060",
            "_dom_classes": [],
            "description": "",
            "_model_name": "HTMLModel",
            "placeholder": "​",
            "_view_module": "@jupyter-widgets/controls",
            "_model_module_version": "1.5.0",
            "value": "9920512it [00:06, 1618746.15it/s]",
            "_view_count": null,
            "_view_module_version": "1.5.0",
            "description_tooltip": null,
            "_model_module": "@jupyter-widgets/controls",
            "layout": "IPY_MODEL_a5004a0609fd46649d342353931e3b8b"
          }
        },
        "b631b0ce982b461497894207dc09d2de": {
          "model_module": "@jupyter-widgets/controls",
          "model_name": "ProgressStyleModel",
          "state": {
            "_view_name": "StyleView",
            "_model_name": "ProgressStyleModel",
            "description_width": "",
            "_view_module": "@jupyter-widgets/base",
            "_model_module_version": "1.5.0",
            "_view_count": null,
            "_view_module_version": "1.2.0",
            "bar_color": null,
            "_model_module": "@jupyter-widgets/controls"
          }
        },
        "54574dd7097f4f59827fe4cc32fb2cd6": {
          "model_module": "@jupyter-widgets/base",
          "model_name": "LayoutModel",
          "state": {
            "_view_name": "LayoutView",
            "grid_template_rows": null,
            "right": null,
            "justify_content": null,
            "_view_module": "@jupyter-widgets/base",
            "overflow": null,
            "_model_module_version": "1.2.0",
            "_view_count": null,
            "flex_flow": null,
            "width": null,
            "min_width": null,
            "border": null,
            "align_items": null,
            "bottom": null,
            "_model_module": "@jupyter-widgets/base",
            "top": null,
            "grid_column": null,
            "overflow_y": null,
            "overflow_x": null,
            "grid_auto_flow": null,
            "grid_area": null,
            "grid_template_columns": null,
            "flex": null,
            "_model_name": "LayoutModel",
            "justify_items": null,
            "grid_row": null,
            "max_height": null,
            "align_content": null,
            "visibility": null,
            "align_self": null,
            "height": null,
            "min_height": null,
            "padding": null,
            "grid_auto_rows": null,
            "grid_gap": null,
            "max_width": null,
            "order": null,
            "_view_module_version": "1.2.0",
            "grid_template_areas": null,
            "object_position": null,
            "object_fit": null,
            "grid_auto_columns": null,
            "margin": null,
            "display": null,
            "left": null
          }
        },
        "0972d6cc813c420187db3b91c4269060": {
          "model_module": "@jupyter-widgets/controls",
          "model_name": "DescriptionStyleModel",
          "state": {
            "_view_name": "StyleView",
            "_model_name": "DescriptionStyleModel",
            "description_width": "",
            "_view_module": "@jupyter-widgets/base",
            "_model_module_version": "1.5.0",
            "_view_count": null,
            "_view_module_version": "1.2.0",
            "_model_module": "@jupyter-widgets/controls"
          }
        },
        "a5004a0609fd46649d342353931e3b8b": {
          "model_module": "@jupyter-widgets/base",
          "model_name": "LayoutModel",
          "state": {
            "_view_name": "LayoutView",
            "grid_template_rows": null,
            "right": null,
            "justify_content": null,
            "_view_module": "@jupyter-widgets/base",
            "overflow": null,
            "_model_module_version": "1.2.0",
            "_view_count": null,
            "flex_flow": null,
            "width": null,
            "min_width": null,
            "border": null,
            "align_items": null,
            "bottom": null,
            "_model_module": "@jupyter-widgets/base",
            "top": null,
            "grid_column": null,
            "overflow_y": null,
            "overflow_x": null,
            "grid_auto_flow": null,
            "grid_area": null,
            "grid_template_columns": null,
            "flex": null,
            "_model_name": "LayoutModel",
            "justify_items": null,
            "grid_row": null,
            "max_height": null,
            "align_content": null,
            "visibility": null,
            "align_self": null,
            "height": null,
            "min_height": null,
            "padding": null,
            "grid_auto_rows": null,
            "grid_gap": null,
            "max_width": null,
            "order": null,
            "_view_module_version": "1.2.0",
            "grid_template_areas": null,
            "object_position": null,
            "object_fit": null,
            "grid_auto_columns": null,
            "margin": null,
            "display": null,
            "left": null
          }
        },
        "d35073c96a194e90b2138c38887b29cd": {
          "model_module": "@jupyter-widgets/controls",
          "model_name": "HBoxModel",
          "state": {
            "_view_name": "HBoxView",
            "_dom_classes": [],
            "_model_name": "HBoxModel",
            "_view_module": "@jupyter-widgets/controls",
            "_model_module_version": "1.5.0",
            "_view_count": null,
            "_view_module_version": "1.5.0",
            "box_style": "",
            "layout": "IPY_MODEL_74fba032a7f44878befd2dd368b2d510",
            "_model_module": "@jupyter-widgets/controls",
            "children": [
              "IPY_MODEL_406b62acd0a24d09aeec51324ab41dc6",
              "IPY_MODEL_281db87749a0475483b879956830b8cf"
            ]
          }
        },
        "74fba032a7f44878befd2dd368b2d510": {
          "model_module": "@jupyter-widgets/base",
          "model_name": "LayoutModel",
          "state": {
            "_view_name": "LayoutView",
            "grid_template_rows": null,
            "right": null,
            "justify_content": null,
            "_view_module": "@jupyter-widgets/base",
            "overflow": null,
            "_model_module_version": "1.2.0",
            "_view_count": null,
            "flex_flow": null,
            "width": null,
            "min_width": null,
            "border": null,
            "align_items": null,
            "bottom": null,
            "_model_module": "@jupyter-widgets/base",
            "top": null,
            "grid_column": null,
            "overflow_y": null,
            "overflow_x": null,
            "grid_auto_flow": null,
            "grid_area": null,
            "grid_template_columns": null,
            "flex": null,
            "_model_name": "LayoutModel",
            "justify_items": null,
            "grid_row": null,
            "max_height": null,
            "align_content": null,
            "visibility": null,
            "align_self": null,
            "height": null,
            "min_height": null,
            "padding": null,
            "grid_auto_rows": null,
            "grid_gap": null,
            "max_width": null,
            "order": null,
            "_view_module_version": "1.2.0",
            "grid_template_areas": null,
            "object_position": null,
            "object_fit": null,
            "grid_auto_columns": null,
            "margin": null,
            "display": null,
            "left": null
          }
        },
        "406b62acd0a24d09aeec51324ab41dc6": {
          "model_module": "@jupyter-widgets/controls",
          "model_name": "IntProgressModel",
          "state": {
            "_view_name": "ProgressView",
            "style": "IPY_MODEL_5732e2d9b8cc4007bfb780ad09319b2d",
            "_dom_classes": [],
            "description": "",
            "_model_name": "IntProgressModel",
            "bar_style": "success",
            "max": 1,
            "_view_module": "@jupyter-widgets/controls",
            "_model_module_version": "1.5.0",
            "value": 1,
            "_view_count": null,
            "_view_module_version": "1.5.0",
            "orientation": "horizontal",
            "min": 0,
            "description_tooltip": null,
            "_model_module": "@jupyter-widgets/controls",
            "layout": "IPY_MODEL_2fa08198abb941dc9c1774fc0995cb1b"
          }
        },
        "281db87749a0475483b879956830b8cf": {
          "model_module": "@jupyter-widgets/controls",
          "model_name": "HTMLModel",
          "state": {
            "_view_name": "HTMLView",
            "style": "IPY_MODEL_c40f8e4661cd44ff92b4fc47f2a82b04",
            "_dom_classes": [],
            "description": "",
            "_model_name": "HTMLModel",
            "placeholder": "​",
            "_view_module": "@jupyter-widgets/controls",
            "_model_module_version": "1.5.0",
            "value": "32768it [00:00, 118431.11it/s]",
            "_view_count": null,
            "_view_module_version": "1.5.0",
            "description_tooltip": null,
            "_model_module": "@jupyter-widgets/controls",
            "layout": "IPY_MODEL_8104721f4e4c4a51817b07e4ff603f24"
          }
        },
        "5732e2d9b8cc4007bfb780ad09319b2d": {
          "model_module": "@jupyter-widgets/controls",
          "model_name": "ProgressStyleModel",
          "state": {
            "_view_name": "StyleView",
            "_model_name": "ProgressStyleModel",
            "description_width": "",
            "_view_module": "@jupyter-widgets/base",
            "_model_module_version": "1.5.0",
            "_view_count": null,
            "_view_module_version": "1.2.0",
            "bar_color": null,
            "_model_module": "@jupyter-widgets/controls"
          }
        },
        "2fa08198abb941dc9c1774fc0995cb1b": {
          "model_module": "@jupyter-widgets/base",
          "model_name": "LayoutModel",
          "state": {
            "_view_name": "LayoutView",
            "grid_template_rows": null,
            "right": null,
            "justify_content": null,
            "_view_module": "@jupyter-widgets/base",
            "overflow": null,
            "_model_module_version": "1.2.0",
            "_view_count": null,
            "flex_flow": null,
            "width": null,
            "min_width": null,
            "border": null,
            "align_items": null,
            "bottom": null,
            "_model_module": "@jupyter-widgets/base",
            "top": null,
            "grid_column": null,
            "overflow_y": null,
            "overflow_x": null,
            "grid_auto_flow": null,
            "grid_area": null,
            "grid_template_columns": null,
            "flex": null,
            "_model_name": "LayoutModel",
            "justify_items": null,
            "grid_row": null,
            "max_height": null,
            "align_content": null,
            "visibility": null,
            "align_self": null,
            "height": null,
            "min_height": null,
            "padding": null,
            "grid_auto_rows": null,
            "grid_gap": null,
            "max_width": null,
            "order": null,
            "_view_module_version": "1.2.0",
            "grid_template_areas": null,
            "object_position": null,
            "object_fit": null,
            "grid_auto_columns": null,
            "margin": null,
            "display": null,
            "left": null
          }
        },
        "c40f8e4661cd44ff92b4fc47f2a82b04": {
          "model_module": "@jupyter-widgets/controls",
          "model_name": "DescriptionStyleModel",
          "state": {
            "_view_name": "StyleView",
            "_model_name": "DescriptionStyleModel",
            "description_width": "",
            "_view_module": "@jupyter-widgets/base",
            "_model_module_version": "1.5.0",
            "_view_count": null,
            "_view_module_version": "1.2.0",
            "_model_module": "@jupyter-widgets/controls"
          }
        },
        "8104721f4e4c4a51817b07e4ff603f24": {
          "model_module": "@jupyter-widgets/base",
          "model_name": "LayoutModel",
          "state": {
            "_view_name": "LayoutView",
            "grid_template_rows": null,
            "right": null,
            "justify_content": null,
            "_view_module": "@jupyter-widgets/base",
            "overflow": null,
            "_model_module_version": "1.2.0",
            "_view_count": null,
            "flex_flow": null,
            "width": null,
            "min_width": null,
            "border": null,
            "align_items": null,
            "bottom": null,
            "_model_module": "@jupyter-widgets/base",
            "top": null,
            "grid_column": null,
            "overflow_y": null,
            "overflow_x": null,
            "grid_auto_flow": null,
            "grid_area": null,
            "grid_template_columns": null,
            "flex": null,
            "_model_name": "LayoutModel",
            "justify_items": null,
            "grid_row": null,
            "max_height": null,
            "align_content": null,
            "visibility": null,
            "align_self": null,
            "height": null,
            "min_height": null,
            "padding": null,
            "grid_auto_rows": null,
            "grid_gap": null,
            "max_width": null,
            "order": null,
            "_view_module_version": "1.2.0",
            "grid_template_areas": null,
            "object_position": null,
            "object_fit": null,
            "grid_auto_columns": null,
            "margin": null,
            "display": null,
            "left": null
          }
        },
        "7409bc109ef74119bd04b1c72d669159": {
          "model_module": "@jupyter-widgets/controls",
          "model_name": "HBoxModel",
          "state": {
            "_view_name": "HBoxView",
            "_dom_classes": [],
            "_model_name": "HBoxModel",
            "_view_module": "@jupyter-widgets/controls",
            "_model_module_version": "1.5.0",
            "_view_count": null,
            "_view_module_version": "1.5.0",
            "box_style": "",
            "layout": "IPY_MODEL_37ff80888b21486e8b8eff4fe60fdde9",
            "_model_module": "@jupyter-widgets/controls",
            "children": [
              "IPY_MODEL_582d53e6ff724a55b3563cc988f73d3e",
              "IPY_MODEL_18bc58994ed349768719d082464cd633"
            ]
          }
        },
        "37ff80888b21486e8b8eff4fe60fdde9": {
          "model_module": "@jupyter-widgets/base",
          "model_name": "LayoutModel",
          "state": {
            "_view_name": "LayoutView",
            "grid_template_rows": null,
            "right": null,
            "justify_content": null,
            "_view_module": "@jupyter-widgets/base",
            "overflow": null,
            "_model_module_version": "1.2.0",
            "_view_count": null,
            "flex_flow": null,
            "width": null,
            "min_width": null,
            "border": null,
            "align_items": null,
            "bottom": null,
            "_model_module": "@jupyter-widgets/base",
            "top": null,
            "grid_column": null,
            "overflow_y": null,
            "overflow_x": null,
            "grid_auto_flow": null,
            "grid_area": null,
            "grid_template_columns": null,
            "flex": null,
            "_model_name": "LayoutModel",
            "justify_items": null,
            "grid_row": null,
            "max_height": null,
            "align_content": null,
            "visibility": null,
            "align_self": null,
            "height": null,
            "min_height": null,
            "padding": null,
            "grid_auto_rows": null,
            "grid_gap": null,
            "max_width": null,
            "order": null,
            "_view_module_version": "1.2.0",
            "grid_template_areas": null,
            "object_position": null,
            "object_fit": null,
            "grid_auto_columns": null,
            "margin": null,
            "display": null,
            "left": null
          }
        },
        "582d53e6ff724a55b3563cc988f73d3e": {
          "model_module": "@jupyter-widgets/controls",
          "model_name": "IntProgressModel",
          "state": {
            "_view_name": "ProgressView",
            "style": "IPY_MODEL_6515257057f24512982faba998551337",
            "_dom_classes": [],
            "description": "",
            "_model_name": "IntProgressModel",
            "bar_style": "success",
            "max": 1,
            "_view_module": "@jupyter-widgets/controls",
            "_model_module_version": "1.5.0",
            "value": 1,
            "_view_count": null,
            "_view_module_version": "1.5.0",
            "orientation": "horizontal",
            "min": 0,
            "description_tooltip": null,
            "_model_module": "@jupyter-widgets/controls",
            "layout": "IPY_MODEL_05d77ae68c1f4445b5fc9e32dcf51659"
          }
        },
        "18bc58994ed349768719d082464cd633": {
          "model_module": "@jupyter-widgets/controls",
          "model_name": "HTMLModel",
          "state": {
            "_view_name": "HTMLView",
            "style": "IPY_MODEL_87c9c0fa6d9340a7b83effec655c444f",
            "_dom_classes": [],
            "description": "",
            "_model_name": "HTMLModel",
            "placeholder": "​",
            "_view_module": "@jupyter-widgets/controls",
            "_model_module_version": "1.5.0",
            "value": "1654784it [00:00, 2136986.50it/s]",
            "_view_count": null,
            "_view_module_version": "1.5.0",
            "description_tooltip": null,
            "_model_module": "@jupyter-widgets/controls",
            "layout": "IPY_MODEL_8a656b8608d449bcab82ac0fa336be98"
          }
        },
        "6515257057f24512982faba998551337": {
          "model_module": "@jupyter-widgets/controls",
          "model_name": "ProgressStyleModel",
          "state": {
            "_view_name": "StyleView",
            "_model_name": "ProgressStyleModel",
            "description_width": "",
            "_view_module": "@jupyter-widgets/base",
            "_model_module_version": "1.5.0",
            "_view_count": null,
            "_view_module_version": "1.2.0",
            "bar_color": null,
            "_model_module": "@jupyter-widgets/controls"
          }
        },
        "05d77ae68c1f4445b5fc9e32dcf51659": {
          "model_module": "@jupyter-widgets/base",
          "model_name": "LayoutModel",
          "state": {
            "_view_name": "LayoutView",
            "grid_template_rows": null,
            "right": null,
            "justify_content": null,
            "_view_module": "@jupyter-widgets/base",
            "overflow": null,
            "_model_module_version": "1.2.0",
            "_view_count": null,
            "flex_flow": null,
            "width": null,
            "min_width": null,
            "border": null,
            "align_items": null,
            "bottom": null,
            "_model_module": "@jupyter-widgets/base",
            "top": null,
            "grid_column": null,
            "overflow_y": null,
            "overflow_x": null,
            "grid_auto_flow": null,
            "grid_area": null,
            "grid_template_columns": null,
            "flex": null,
            "_model_name": "LayoutModel",
            "justify_items": null,
            "grid_row": null,
            "max_height": null,
            "align_content": null,
            "visibility": null,
            "align_self": null,
            "height": null,
            "min_height": null,
            "padding": null,
            "grid_auto_rows": null,
            "grid_gap": null,
            "max_width": null,
            "order": null,
            "_view_module_version": "1.2.0",
            "grid_template_areas": null,
            "object_position": null,
            "object_fit": null,
            "grid_auto_columns": null,
            "margin": null,
            "display": null,
            "left": null
          }
        },
        "87c9c0fa6d9340a7b83effec655c444f": {
          "model_module": "@jupyter-widgets/controls",
          "model_name": "DescriptionStyleModel",
          "state": {
            "_view_name": "StyleView",
            "_model_name": "DescriptionStyleModel",
            "description_width": "",
            "_view_module": "@jupyter-widgets/base",
            "_model_module_version": "1.5.0",
            "_view_count": null,
            "_view_module_version": "1.2.0",
            "_model_module": "@jupyter-widgets/controls"
          }
        },
        "8a656b8608d449bcab82ac0fa336be98": {
          "model_module": "@jupyter-widgets/base",
          "model_name": "LayoutModel",
          "state": {
            "_view_name": "LayoutView",
            "grid_template_rows": null,
            "right": null,
            "justify_content": null,
            "_view_module": "@jupyter-widgets/base",
            "overflow": null,
            "_model_module_version": "1.2.0",
            "_view_count": null,
            "flex_flow": null,
            "width": null,
            "min_width": null,
            "border": null,
            "align_items": null,
            "bottom": null,
            "_model_module": "@jupyter-widgets/base",
            "top": null,
            "grid_column": null,
            "overflow_y": null,
            "overflow_x": null,
            "grid_auto_flow": null,
            "grid_area": null,
            "grid_template_columns": null,
            "flex": null,
            "_model_name": "LayoutModel",
            "justify_items": null,
            "grid_row": null,
            "max_height": null,
            "align_content": null,
            "visibility": null,
            "align_self": null,
            "height": null,
            "min_height": null,
            "padding": null,
            "grid_auto_rows": null,
            "grid_gap": null,
            "max_width": null,
            "order": null,
            "_view_module_version": "1.2.0",
            "grid_template_areas": null,
            "object_position": null,
            "object_fit": null,
            "grid_auto_columns": null,
            "margin": null,
            "display": null,
            "left": null
          }
        },
        "4187421dbfb64e01b977ccac8bc16465": {
          "model_module": "@jupyter-widgets/controls",
          "model_name": "HBoxModel",
          "state": {
            "_view_name": "HBoxView",
            "_dom_classes": [],
            "_model_name": "HBoxModel",
            "_view_module": "@jupyter-widgets/controls",
            "_model_module_version": "1.5.0",
            "_view_count": null,
            "_view_module_version": "1.5.0",
            "box_style": "",
            "layout": "IPY_MODEL_6cf7b36d0e9d44b08852603925f41fd5",
            "_model_module": "@jupyter-widgets/controls",
            "children": [
              "IPY_MODEL_136f5711b00d4f55a4cdf2244e1579ed",
              "IPY_MODEL_dc943afcbebd4642ba928b2656cf4a9e"
            ]
          }
        },
        "6cf7b36d0e9d44b08852603925f41fd5": {
          "model_module": "@jupyter-widgets/base",
          "model_name": "LayoutModel",
          "state": {
            "_view_name": "LayoutView",
            "grid_template_rows": null,
            "right": null,
            "justify_content": null,
            "_view_module": "@jupyter-widgets/base",
            "overflow": null,
            "_model_module_version": "1.2.0",
            "_view_count": null,
            "flex_flow": null,
            "width": null,
            "min_width": null,
            "border": null,
            "align_items": null,
            "bottom": null,
            "_model_module": "@jupyter-widgets/base",
            "top": null,
            "grid_column": null,
            "overflow_y": null,
            "overflow_x": null,
            "grid_auto_flow": null,
            "grid_area": null,
            "grid_template_columns": null,
            "flex": null,
            "_model_name": "LayoutModel",
            "justify_items": null,
            "grid_row": null,
            "max_height": null,
            "align_content": null,
            "visibility": null,
            "align_self": null,
            "height": null,
            "min_height": null,
            "padding": null,
            "grid_auto_rows": null,
            "grid_gap": null,
            "max_width": null,
            "order": null,
            "_view_module_version": "1.2.0",
            "grid_template_areas": null,
            "object_position": null,
            "object_fit": null,
            "grid_auto_columns": null,
            "margin": null,
            "display": null,
            "left": null
          }
        },
        "136f5711b00d4f55a4cdf2244e1579ed": {
          "model_module": "@jupyter-widgets/controls",
          "model_name": "IntProgressModel",
          "state": {
            "_view_name": "ProgressView",
            "style": "IPY_MODEL_21fa262a8af04d0d87a6fe1c075ed7df",
            "_dom_classes": [],
            "description": "",
            "_model_name": "IntProgressModel",
            "bar_style": "success",
            "max": 1,
            "_view_module": "@jupyter-widgets/controls",
            "_model_module_version": "1.5.0",
            "value": 1,
            "_view_count": null,
            "_view_module_version": "1.5.0",
            "orientation": "horizontal",
            "min": 0,
            "description_tooltip": null,
            "_model_module": "@jupyter-widgets/controls",
            "layout": "IPY_MODEL_ea5db48b778b4c09a5e46b2334a892e1"
          }
        },
        "dc943afcbebd4642ba928b2656cf4a9e": {
          "model_module": "@jupyter-widgets/controls",
          "model_name": "HTMLModel",
          "state": {
            "_view_name": "HTMLView",
            "style": "IPY_MODEL_8544b46db86941d4934a672a51ba1827",
            "_dom_classes": [],
            "description": "",
            "_model_name": "HTMLModel",
            "placeholder": "​",
            "_view_module": "@jupyter-widgets/controls",
            "_model_module_version": "1.5.0",
            "value": "8192it [00:00, 44022.95it/s]",
            "_view_count": null,
            "_view_module_version": "1.5.0",
            "description_tooltip": null,
            "_model_module": "@jupyter-widgets/controls",
            "layout": "IPY_MODEL_e9c4736363084903bca43c87e48de81f"
          }
        },
        "21fa262a8af04d0d87a6fe1c075ed7df": {
          "model_module": "@jupyter-widgets/controls",
          "model_name": "ProgressStyleModel",
          "state": {
            "_view_name": "StyleView",
            "_model_name": "ProgressStyleModel",
            "description_width": "",
            "_view_module": "@jupyter-widgets/base",
            "_model_module_version": "1.5.0",
            "_view_count": null,
            "_view_module_version": "1.2.0",
            "bar_color": null,
            "_model_module": "@jupyter-widgets/controls"
          }
        },
        "ea5db48b778b4c09a5e46b2334a892e1": {
          "model_module": "@jupyter-widgets/base",
          "model_name": "LayoutModel",
          "state": {
            "_view_name": "LayoutView",
            "grid_template_rows": null,
            "right": null,
            "justify_content": null,
            "_view_module": "@jupyter-widgets/base",
            "overflow": null,
            "_model_module_version": "1.2.0",
            "_view_count": null,
            "flex_flow": null,
            "width": null,
            "min_width": null,
            "border": null,
            "align_items": null,
            "bottom": null,
            "_model_module": "@jupyter-widgets/base",
            "top": null,
            "grid_column": null,
            "overflow_y": null,
            "overflow_x": null,
            "grid_auto_flow": null,
            "grid_area": null,
            "grid_template_columns": null,
            "flex": null,
            "_model_name": "LayoutModel",
            "justify_items": null,
            "grid_row": null,
            "max_height": null,
            "align_content": null,
            "visibility": null,
            "align_self": null,
            "height": null,
            "min_height": null,
            "padding": null,
            "grid_auto_rows": null,
            "grid_gap": null,
            "max_width": null,
            "order": null,
            "_view_module_version": "1.2.0",
            "grid_template_areas": null,
            "object_position": null,
            "object_fit": null,
            "grid_auto_columns": null,
            "margin": null,
            "display": null,
            "left": null
          }
        },
        "8544b46db86941d4934a672a51ba1827": {
          "model_module": "@jupyter-widgets/controls",
          "model_name": "DescriptionStyleModel",
          "state": {
            "_view_name": "StyleView",
            "_model_name": "DescriptionStyleModel",
            "description_width": "",
            "_view_module": "@jupyter-widgets/base",
            "_model_module_version": "1.5.0",
            "_view_count": null,
            "_view_module_version": "1.2.0",
            "_model_module": "@jupyter-widgets/controls"
          }
        },
        "e9c4736363084903bca43c87e48de81f": {
          "model_module": "@jupyter-widgets/base",
          "model_name": "LayoutModel",
          "state": {
            "_view_name": "LayoutView",
            "grid_template_rows": null,
            "right": null,
            "justify_content": null,
            "_view_module": "@jupyter-widgets/base",
            "overflow": null,
            "_model_module_version": "1.2.0",
            "_view_count": null,
            "flex_flow": null,
            "width": null,
            "min_width": null,
            "border": null,
            "align_items": null,
            "bottom": null,
            "_model_module": "@jupyter-widgets/base",
            "top": null,
            "grid_column": null,
            "overflow_y": null,
            "overflow_x": null,
            "grid_auto_flow": null,
            "grid_area": null,
            "grid_template_columns": null,
            "flex": null,
            "_model_name": "LayoutModel",
            "justify_items": null,
            "grid_row": null,
            "max_height": null,
            "align_content": null,
            "visibility": null,
            "align_self": null,
            "height": null,
            "min_height": null,
            "padding": null,
            "grid_auto_rows": null,
            "grid_gap": null,
            "max_width": null,
            "order": null,
            "_view_module_version": "1.2.0",
            "grid_template_areas": null,
            "object_position": null,
            "object_fit": null,
            "grid_auto_columns": null,
            "margin": null,
            "display": null,
            "left": null
          }
        }
      }
    }
  },
  "cells": [
    {
      "cell_type": "markdown",
      "metadata": {
        "id": "view-in-github",
        "colab_type": "text"
      },
      "source": [
        "<a href=\"https://colab.research.google.com/github/s-sridhar24/EVA4-S5/blob/master/play_EVA4S5F4.ipynb\" target=\"_parent\"><img src=\"https://colab.research.google.com/assets/colab-badge.svg\" alt=\"Open In Colab\"/></a>"
      ]
    },
    {
      "cell_type": "markdown",
      "metadata": {
        "id": "24nxtgtfgQYM",
        "colab_type": "text"
      },
      "source": [
        "# Program Targets:\n",
        "\n",
        "Consistent accuracy of 99.4%\n",
        "\n",
        "Achieve using less than 10K parameters and in <= 15 epochs\n",
        "\n",
        "Share this as 5 steps with obj, analysis for each step\n",
        "\n",
        "# Step 4 Objectives:\n",
        "\n",
        "Prune parameters to under 10K retaining performance\n",
        "\n",
        "# Step 4 Results and analysis\n",
        "\n",
        "Parameters pruned to 9938\n",
        "Test Performance touched 99.51%, stayed in the 99.35+ level steadily in the last several epochs. Re run results below, it shows peak of 99.45 and several 99.38 upwards.\n",
        "\n",
        "**Lots of learnings from this step. In the process of trying to tune, following considerations were used for each of these decisions:**\n",
        "\n",
        "Included LR Scheduler. It did not cause a marked improvement, I did not tune this further.\n",
        "\n",
        "Reverted batch size to 128 after trying smaller sizes.\n",
        "\n",
        "Tried lower and higher drop rates and settled for 0.03\n",
        "\n",
        "Experimented with fewer layers, including MaxPooling after every RF 5, tried with very few neurons in early layers and expanding at the end. And flat count and reverse counts. increase-strangle-increase patterns.\n",
        "The pattern in the code now gave best results.\n",
        "\n",
        "Wish there was a simple way to specify architecture in PyTorch. Maybe a graphical method or calling a class and passing a dataframe.\n",
        "\n",
        "Included Image augmentation options but held it off for Step 5.\n",
        "\n",
        "**re run of the same file gives different results. \n"
      ]
    },
    {
      "cell_type": "markdown",
      "metadata": {
        "id": "5S2Ykp1eUH_m",
        "colab_type": "text"
      },
      "source": [
        "![image.png](data:image/png;base64,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)"
      ]
    },
    {
      "cell_type": "markdown",
      "metadata": {
        "id": "aO-7t1Y7-hV4",
        "colab_type": "text"
      },
      "source": [
        "# Import Libraries"
      ]
    },
    {
      "cell_type": "code",
      "metadata": {
        "id": "8kH16rnZ7wt_",
        "colab_type": "code",
        "colab": {}
      },
      "source": [
        "from __future__ import print_function\n",
        "import torch\n",
        "import torch.nn as nn\n",
        "import torch.nn.functional as F\n",
        "import torch.optim as optim\n",
        "from torchvision import datasets, transforms\n",
        "import matplotlib.pyplot as plt"
      ],
      "execution_count": 0,
      "outputs": []
    },
    {
      "cell_type": "markdown",
      "metadata": {
        "id": "ky3f_Odl-7um",
        "colab_type": "text"
      },
      "source": [
        "## Data Transformations\n",
        "\n",
        "We first start with defining our data transformations. We need to think what our data is and how can we augment it to correct represent images which it might not see otherwise. \n"
      ]
    },
    {
      "cell_type": "code",
      "metadata": {
        "id": "YtssFUKb-jqx",
        "colab_type": "code",
        "colab": {}
      },
      "source": [
        "# Train Phase transformations\n",
        "train_transforms = transforms.Compose([\n",
        "                                      #  transforms.Resize((28, 28)),\n",
        "                                       #transforms.ColorJitter(brightness=0.10, contrast=0.1, saturation=0.10, hue=0.1),\n",
        "                                       #transforms.RandomAffine(degrees=10, translate=(0.1,0.1), scale=(0.9, 1.1)),\n",
        "                                       #transforms.RandomRotation((-4.0, 4.0), fill=(1,)),\n",
        "                                       transforms.ToTensor(),\n",
        "                                       transforms.Normalize((0.1307,), (0.3081,)) # The mean and std have to be sequences (e.g., tuples), therefore you should add a comma after the values. \n",
        "                                       # Note the difference between (0.1307) and (0.1307,)\n",
        "                                       ])\n",
        "\n",
        "# Test Phase transformations\n",
        "test_transforms = transforms.Compose([\n",
        "                                       #transforms.Resize((28, 28)),\n",
        "                                       #transforms.ColorJitter(brightness=0.10, contrast=0.1, saturation=0.10, hue=0.1),\n",
        "                                       transforms.ToTensor(),\n",
        "                                       transforms.Normalize((0.1307,), (0.3081,))\n",
        "                                       ])\n"
      ],
      "execution_count": 0,
      "outputs": []
    },
    {
      "cell_type": "markdown",
      "metadata": {
        "id": "oQciFYo2B1mO",
        "colab_type": "text"
      },
      "source": [
        "# Dataset and Creating Train/Test Split"
      ]
    },
    {
      "cell_type": "code",
      "metadata": {
        "id": "_4A84rlfDA23",
        "colab_type": "code",
        "colab": {
          "base_uri": "https://localhost:8080/",
          "height": 411,
          "referenced_widgets": [
            "d609364af5634b32a18ae97773d57685",
            "002301c9d4734df3a29375c4a280e415",
            "a172535002f14aceba1c2cfa8fc0e728",
            "2114fb65127349348ec80717c3469182",
            "b631b0ce982b461497894207dc09d2de",
            "54574dd7097f4f59827fe4cc32fb2cd6",
            "0972d6cc813c420187db3b91c4269060",
            "a5004a0609fd46649d342353931e3b8b",
            "d35073c96a194e90b2138c38887b29cd",
            "74fba032a7f44878befd2dd368b2d510",
            "406b62acd0a24d09aeec51324ab41dc6",
            "281db87749a0475483b879956830b8cf",
            "5732e2d9b8cc4007bfb780ad09319b2d",
            "2fa08198abb941dc9c1774fc0995cb1b",
            "c40f8e4661cd44ff92b4fc47f2a82b04",
            "8104721f4e4c4a51817b07e4ff603f24",
            "7409bc109ef74119bd04b1c72d669159",
            "37ff80888b21486e8b8eff4fe60fdde9",
            "582d53e6ff724a55b3563cc988f73d3e",
            "18bc58994ed349768719d082464cd633",
            "6515257057f24512982faba998551337",
            "05d77ae68c1f4445b5fc9e32dcf51659",
            "87c9c0fa6d9340a7b83effec655c444f",
            "8a656b8608d449bcab82ac0fa336be98",
            "4187421dbfb64e01b977ccac8bc16465",
            "6cf7b36d0e9d44b08852603925f41fd5",
            "136f5711b00d4f55a4cdf2244e1579ed",
            "dc943afcbebd4642ba928b2656cf4a9e",
            "21fa262a8af04d0d87a6fe1c075ed7df",
            "ea5db48b778b4c09a5e46b2334a892e1",
            "8544b46db86941d4934a672a51ba1827",
            "e9c4736363084903bca43c87e48de81f"
          ]
        },
        "outputId": "27412b5d-526a-4172-ed6a-62cc82feda70"
      },
      "source": [
        "train = datasets.MNIST('./data', train=True, download=True, transform=train_transforms)\n",
        "test = datasets.MNIST('./data', train=False, download=True, transform=test_transforms)"
      ],
      "execution_count": 4,
      "outputs": [
        {
          "output_type": "stream",
          "text": [
            "Downloading http://yann.lecun.com/exdb/mnist/train-images-idx3-ubyte.gz to ./data/MNIST/raw/train-images-idx3-ubyte.gz\n"
          ],
          "name": "stdout"
        },
        {
          "output_type": "display_data",
          "data": {
            "application/vnd.jupyter.widget-view+json": {
              "model_id": "d609364af5634b32a18ae97773d57685",
              "version_minor": 0,
              "version_major": 2
            },
            "text/plain": [
              "HBox(children=(IntProgress(value=1, bar_style='info', max=1), HTML(value='')))"
            ]
          },
          "metadata": {
            "tags": []
          }
        },
        {
          "output_type": "stream",
          "text": [
            "\n",
            "Extracting ./data/MNIST/raw/train-images-idx3-ubyte.gz to ./data/MNIST/raw\n",
            "Downloading http://yann.lecun.com/exdb/mnist/train-labels-idx1-ubyte.gz to ./data/MNIST/raw/train-labels-idx1-ubyte.gz\n"
          ],
          "name": "stdout"
        },
        {
          "output_type": "display_data",
          "data": {
            "application/vnd.jupyter.widget-view+json": {
              "model_id": "d35073c96a194e90b2138c38887b29cd",
              "version_minor": 0,
              "version_major": 2
            },
            "text/plain": [
              "HBox(children=(IntProgress(value=1, bar_style='info', max=1), HTML(value='')))"
            ]
          },
          "metadata": {
            "tags": []
          }
        },
        {
          "output_type": "stream",
          "text": [
            "\n",
            "Extracting ./data/MNIST/raw/train-labels-idx1-ubyte.gz to ./data/MNIST/raw\n",
            "Downloading http://yann.lecun.com/exdb/mnist/t10k-images-idx3-ubyte.gz to ./data/MNIST/raw/t10k-images-idx3-ubyte.gz\n"
          ],
          "name": "stdout"
        },
        {
          "output_type": "display_data",
          "data": {
            "application/vnd.jupyter.widget-view+json": {
              "model_id": "7409bc109ef74119bd04b1c72d669159",
              "version_minor": 0,
              "version_major": 2
            },
            "text/plain": [
              "HBox(children=(IntProgress(value=1, bar_style='info', max=1), HTML(value='')))"
            ]
          },
          "metadata": {
            "tags": []
          }
        },
        {
          "output_type": "stream",
          "text": [
            "\n",
            "Extracting ./data/MNIST/raw/t10k-images-idx3-ubyte.gz to ./data/MNIST/raw\n",
            "Downloading http://yann.lecun.com/exdb/mnist/t10k-labels-idx1-ubyte.gz to ./data/MNIST/raw/t10k-labels-idx1-ubyte.gz\n"
          ],
          "name": "stdout"
        },
        {
          "output_type": "display_data",
          "data": {
            "application/vnd.jupyter.widget-view+json": {
              "model_id": "4187421dbfb64e01b977ccac8bc16465",
              "version_minor": 0,
              "version_major": 2
            },
            "text/plain": [
              "HBox(children=(IntProgress(value=1, bar_style='info', max=1), HTML(value='')))"
            ]
          },
          "metadata": {
            "tags": []
          }
        },
        {
          "output_type": "stream",
          "text": [
            "\n",
            "Extracting ./data/MNIST/raw/t10k-labels-idx1-ubyte.gz to ./data/MNIST/raw\n",
            "Processing...\n",
            "Done!\n"
          ],
          "name": "stdout"
        }
      ]
    },
    {
      "cell_type": "markdown",
      "metadata": {
        "id": "qgldp_3-Dn0c",
        "colab_type": "text"
      },
      "source": [
        "# Dataloader Arguments & Test/Train Dataloaders\n"
      ]
    },
    {
      "cell_type": "code",
      "metadata": {
        "id": "C8OLDR79DrHG",
        "colab_type": "code",
        "outputId": "c6668d0a-fa98-4b57-bdc3-f35142c33c9a",
        "colab": {
          "base_uri": "https://localhost:8080/",
          "height": 36
        }
      },
      "source": [
        "SEED = 1\n",
        "\n",
        "# CUDA?\n",
        "cuda = torch.cuda.is_available()\n",
        "print(\"CUDA Available?\", cuda)\n",
        "\n",
        "# For reproducibility\n",
        "torch.manual_seed(SEED)\n",
        "\n",
        "if cuda:\n",
        "    torch.cuda.manual_seed(SEED)\n",
        "\n",
        "# dataloader arguments - something you'll fetch these from cmdprmt\n",
        "#dataloader_args = dict(shuffle=True, batch_size=128, num_workers=4, pin_memory=True) if cuda else dict(shuffle=True, batch_size=64)\n",
        "dataloader_args = dict(shuffle=True, batch_size=32, num_workers=4, pin_memory=True) if cuda else dict(shuffle=True, batch_size=32)\n",
        "\n",
        "# train dataloader\n",
        "train_loader = torch.utils.data.DataLoader(train, **dataloader_args)\n",
        "\n",
        "# test dataloader\n",
        "test_loader = torch.utils.data.DataLoader(test, **dataloader_args)"
      ],
      "execution_count": 5,
      "outputs": [
        {
          "output_type": "stream",
          "text": [
            "CUDA Available? True\n"
          ],
          "name": "stdout"
        }
      ]
    },
    {
      "cell_type": "markdown",
      "metadata": {
        "id": "-TFjoFekE_va",
        "colab_type": "text"
      },
      "source": [
        "# Data Statistics\n",
        "\n",
        "Same dataset so not important in this step"
      ]
    },
    {
      "cell_type": "markdown",
      "metadata": {
        "id": "ubQL3H6RJL3h",
        "colab_type": "text"
      },
      "source": [
        "# The model\n"
      ]
    },
    {
      "cell_type": "code",
      "metadata": {
        "id": "_bbEZVuLeywv",
        "colab_type": "code",
        "colab": {}
      },
      "source": [
        "import torch.nn.functional as F\n",
        "dropout_value = 0.03\n",
        "class Net(nn.Module):\n",
        "    def __init__(self):\n",
        "        super(Net, self).__init__()\n",
        "        # Input Block\n",
        "        self.convblock1 = nn.Sequential(\n",
        "            nn.Conv2d(in_channels=1, out_channels=10, kernel_size=(3, 3), padding=0, bias=False),\n",
        "            nn.ReLU(),\n",
        "            nn.BatchNorm2d(10),\n",
        "            nn.Dropout(dropout_value)\n",
        "        ) # output_size = 26\n",
        "\n",
        "        # CONVOLUTION BLOCK 1\n",
        "        self.convblock2 = nn.Sequential(\n",
        "            nn.Conv2d(in_channels=10, out_channels=12, kernel_size=(3, 3), padding=0, bias=False),\n",
        "            nn.ReLU(),\n",
        "            nn.BatchNorm2d(12),\n",
        "            nn.Dropout(dropout_value)\n",
        "        ) # output_size = 24\n",
        "\n",
        "        # TRANSITION BLOCK 1\n",
        "        self.convblock3 = nn.Sequential(\n",
        "            nn.Conv2d(in_channels=12, out_channels=12, kernel_size=(3, 3), padding=0, bias=False),\n",
        "            nn.ReLU(),\n",
        "            nn.BatchNorm2d(12),\n",
        "            nn.Dropout(dropout_value)\n",
        "        ) # output_size = 24\n",
        "        self.pool1 = nn.MaxPool2d(2, 2) # output_size = 12\n",
        "\n",
        "        # CONVOLUTION BLOCK 2\n",
        "        self.convblock4 = nn.Sequential(\n",
        "            nn.Conv2d(in_channels=12, out_channels=12, kernel_size=(3, 3), padding=0, bias=False),\n",
        "            nn.ReLU(),            \n",
        "            nn.BatchNorm2d(12),\n",
        "            nn.Dropout(dropout_value)\n",
        "        ) # output_size = 10\n",
        "        self.convblock5 = nn.Sequential(\n",
        "            nn.Conv2d(in_channels=12, out_channels=14, kernel_size=(3, 3), padding=0, bias=False),\n",
        "            nn.ReLU(),            \n",
        "            nn.BatchNorm2d(14),\n",
        "            nn.Dropout(dropout_value)\n",
        "        ) # output_size = 8\n",
        "        self.convblock6 = nn.Sequential(\n",
        "            nn.Conv2d(in_channels=14, out_channels=16, kernel_size=(3, 3), padding=0, bias=False),\n",
        "            nn.ReLU(),            \n",
        "            nn.BatchNorm2d(16),\n",
        "            nn.Dropout(dropout_value)\n",
        "        ) # output_size = 6\n",
        "        self.convblock7 = nn.Sequential(\n",
        "            nn.Conv2d(in_channels=16, out_channels=16, kernel_size=(3, 3), padding=1, bias=False),\n",
        "            nn.ReLU(),            \n",
        "            nn.BatchNorm2d(16),\n",
        "#            nn.Dropout(dropout_value)\n",
        "        ) # output_size = 6\n",
        "        \n",
        "        # OUTPUT BLOCK\n",
        "        self.gap = nn.Sequential(\n",
        "            nn.AvgPool2d(kernel_size=5)\n",
        "        ) # output_size = 1\n",
        "\n",
        "        self.convblock8 = nn.Sequential(\n",
        "            nn.Conv2d(in_channels=16, out_channels=10, kernel_size=(1, 1), padding=0, bias=False),\n",
        "            #nn.BatchNorm2d(10),\n",
        "            #nn.ReLU(),\n",
        "            #nn.Dropout(dropout_value)\n",
        "        ) \n",
        "        self.dropout = nn.Dropout(dropout_value)\n",
        "\n",
        "    def forward(self, x):\n",
        "        x = self.convblock1(x)\n",
        "        x = self.convblock2(x)\n",
        "        x = self.convblock3(x)\n",
        "        x = self.pool1(x)\n",
        "        x = self.convblock4(x)\n",
        "        x = self.convblock5(x)\n",
        "        x = self.convblock6(x)\n",
        "        x = self.convblock7(x)\n",
        "        x = self.gap(x)        \n",
        "        x = self.convblock8(x)\n",
        "\n",
        "        x = x.view(-1, 10)\n",
        "        return F.log_softmax(x, dim=-1)"
      ],
      "execution_count": 0,
      "outputs": []
    },
    {
      "cell_type": "markdown",
      "metadata": {
        "id": "M3-vp8X9LCWo",
        "colab_type": "text"
      },
      "source": [
        "# Model Params\n",
        "Can't emphasize on how important viewing Model Summary is. \n",
        "Unfortunately, there is no in-built model visualizer, so we have to take external help"
      ]
    },
    {
      "cell_type": "code",
      "metadata": {
        "id": "5skB97zIJQQe",
        "colab_type": "code",
        "outputId": "949fd89c-796c-44ee-dbe7-683da8f85edf",
        "colab": {
          "base_uri": "https://localhost:8080/",
          "height": 874
        }
      },
      "source": [
        "!pip install torchsummary\n",
        "from torchsummary import summary\n",
        "use_cuda = torch.cuda.is_available()\n",
        "device = torch.device(\"cuda\" if use_cuda else \"cpu\")\n",
        "print(device)\n",
        "model = Net().to(device)\n",
        "summary(model, input_size=(1, 28, 28))"
      ],
      "execution_count": 7,
      "outputs": [
        {
          "output_type": "stream",
          "text": [
            "Requirement already satisfied: torchsummary in /usr/local/lib/python3.6/dist-packages (1.5.1)\n",
            "cuda\n",
            "----------------------------------------------------------------\n",
            "        Layer (type)               Output Shape         Param #\n",
            "================================================================\n",
            "            Conv2d-1           [-1, 10, 26, 26]              90\n",
            "              ReLU-2           [-1, 10, 26, 26]               0\n",
            "       BatchNorm2d-3           [-1, 10, 26, 26]              20\n",
            "           Dropout-4           [-1, 10, 26, 26]               0\n",
            "            Conv2d-5           [-1, 12, 24, 24]           1,080\n",
            "              ReLU-6           [-1, 12, 24, 24]               0\n",
            "       BatchNorm2d-7           [-1, 12, 24, 24]              24\n",
            "           Dropout-8           [-1, 12, 24, 24]               0\n",
            "            Conv2d-9           [-1, 12, 22, 22]           1,296\n",
            "             ReLU-10           [-1, 12, 22, 22]               0\n",
            "      BatchNorm2d-11           [-1, 12, 22, 22]              24\n",
            "          Dropout-12           [-1, 12, 22, 22]               0\n",
            "        MaxPool2d-13           [-1, 12, 11, 11]               0\n",
            "           Conv2d-14             [-1, 12, 9, 9]           1,296\n",
            "             ReLU-15             [-1, 12, 9, 9]               0\n",
            "      BatchNorm2d-16             [-1, 12, 9, 9]              24\n",
            "          Dropout-17             [-1, 12, 9, 9]               0\n",
            "           Conv2d-18             [-1, 14, 7, 7]           1,512\n",
            "             ReLU-19             [-1, 14, 7, 7]               0\n",
            "      BatchNorm2d-20             [-1, 14, 7, 7]              28\n",
            "          Dropout-21             [-1, 14, 7, 7]               0\n",
            "           Conv2d-22             [-1, 16, 5, 5]           2,016\n",
            "             ReLU-23             [-1, 16, 5, 5]               0\n",
            "      BatchNorm2d-24             [-1, 16, 5, 5]              32\n",
            "          Dropout-25             [-1, 16, 5, 5]               0\n",
            "           Conv2d-26             [-1, 16, 5, 5]           2,304\n",
            "             ReLU-27             [-1, 16, 5, 5]               0\n",
            "      BatchNorm2d-28             [-1, 16, 5, 5]              32\n",
            "        AvgPool2d-29             [-1, 16, 1, 1]               0\n",
            "           Conv2d-30             [-1, 10, 1, 1]             160\n",
            "================================================================\n",
            "Total params: 9,938\n",
            "Trainable params: 9,938\n",
            "Non-trainable params: 0\n",
            "----------------------------------------------------------------\n",
            "Input size (MB): 0.00\n",
            "Forward/backward pass size (MB): 0.68\n",
            "Params size (MB): 0.04\n",
            "Estimated Total Size (MB): 0.72\n",
            "----------------------------------------------------------------\n"
          ],
          "name": "stdout"
        }
      ]
    },
    {
      "cell_type": "markdown",
      "metadata": {
        "id": "1__x_SbrL7z3",
        "colab_type": "text"
      },
      "source": [
        "# Training and Testing\n",
        "\n",
        "Looking at logs can be boring, so we'll introduce **tqdm** progressbar to get cooler logs. \n",
        "\n",
        "Let's write train and test functions"
      ]
    },
    {
      "cell_type": "code",
      "metadata": {
        "id": "fbkF2nN_LYIb",
        "colab_type": "code",
        "colab": {}
      },
      "source": [
        "from tqdm import tqdm\n",
        "\n",
        "train_losses = []\n",
        "test_losses = []\n",
        "train_acc = []\n",
        "test_acc = []\n",
        "\n",
        "def train(model, device, train_loader, optimizer, epoch):\n",
        "  model.train()\n",
        "  pbar = tqdm(train_loader)\n",
        "  correct = 0\n",
        "  processed = 0\n",
        "  for batch_idx, (data, target) in enumerate(pbar):\n",
        "    # get samples\n",
        "    data, target = data.to(device), target.to(device)\n",
        "\n",
        "    # Init\n",
        "    optimizer.zero_grad()\n",
        "    # In PyTorch, we need to set the gradients to zero before starting to do backpropragation because PyTorch accumulates the gradients on subsequent backward passes. \n",
        "    # Because of this, when you start your training loop, ideally you should zero out the gradients so that you do the parameter update correctly.\n",
        "\n",
        "    # Predict\n",
        "    y_pred = model(data)\n",
        "\n",
        "    # Calculate loss\n",
        "    loss = F.nll_loss(y_pred, target)\n",
        "    train_losses.append(loss)\n",
        "\n",
        "    # Backpropagation\n",
        "    loss.backward()\n",
        "    optimizer.step()\n",
        "\n",
        "    # Update pbar-tqdm\n",
        "    \n",
        "    pred = y_pred.argmax(dim=1, keepdim=True)  # get the index of the max log-probability\n",
        "    correct += pred.eq(target.view_as(pred)).sum().item()\n",
        "    processed += len(data)\n",
        "\n",
        "    pbar.set_description(desc= f'Loss={loss.item()} Batch_id={batch_idx} Accuracy={100*correct/processed:0.2f}')\n",
        "    train_acc.append(100*correct/processed)\n",
        "\n",
        "def test(model, device, test_loader):\n",
        "    model.eval()\n",
        "    test_loss = 0\n",
        "    correct = 0\n",
        "    with torch.no_grad():\n",
        "        for data, target in test_loader:\n",
        "            data, target = data.to(device), target.to(device)\n",
        "            output = model(data)\n",
        "            test_loss += F.nll_loss(output, target, reduction='sum').item()  # sum up batch loss\n",
        "            pred = output.argmax(dim=1, keepdim=True)  # get the index of the max log-probability\n",
        "            correct += pred.eq(target.view_as(pred)).sum().item()\n",
        "\n",
        "    test_loss /= len(test_loader.dataset)\n",
        "    test_losses.append(test_loss)\n",
        "\n",
        "    print('\\nTest set: Average loss: {:.4f}, Accuracy: {}/{} ({:.2f}%)\\n'.format(\n",
        "        test_loss, correct, len(test_loader.dataset),\n",
        "        100. * correct / len(test_loader.dataset)))\n",
        "    \n",
        "    test_acc.append(100. * correct / len(test_loader.dataset))"
      ],
      "execution_count": 0,
      "outputs": []
    },
    {
      "cell_type": "markdown",
      "metadata": {
        "id": "drokW8wWODKq",
        "colab_type": "text"
      },
      "source": [
        "# Let's Train and test our model"
      ]
    },
    {
      "cell_type": "code",
      "metadata": {
        "id": "xMCFxeAKOB53",
        "colab_type": "code",
        "outputId": "9dd88bad-0bf1-4371-e4cf-400bf57bf1d3",
        "colab": {
          "base_uri": "https://localhost:8080/",
          "height": 1000
        }
      },
      "source": [
        "from torch.optim.lr_scheduler import StepLR\n",
        "\n",
        "model =  Net().to(device)\n",
        "optimizer = optim.SGD(model.parameters(), lr=0.01, momentum=0.9)\n",
        "scheduler = StepLR(optimizer, step_size=2, gamma=0.1)\n",
        "\n",
        "EPOCHS = 15\n",
        "for epoch in range(EPOCHS):\n",
        "    print(\"EPOCH:\", epoch)\n",
        "    train(model, device, train_loader, optimizer, epoch)\n",
        "    test(model, device, test_loader)"
      ],
      "execution_count": 12,
      "outputs": [
        {
          "output_type": "stream",
          "text": [
            "\r  0%|          | 0/1875 [00:00<?, ?it/s]"
          ],
          "name": "stderr"
        },
        {
          "output_type": "stream",
          "text": [
            "EPOCH: 0\n"
          ],
          "name": "stdout"
        },
        {
          "output_type": "stream",
          "text": [
            "Loss=0.0049800872802734375 Batch_id=1874 Accuracy=94.82: 100%|██████████| 1875/1875 [00:35<00:00, 52.72it/s]\n",
            "  0%|          | 0/1875 [00:00<?, ?it/s]"
          ],
          "name": "stderr"
        },
        {
          "output_type": "stream",
          "text": [
            "\n",
            "Test set: Average loss: 0.0385, Accuracy: 9881/10000 (98.81%)\n",
            "\n",
            "EPOCH: 1\n"
          ],
          "name": "stdout"
        },
        {
          "output_type": "stream",
          "text": [
            "Loss=0.01650412380695343 Batch_id=1874 Accuracy=98.14: 100%|██████████| 1875/1875 [00:34<00:00, 53.75it/s]\n",
            "  0%|          | 0/1875 [00:00<?, ?it/s]"
          ],
          "name": "stderr"
        },
        {
          "output_type": "stream",
          "text": [
            "\n",
            "Test set: Average loss: 0.0309, Accuracy: 9910/10000 (99.10%)\n",
            "\n",
            "EPOCH: 2\n"
          ],
          "name": "stdout"
        },
        {
          "output_type": "stream",
          "text": [
            "Loss=0.03794991970062256 Batch_id=1874 Accuracy=98.48: 100%|██████████| 1875/1875 [00:34<00:00, 53.59it/s]\n",
            "  0%|          | 0/1875 [00:00<?, ?it/s]"
          ],
          "name": "stderr"
        },
        {
          "output_type": "stream",
          "text": [
            "\n",
            "Test set: Average loss: 0.0284, Accuracy: 9918/10000 (99.18%)\n",
            "\n",
            "EPOCH: 3\n"
          ],
          "name": "stdout"
        },
        {
          "output_type": "stream",
          "text": [
            "Loss=0.005411982536315918 Batch_id=1874 Accuracy=98.69: 100%|██████████| 1875/1875 [00:35<00:00, 52.62it/s]\n",
            "  0%|          | 0/1875 [00:00<?, ?it/s]"
          ],
          "name": "stderr"
        },
        {
          "output_type": "stream",
          "text": [
            "\n",
            "Test set: Average loss: 0.0296, Accuracy: 9903/10000 (99.03%)\n",
            "\n",
            "EPOCH: 4\n"
          ],
          "name": "stdout"
        },
        {
          "output_type": "stream",
          "text": [
            "Loss=0.0444951206445694 Batch_id=1874 Accuracy=98.79: 100%|██████████| 1875/1875 [00:34<00:00, 54.01it/s]\n",
            "  0%|          | 0/1875 [00:00<?, ?it/s]"
          ],
          "name": "stderr"
        },
        {
          "output_type": "stream",
          "text": [
            "\n",
            "Test set: Average loss: 0.0227, Accuracy: 9929/10000 (99.29%)\n",
            "\n",
            "EPOCH: 5\n"
          ],
          "name": "stdout"
        },
        {
          "output_type": "stream",
          "text": [
            "Loss=0.0022343099117279053 Batch_id=1874 Accuracy=98.90: 100%|██████████| 1875/1875 [00:35<00:00, 53.21it/s]\n",
            "  0%|          | 0/1875 [00:00<?, ?it/s]"
          ],
          "name": "stderr"
        },
        {
          "output_type": "stream",
          "text": [
            "\n",
            "Test set: Average loss: 0.0267, Accuracy: 9917/10000 (99.17%)\n",
            "\n",
            "EPOCH: 6\n"
          ],
          "name": "stdout"
        },
        {
          "output_type": "stream",
          "text": [
            "Loss=0.0006915628910064697 Batch_id=1874 Accuracy=98.98: 100%|██████████| 1875/1875 [00:35<00:00, 52.41it/s]\n",
            "  0%|          | 0/1875 [00:00<?, ?it/s]"
          ],
          "name": "stderr"
        },
        {
          "output_type": "stream",
          "text": [
            "\n",
            "Test set: Average loss: 0.0204, Accuracy: 9936/10000 (99.36%)\n",
            "\n",
            "EPOCH: 7\n"
          ],
          "name": "stdout"
        },
        {
          "output_type": "stream",
          "text": [
            "Loss=0.0017340779304504395 Batch_id=1874 Accuracy=99.05: 100%|██████████| 1875/1875 [00:34<00:00, 60.75it/s]\n",
            "  0%|          | 0/1875 [00:00<?, ?it/s]"
          ],
          "name": "stderr"
        },
        {
          "output_type": "stream",
          "text": [
            "\n",
            "Test set: Average loss: 0.0253, Accuracy: 9918/10000 (99.18%)\n",
            "\n",
            "EPOCH: 8\n"
          ],
          "name": "stdout"
        },
        {
          "output_type": "stream",
          "text": [
            "Loss=0.007740288972854614 Batch_id=1874 Accuracy=99.11: 100%|██████████| 1875/1875 [00:35<00:00, 58.08it/s]\n",
            "  0%|          | 0/1875 [00:00<?, ?it/s]"
          ],
          "name": "stderr"
        },
        {
          "output_type": "stream",
          "text": [
            "\n",
            "Test set: Average loss: 0.0223, Accuracy: 9927/10000 (99.27%)\n",
            "\n",
            "EPOCH: 9\n"
          ],
          "name": "stdout"
        },
        {
          "output_type": "stream",
          "text": [
            "Loss=0.10137608647346497 Batch_id=1874 Accuracy=99.10: 100%|██████████| 1875/1875 [00:34<00:00, 53.72it/s]\n",
            "  0%|          | 0/1875 [00:00<?, ?it/s]"
          ],
          "name": "stderr"
        },
        {
          "output_type": "stream",
          "text": [
            "\n",
            "Test set: Average loss: 0.0253, Accuracy: 9920/10000 (99.20%)\n",
            "\n",
            "EPOCH: 10\n"
          ],
          "name": "stdout"
        },
        {
          "output_type": "stream",
          "text": [
            "Loss=0.0013247132301330566 Batch_id=1874 Accuracy=99.18: 100%|██████████| 1875/1875 [00:34<00:00, 54.04it/s]\n",
            "  0%|          | 0/1875 [00:00<?, ?it/s]"
          ],
          "name": "stderr"
        },
        {
          "output_type": "stream",
          "text": [
            "\n",
            "Test set: Average loss: 0.0205, Accuracy: 9940/10000 (99.40%)\n",
            "\n",
            "EPOCH: 11\n"
          ],
          "name": "stdout"
        },
        {
          "output_type": "stream",
          "text": [
            "Loss=0.0038416683673858643 Batch_id=1874 Accuracy=99.15: 100%|██████████| 1875/1875 [00:35<00:00, 53.38it/s]\n",
            "  0%|          | 0/1875 [00:00<?, ?it/s]"
          ],
          "name": "stderr"
        },
        {
          "output_type": "stream",
          "text": [
            "\n",
            "Test set: Average loss: 0.0216, Accuracy: 9932/10000 (99.32%)\n",
            "\n",
            "EPOCH: 12\n"
          ],
          "name": "stdout"
        },
        {
          "output_type": "stream",
          "text": [
            "Loss=0.11218170821666718 Batch_id=1874 Accuracy=99.25: 100%|██████████| 1875/1875 [00:34<00:00, 54.16it/s]\n",
            "  0%|          | 0/1875 [00:00<?, ?it/s]"
          ],
          "name": "stderr"
        },
        {
          "output_type": "stream",
          "text": [
            "\n",
            "Test set: Average loss: 0.0206, Accuracy: 9938/10000 (99.38%)\n",
            "\n",
            "EPOCH: 13\n"
          ],
          "name": "stdout"
        },
        {
          "output_type": "stream",
          "text": [
            "Loss=0.005568832159042358 Batch_id=1874 Accuracy=99.25: 100%|██████████| 1875/1875 [00:34<00:00, 53.92it/s]\n",
            "  0%|          | 0/1875 [00:00<?, ?it/s]"
          ],
          "name": "stderr"
        },
        {
          "output_type": "stream",
          "text": [
            "\n",
            "Test set: Average loss: 0.0195, Accuracy: 9945/10000 (99.45%)\n",
            "\n",
            "EPOCH: 14\n"
          ],
          "name": "stdout"
        },
        {
          "output_type": "stream",
          "text": [
            "Loss=0.004674866795539856 Batch_id=1874 Accuracy=99.24: 100%|██████████| 1875/1875 [00:35<00:00, 52.35it/s]\n"
          ],
          "name": "stderr"
        },
        {
          "output_type": "stream",
          "text": [
            "\n",
            "Test set: Average loss: 0.0214, Accuracy: 9940/10000 (99.40%)\n",
            "\n"
          ],
          "name": "stdout"
        }
      ]
    },
    {
      "cell_type": "code",
      "metadata": {
        "id": "87RaqGSEOWDe",
        "colab_type": "code",
        "outputId": "7317afea-7650-4cb1-8507-dd4cbae9a616",
        "colab": {
          "base_uri": "https://localhost:8080/",
          "height": 626
        }
      },
      "source": [
        "fig, axs = plt.subplots(2,2,figsize=(15,10))\n",
        "axs[0, 0].plot(train_losses)\n",
        "axs[0, 0].set_title(\"Training Loss\")\n",
        "axs[1, 0].plot(train_acc)\n",
        "axs[1, 0].set_title(\"Training Accuracy\")\n",
        "axs[0, 1].plot(test_losses)\n",
        "axs[0, 1].set_title(\"Test Loss\")\n",
        "axs[1, 1].plot(test_acc)\n",
        "axs[1, 1].set_title(\"Test Accuracy\")"
      ],
      "execution_count": 13,
      "outputs": [
        {
          "output_type": "execute_result",
          "data": {
            "text/plain": [
              "Text(0.5, 1.0, 'Test Accuracy')"
            ]
          },
          "metadata": {
            "tags": []
          },
          "execution_count": 13
        },
        {
          "output_type": "display_data",
          "data": {
            "image/png": "[encoded data removed]",
            "text/plain": [
              "<Figure size 1080x720 with 4 Axes>"
            ]
          },
          "metadata": {
            "tags": []
          }
        }
      ]
    }
  ]
}