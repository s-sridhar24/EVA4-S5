{
  "nbformat": 4,
  "nbformat_minor": 0,
  "metadata": {
    "colab": {
      "name": "play_EVA4S5F3.ipynb",
      "provenance": [],
      "collapsed_sections": [],
      "include_colab_link": true
    },
    "kernelspec": {
      "name": "python3",
      "display_name": "Python 3"
    },
    "accelerator": "GPU",
    "widgets": {
      "application/vnd.jupyter.widget-state+json": {
        "3812e77e893d4bab93f3f8d16f10ca09": {
          "model_module": "@jupyter-widgets/controls",
          "model_name": "HBoxModel",
          "state": {
            "_view_name": "HBoxView",
            "_dom_classes": [],
            "_model_name": "HBoxModel",
            "_view_module": "@jupyter-widgets/controls",
            "_model_module_version": "1.5.0",
            "_view_count": null,
            "_view_module_version": "1.5.0",
            "box_style": "",
            "layout": "IPY_MODEL_0c7881fd87bd46e7b597a0d5292ecb27",
            "_model_module": "@jupyter-widgets/controls",
            "children": [
              "IPY_MODEL_77ad9d91c4fe4318900f745b1e015d06",
              "IPY_MODEL_af6358c6652747858033ab14a55e160b"
            ]
          }
        },
        "0c7881fd87bd46e7b597a0d5292ecb27": {
          "model_module": "@jupyter-widgets/base",
          "model_name": "LayoutModel",
          "state": {
            "_view_name": "LayoutView",
            "grid_template_rows": null,
            "right": null,
            "justify_content": null,
            "_view_module": "@jupyter-widgets/base",
            "overflow": null,
            "_model_module_version": "1.2.0",
            "_view_count": null,
            "flex_flow": null,
            "width": null,
            "min_width": null,
            "border": null,
            "align_items": null,
            "bottom": null,
            "_model_module": "@jupyter-widgets/base",
            "top": null,
            "grid_column": null,
            "overflow_y": null,
            "overflow_x": null,
            "grid_auto_flow": null,
            "grid_area": null,
            "grid_template_columns": null,
            "flex": null,
            "_model_name": "LayoutModel",
            "justify_items": null,
            "grid_row": null,
            "max_height": null,
            "align_content": null,
            "visibility": null,
            "align_self": null,
            "height": null,
            "min_height": null,
            "padding": null,
            "grid_auto_rows": null,
            "grid_gap": null,
            "max_width": null,
            "order": null,
            "_view_module_version": "1.2.0",
            "grid_template_areas": null,
            "object_position": null,
            "object_fit": null,
            "grid_auto_columns": null,
            "margin": null,
            "display": null,
            "left": null
          }
        },
        "77ad9d91c4fe4318900f745b1e015d06": {
          "model_module": "@jupyter-widgets/controls",
          "model_name": "IntProgressModel",
          "state": {
            "_view_name": "ProgressView",
            "style": "IPY_MODEL_292f67d8ac994642a16e03db1ca2340f",
            "_dom_classes": [],
            "description": "",
            "_model_name": "IntProgressModel",
            "bar_style": "success",
            "max": 1,
            "_view_module": "@jupyter-widgets/controls",
            "_model_module_version": "1.5.0",
            "value": 1,
            "_view_count": null,
            "_view_module_version": "1.5.0",
            "orientation": "horizontal",
            "min": 0,
            "description_tooltip": null,
            "_model_module": "@jupyter-widgets/controls",
            "layout": "IPY_MODEL_5998931bc9e5463d9f84d8f839ed717b"
          }
        },
        "af6358c6652747858033ab14a55e160b": {
          "model_module": "@jupyter-widgets/controls",
          "model_name": "HTMLModel",
          "state": {
            "_view_name": "HTMLView",
            "style": "IPY_MODEL_7faf18d5b3af45e18803f9c2e1ca5eb9",
            "_dom_classes": [],
            "description": "",
            "_model_name": "HTMLModel",
            "placeholder": "​",
            "_view_module": "@jupyter-widgets/controls",
            "_model_module_version": "1.5.0",
            "value": "9920512it [00:01, 9134641.33it/s]",
            "_view_count": null,
            "_view_module_version": "1.5.0",
            "description_tooltip": null,
            "_model_module": "@jupyter-widgets/controls",
            "layout": "IPY_MODEL_abf2e6b3278f4454813f1de9a80979a9"
          }
        },
        "292f67d8ac994642a16e03db1ca2340f": {
          "model_module": "@jupyter-widgets/controls",
          "model_name": "ProgressStyleModel",
          "state": {
            "_view_name": "StyleView",
            "_model_name": "ProgressStyleModel",
            "description_width": "",
            "_view_module": "@jupyter-widgets/base",
            "_model_module_version": "1.5.0",
            "_view_count": null,
            "_view_module_version": "1.2.0",
            "bar_color": null,
            "_model_module": "@jupyter-widgets/controls"
          }
        },
        "5998931bc9e5463d9f84d8f839ed717b": {
          "model_module": "@jupyter-widgets/base",
          "model_name": "LayoutModel",
          "state": {
            "_view_name": "LayoutView",
            "grid_template_rows": null,
            "right": null,
            "justify_content": null,
            "_view_module": "@jupyter-widgets/base",
            "overflow": null,
            "_model_module_version": "1.2.0",
            "_view_count": null,
            "flex_flow": null,
            "width": null,
            "min_width": null,
            "border": null,
            "align_items": null,
            "bottom": null,
            "_model_module": "@jupyter-widgets/base",
            "top": null,
            "grid_column": null,
            "overflow_y": null,
            "overflow_x": null,
            "grid_auto_flow": null,
            "grid_area": null,
            "grid_template_columns": null,
            "flex": null,
            "_model_name": "LayoutModel",
            "justify_items": null,
            "grid_row": null,
            "max_height": null,
            "align_content": null,
            "visibility": null,
            "align_self": null,
            "height": null,
            "min_height": null,
            "padding": null,
            "grid_auto_rows": null,
            "grid_gap": null,
            "max_width": null,
            "order": null,
            "_view_module_version": "1.2.0",
            "grid_template_areas": null,
            "object_position": null,
            "object_fit": null,
            "grid_auto_columns": null,
            "margin": null,
            "display": null,
            "left": null
          }
        },
        "7faf18d5b3af45e18803f9c2e1ca5eb9": {
          "model_module": "@jupyter-widgets/controls",
          "model_name": "DescriptionStyleModel",
          "state": {
            "_view_name": "StyleView",
            "_model_name": "DescriptionStyleModel",
            "description_width": "",
            "_view_module": "@jupyter-widgets/base",
            "_model_module_version": "1.5.0",
            "_view_count": null,
            "_view_module_version": "1.2.0",
            "_model_module": "@jupyter-widgets/controls"
          }
        },
        "abf2e6b3278f4454813f1de9a80979a9": {
          "model_module": "@jupyter-widgets/base",
          "model_name": "LayoutModel",
          "state": {
            "_view_name": "LayoutView",
            "grid_template_rows": null,
            "right": null,
            "justify_content": null,
            "_view_module": "@jupyter-widgets/base",
            "overflow": null,
            "_model_module_version": "1.2.0",
            "_view_count": null,
            "flex_flow": null,
            "width": null,
            "min_width": null,
            "border": null,
            "align_items": null,
            "bottom": null,
            "_model_module": "@jupyter-widgets/base",
            "top": null,
            "grid_column": null,
            "overflow_y": null,
            "overflow_x": null,
            "grid_auto_flow": null,
            "grid_area": null,
            "grid_template_columns": null,
            "flex": null,
            "_model_name": "LayoutModel",
            "justify_items": null,
            "grid_row": null,
            "max_height": null,
            "align_content": null,
            "visibility": null,
            "align_self": null,
            "height": null,
            "min_height": null,
            "padding": null,
            "grid_auto_rows": null,
            "grid_gap": null,
            "max_width": null,
            "order": null,
            "_view_module_version": "1.2.0",
            "grid_template_areas": null,
            "object_position": null,
            "object_fit": null,
            "grid_auto_columns": null,
            "margin": null,
            "display": null,
            "left": null
          }
        },
        "2c235111a0b2478ca2c8ef6ec7d87047": {
          "model_module": "@jupyter-widgets/controls",
          "model_name": "HBoxModel",
          "state": {
            "_view_name": "HBoxView",
            "_dom_classes": [],
            "_model_name": "HBoxModel",
            "_view_module": "@jupyter-widgets/controls",
            "_model_module_version": "1.5.0",
            "_view_count": null,
            "_view_module_version": "1.5.0",
            "box_style": "",
            "layout": "IPY_MODEL_a7c57b5a691f4525a9d0fa740c28be90",
            "_model_module": "@jupyter-widgets/controls",
            "children": [
              "IPY_MODEL_d4a556b7285d4ba5ac16e9726fe0df7b",
              "IPY_MODEL_80395ca232a34cd2a9659724551136e7"
            ]
          }
        },
        "a7c57b5a691f4525a9d0fa740c28be90": {
          "model_module": "@jupyter-widgets/base",
          "model_name": "LayoutModel",
          "state": {
            "_view_name": "LayoutView",
            "grid_template_rows": null,
            "right": null,
            "justify_content": null,
            "_view_module": "@jupyter-widgets/base",
            "overflow": null,
            "_model_module_version": "1.2.0",
            "_view_count": null,
            "flex_flow": null,
            "width": null,
            "min_width": null,
            "border": null,
            "align_items": null,
            "bottom": null,
            "_model_module": "@jupyter-widgets/base",
            "top": null,
            "grid_column": null,
            "overflow_y": null,
            "overflow_x": null,
            "grid_auto_flow": null,
            "grid_area": null,
            "grid_template_columns": null,
            "flex": null,
            "_model_name": "LayoutModel",
            "justify_items": null,
            "grid_row": null,
            "max_height": null,
            "align_content": null,
            "visibility": null,
            "align_self": null,
            "height": null,
            "min_height": null,
            "padding": null,
            "grid_auto_rows": null,
            "grid_gap": null,
            "max_width": null,
            "order": null,
            "_view_module_version": "1.2.0",
            "grid_template_areas": null,
            "object_position": null,
            "object_fit": null,
            "grid_auto_columns": null,
            "margin": null,
            "display": null,
            "left": null
          }
        },
        "d4a556b7285d4ba5ac16e9726fe0df7b": {
          "model_module": "@jupyter-widgets/controls",
          "model_name": "IntProgressModel",
          "state": {
            "_view_name": "ProgressView",
            "style": "IPY_MODEL_cdaa0473e7794d0dba06e8788815d79a",
            "_dom_classes": [],
            "description": "",
            "_model_name": "IntProgressModel",
            "bar_style": "success",
            "max": 1,
            "_view_module": "@jupyter-widgets/controls",
            "_model_module_version": "1.5.0",
            "value": 1,
            "_view_count": null,
            "_view_module_version": "1.5.0",
            "orientation": "horizontal",
            "min": 0,
            "description_tooltip": null,
            "_model_module": "@jupyter-widgets/controls",
            "layout": "IPY_MODEL_1efe2fc41bbe4f6e8797bae1d82669ce"
          }
        },
        "80395ca232a34cd2a9659724551136e7": {
          "model_module": "@jupyter-widgets/controls",
          "model_name": "HTMLModel",
          "state": {
            "_view_name": "HTMLView",
            "style": "IPY_MODEL_34ccecb42a15423b829009b14d0e7033",
            "_dom_classes": [],
            "description": "",
            "_model_name": "HTMLModel",
            "placeholder": "​",
            "_view_module": "@jupyter-widgets/controls",
            "_model_module_version": "1.5.0",
            "value": "32768it [00:00, 123043.48it/s]",
            "_view_count": null,
            "_view_module_version": "1.5.0",
            "description_tooltip": null,
            "_model_module": "@jupyter-widgets/controls",
            "layout": "IPY_MODEL_f21d9ef3af5746da8d096ff1c253977b"
          }
        },
        "cdaa0473e7794d0dba06e8788815d79a": {
          "model_module": "@jupyter-widgets/controls",
          "model_name": "ProgressStyleModel",
          "state": {
            "_view_name": "StyleView",
            "_model_name": "ProgressStyleModel",
            "description_width": "",
            "_view_module": "@jupyter-widgets/base",
            "_model_module_version": "1.5.0",
            "_view_count": null,
            "_view_module_version": "1.2.0",
            "bar_color": null,
            "_model_module": "@jupyter-widgets/controls"
          }
        },
        "1efe2fc41bbe4f6e8797bae1d82669ce": {
          "model_module": "@jupyter-widgets/base",
          "model_name": "LayoutModel",
          "state": {
            "_view_name": "LayoutView",
            "grid_template_rows": null,
            "right": null,
            "justify_content": null,
            "_view_module": "@jupyter-widgets/base",
            "overflow": null,
            "_model_module_version": "1.2.0",
            "_view_count": null,
            "flex_flow": null,
            "width": null,
            "min_width": null,
            "border": null,
            "align_items": null,
            "bottom": null,
            "_model_module": "@jupyter-widgets/base",
            "top": null,
            "grid_column": null,
            "overflow_y": null,
            "overflow_x": null,
            "grid_auto_flow": null,
            "grid_area": null,
            "grid_template_columns": null,
            "flex": null,
            "_model_name": "LayoutModel",
            "justify_items": null,
            "grid_row": null,
            "max_height": null,
            "align_content": null,
            "visibility": null,
            "align_self": null,
            "height": null,
            "min_height": null,
            "padding": null,
            "grid_auto_rows": null,
            "grid_gap": null,
            "max_width": null,
            "order": null,
            "_view_module_version": "1.2.0",
            "grid_template_areas": null,
            "object_position": null,
            "object_fit": null,
            "grid_auto_columns": null,
            "margin": null,
            "display": null,
            "left": null
          }
        },
        "34ccecb42a15423b829009b14d0e7033": {
          "model_module": "@jupyter-widgets/controls",
          "model_name": "DescriptionStyleModel",
          "state": {
            "_view_name": "StyleView",
            "_model_name": "DescriptionStyleModel",
            "description_width": "",
            "_view_module": "@jupyter-widgets/base",
            "_model_module_version": "1.5.0",
            "_view_count": null,
            "_view_module_version": "1.2.0",
            "_model_module": "@jupyter-widgets/controls"
          }
        },
        "f21d9ef3af5746da8d096ff1c253977b": {
          "model_module": "@jupyter-widgets/base",
          "model_name": "LayoutModel",
          "state": {
            "_view_name": "LayoutView",
            "grid_template_rows": null,
            "right": null,
            "justify_content": null,
            "_view_module": "@jupyter-widgets/base",
            "overflow": null,
            "_model_module_version": "1.2.0",
            "_view_count": null,
            "flex_flow": null,
            "width": null,
            "min_width": null,
            "border": null,
            "align_items": null,
            "bottom": null,
            "_model_module": "@jupyter-widgets/base",
            "top": null,
            "grid_column": null,
            "overflow_y": null,
            "overflow_x": null,
            "grid_auto_flow": null,
            "grid_area": null,
            "grid_template_columns": null,
            "flex": null,
            "_model_name": "LayoutModel",
            "justify_items": null,
            "grid_row": null,
            "max_height": null,
            "align_content": null,
            "visibility": null,
            "align_self": null,
            "height": null,
            "min_height": null,
            "padding": null,
            "grid_auto_rows": null,
            "grid_gap": null,
            "max_width": null,
            "order": null,
            "_view_module_version": "1.2.0",
            "grid_template_areas": null,
            "object_position": null,
            "object_fit": null,
            "grid_auto_columns": null,
            "margin": null,
            "display": null,
            "left": null
          }
        },
        "e7dad273857e4ab4bd0be30d7c2bb3e8": {
          "model_module": "@jupyter-widgets/controls",
          "model_name": "HBoxModel",
          "state": {
            "_view_name": "HBoxView",
            "_dom_classes": [],
            "_model_name": "HBoxModel",
            "_view_module": "@jupyter-widgets/controls",
            "_model_module_version": "1.5.0",
            "_view_count": null,
            "_view_module_version": "1.5.0",
            "box_style": "",
            "layout": "IPY_MODEL_2f8c82f0432e4a6287a7c0f82dacecf9",
            "_model_module": "@jupyter-widgets/controls",
            "children": [
              "IPY_MODEL_ab93b6d3c8914c68973ef7e5fd0c8eef",
              "IPY_MODEL_bedd03d8771942039779417c12c06627"
            ]
          }
        },
        "2f8c82f0432e4a6287a7c0f82dacecf9": {
          "model_module": "@jupyter-widgets/base",
          "model_name": "LayoutModel",
          "state": {
            "_view_name": "LayoutView",
            "grid_template_rows": null,
            "right": null,
            "justify_content": null,
            "_view_module": "@jupyter-widgets/base",
            "overflow": null,
            "_model_module_version": "1.2.0",
            "_view_count": null,
            "flex_flow": null,
            "width": null,
            "min_width": null,
            "border": null,
            "align_items": null,
            "bottom": null,
            "_model_module": "@jupyter-widgets/base",
            "top": null,
            "grid_column": null,
            "overflow_y": null,
            "overflow_x": null,
            "grid_auto_flow": null,
            "grid_area": null,
            "grid_template_columns": null,
            "flex": null,
            "_model_name": "LayoutModel",
            "justify_items": null,
            "grid_row": null,
            "max_height": null,
            "align_content": null,
            "visibility": null,
            "align_self": null,
            "height": null,
            "min_height": null,
            "padding": null,
            "grid_auto_rows": null,
            "grid_gap": null,
            "max_width": null,
            "order": null,
            "_view_module_version": "1.2.0",
            "grid_template_areas": null,
            "object_position": null,
            "object_fit": null,
            "grid_auto_columns": null,
            "margin": null,
            "display": null,
            "left": null
          }
        },
        "ab93b6d3c8914c68973ef7e5fd0c8eef": {
          "model_module": "@jupyter-widgets/controls",
          "model_name": "IntProgressModel",
          "state": {
            "_view_name": "ProgressView",
            "style": "IPY_MODEL_35f892f38e904f9d9bfd0d0c92653e6d",
            "_dom_classes": [],
            "description": "",
            "_model_name": "IntProgressModel",
            "bar_style": "success",
            "max": 1,
            "_view_module": "@jupyter-widgets/controls",
            "_model_module_version": "1.5.0",
            "value": 1,
            "_view_count": null,
            "_view_module_version": "1.5.0",
            "orientation": "horizontal",
            "min": 0,
            "description_tooltip": null,
            "_model_module": "@jupyter-widgets/controls",
            "layout": "IPY_MODEL_75171383ad2b462a82168c1fda8d65a4"
          }
        },
        "bedd03d8771942039779417c12c06627": {
          "model_module": "@jupyter-widgets/controls",
          "model_name": "HTMLModel",
          "state": {
            "_view_name": "HTMLView",
            "style": "IPY_MODEL_c280e4fd272b4235955ba441164eb261",
            "_dom_classes": [],
            "description": "",
            "_model_name": "HTMLModel",
            "placeholder": "​",
            "_view_module": "@jupyter-widgets/controls",
            "_model_module_version": "1.5.0",
            "value": "1654784it [00:00, 2179145.99it/s]",
            "_view_count": null,
            "_view_module_version": "1.5.0",
            "description_tooltip": null,
            "_model_module": "@jupyter-widgets/controls",
            "layout": "IPY_MODEL_e5b24fb79e05446caea70127d64ef42b"
          }
        },
        "35f892f38e904f9d9bfd0d0c92653e6d": {
          "model_module": "@jupyter-widgets/controls",
          "model_name": "ProgressStyleModel",
          "state": {
            "_view_name": "StyleView",
            "_model_name": "ProgressStyleModel",
            "description_width": "",
            "_view_module": "@jupyter-widgets/base",
            "_model_module_version": "1.5.0",
            "_view_count": null,
            "_view_module_version": "1.2.0",
            "bar_color": null,
            "_model_module": "@jupyter-widgets/controls"
          }
        },
        "75171383ad2b462a82168c1fda8d65a4": {
          "model_module": "@jupyter-widgets/base",
          "model_name": "LayoutModel",
          "state": {
            "_view_name": "LayoutView",
            "grid_template_rows": null,
            "right": null,
            "justify_content": null,
            "_view_module": "@jupyter-widgets/base",
            "overflow": null,
            "_model_module_version": "1.2.0",
            "_view_count": null,
            "flex_flow": null,
            "width": null,
            "min_width": null,
            "border": null,
            "align_items": null,
            "bottom": null,
            "_model_module": "@jupyter-widgets/base",
            "top": null,
            "grid_column": null,
            "overflow_y": null,
            "overflow_x": null,
            "grid_auto_flow": null,
            "grid_area": null,
            "grid_template_columns": null,
            "flex": null,
            "_model_name": "LayoutModel",
            "justify_items": null,
            "grid_row": null,
            "max_height": null,
            "align_content": null,
            "visibility": null,
            "align_self": null,
            "height": null,
            "min_height": null,
            "padding": null,
            "grid_auto_rows": null,
            "grid_gap": null,
            "max_width": null,
            "order": null,
            "_view_module_version": "1.2.0",
            "grid_template_areas": null,
            "object_position": null,
            "object_fit": null,
            "grid_auto_columns": null,
            "margin": null,
            "display": null,
            "left": null
          }
        },
        "c280e4fd272b4235955ba441164eb261": {
          "model_module": "@jupyter-widgets/controls",
          "model_name": "DescriptionStyleModel",
          "state": {
            "_view_name": "StyleView",
            "_model_name": "DescriptionStyleModel",
            "description_width": "",
            "_view_module": "@jupyter-widgets/base",
            "_model_module_version": "1.5.0",
            "_view_count": null,
            "_view_module_version": "1.2.0",
            "_model_module": "@jupyter-widgets/controls"
          }
        },
        "e5b24fb79e05446caea70127d64ef42b": {
          "model_module": "@jupyter-widgets/base",
          "model_name": "LayoutModel",
          "state": {
            "_view_name": "LayoutView",
            "grid_template_rows": null,
            "right": null,
            "justify_content": null,
            "_view_module": "@jupyter-widgets/base",
            "overflow": null,
            "_model_module_version": "1.2.0",
            "_view_count": null,
            "flex_flow": null,
            "width": null,
            "min_width": null,
            "border": null,
            "align_items": null,
            "bottom": null,
            "_model_module": "@jupyter-widgets/base",
            "top": null,
            "grid_column": null,
            "overflow_y": null,
            "overflow_x": null,
            "grid_auto_flow": null,
            "grid_area": null,
            "grid_template_columns": null,
            "flex": null,
            "_model_name": "LayoutModel",
            "justify_items": null,
            "grid_row": null,
            "max_height": null,
            "align_content": null,
            "visibility": null,
            "align_self": null,
            "height": null,
            "min_height": null,
            "padding": null,
            "grid_auto_rows": null,
            "grid_gap": null,
            "max_width": null,
            "order": null,
            "_view_module_version": "1.2.0",
            "grid_template_areas": null,
            "object_position": null,
            "object_fit": null,
            "grid_auto_columns": null,
            "margin": null,
            "display": null,
            "left": null
          }
        },
        "9144a742b54f49fd92f9ca50fa62c86e": {
          "model_module": "@jupyter-widgets/controls",
          "model_name": "HBoxModel",
          "state": {
            "_view_name": "HBoxView",
            "_dom_classes": [],
            "_model_name": "HBoxModel",
            "_view_module": "@jupyter-widgets/controls",
            "_model_module_version": "1.5.0",
            "_view_count": null,
            "_view_module_version": "1.5.0",
            "box_style": "",
            "layout": "IPY_MODEL_d7fe2bfcfa7943c29ba7cb3a395460dc",
            "_model_module": "@jupyter-widgets/controls",
            "children": [
              "IPY_MODEL_c64ebdf6d963440190c791e6f9cadc39",
              "IPY_MODEL_46d179dc66074f8fa5f2b768fa714976"
            ]
          }
        },
        "d7fe2bfcfa7943c29ba7cb3a395460dc": {
          "model_module": "@jupyter-widgets/base",
          "model_name": "LayoutModel",
          "state": {
            "_view_name": "LayoutView",
            "grid_template_rows": null,
            "right": null,
            "justify_content": null,
            "_view_module": "@jupyter-widgets/base",
            "overflow": null,
            "_model_module_version": "1.2.0",
            "_view_count": null,
            "flex_flow": null,
            "width": null,
            "min_width": null,
            "border": null,
            "align_items": null,
            "bottom": null,
            "_model_module": "@jupyter-widgets/base",
            "top": null,
            "grid_column": null,
            "overflow_y": null,
            "overflow_x": null,
            "grid_auto_flow": null,
            "grid_area": null,
            "grid_template_columns": null,
            "flex": null,
            "_model_name": "LayoutModel",
            "justify_items": null,
            "grid_row": null,
            "max_height": null,
            "align_content": null,
            "visibility": null,
            "align_self": null,
            "height": null,
            "min_height": null,
            "padding": null,
            "grid_auto_rows": null,
            "grid_gap": null,
            "max_width": null,
            "order": null,
            "_view_module_version": "1.2.0",
            "grid_template_areas": null,
            "object_position": null,
            "object_fit": null,
            "grid_auto_columns": null,
            "margin": null,
            "display": null,
            "left": null
          }
        },
        "c64ebdf6d963440190c791e6f9cadc39": {
          "model_module": "@jupyter-widgets/controls",
          "model_name": "IntProgressModel",
          "state": {
            "_view_name": "ProgressView",
            "style": "IPY_MODEL_93a600bdbfbe428faa2ccaa5335abee8",
            "_dom_classes": [],
            "description": "",
            "_model_name": "IntProgressModel",
            "bar_style": "success",
            "max": 1,
            "_view_module": "@jupyter-widgets/controls",
            "_model_module_version": "1.5.0",
            "value": 1,
            "_view_count": null,
            "_view_module_version": "1.5.0",
            "orientation": "horizontal",
            "min": 0,
            "description_tooltip": null,
            "_model_module": "@jupyter-widgets/controls",
            "layout": "IPY_MODEL_4b52a46c6d154b54873d6e65bd5ad961"
          }
        },
        "46d179dc66074f8fa5f2b768fa714976": {
          "model_module": "@jupyter-widgets/controls",
          "model_name": "HTMLModel",
          "state": {
            "_view_name": "HTMLView",
            "style": "IPY_MODEL_014ef1b5832c46649ffd68cd038a5b10",
            "_dom_classes": [],
            "description": "",
            "_model_name": "HTMLModel",
            "placeholder": "​",
            "_view_module": "@jupyter-widgets/controls",
            "_model_module_version": "1.5.0",
            "value": "8192it [00:00, 45643.56it/s]",
            "_view_count": null,
            "_view_module_version": "1.5.0",
            "description_tooltip": null,
            "_model_module": "@jupyter-widgets/controls",
            "layout": "IPY_MODEL_a31a8445d7f74cb4a810a34d2e05288b"
          }
        },
        "93a600bdbfbe428faa2ccaa5335abee8": {
          "model_module": "@jupyter-widgets/controls",
          "model_name": "ProgressStyleModel",
          "state": {
            "_view_name": "StyleView",
            "_model_name": "ProgressStyleModel",
            "description_width": "",
            "_view_module": "@jupyter-widgets/base",
            "_model_module_version": "1.5.0",
            "_view_count": null,
            "_view_module_version": "1.2.0",
            "bar_color": null,
            "_model_module": "@jupyter-widgets/controls"
          }
        },
        "4b52a46c6d154b54873d6e65bd5ad961": {
          "model_module": "@jupyter-widgets/base",
          "model_name": "LayoutModel",
          "state": {
            "_view_name": "LayoutView",
            "grid_template_rows": null,
            "right": null,
            "justify_content": null,
            "_view_module": "@jupyter-widgets/base",
            "overflow": null,
            "_model_module_version": "1.2.0",
            "_view_count": null,
            "flex_flow": null,
            "width": null,
            "min_width": null,
            "border": null,
            "align_items": null,
            "bottom": null,
            "_model_module": "@jupyter-widgets/base",
            "top": null,
            "grid_column": null,
            "overflow_y": null,
            "overflow_x": null,
            "grid_auto_flow": null,
            "grid_area": null,
            "grid_template_columns": null,
            "flex": null,
            "_model_name": "LayoutModel",
            "justify_items": null,
            "grid_row": null,
            "max_height": null,
            "align_content": null,
            "visibility": null,
            "align_self": null,
            "height": null,
            "min_height": null,
            "padding": null,
            "grid_auto_rows": null,
            "grid_gap": null,
            "max_width": null,
            "order": null,
            "_view_module_version": "1.2.0",
            "grid_template_areas": null,
            "object_position": null,
            "object_fit": null,
            "grid_auto_columns": null,
            "margin": null,
            "display": null,
            "left": null
          }
        },
        "014ef1b5832c46649ffd68cd038a5b10": {
          "model_module": "@jupyter-widgets/controls",
          "model_name": "DescriptionStyleModel",
          "state": {
            "_view_name": "StyleView",
            "_model_name": "DescriptionStyleModel",
            "description_width": "",
            "_view_module": "@jupyter-widgets/base",
            "_model_module_version": "1.5.0",
            "_view_count": null,
            "_view_module_version": "1.2.0",
            "_model_module": "@jupyter-widgets/controls"
          }
        },
        "a31a8445d7f74cb4a810a34d2e05288b": {
          "model_module": "@jupyter-widgets/base",
          "model_name": "LayoutModel",
          "state": {
            "_view_name": "LayoutView",
            "grid_template_rows": null,
            "right": null,
            "justify_content": null,
            "_view_module": "@jupyter-widgets/base",
            "overflow": null,
            "_model_module_version": "1.2.0",
            "_view_count": null,
            "flex_flow": null,
            "width": null,
            "min_width": null,
            "border": null,
            "align_items": null,
            "bottom": null,
            "_model_module": "@jupyter-widgets/base",
            "top": null,
            "grid_column": null,
            "overflow_y": null,
            "overflow_x": null,
            "grid_auto_flow": null,
            "grid_area": null,
            "grid_template_columns": null,
            "flex": null,
            "_model_name": "LayoutModel",
            "justify_items": null,
            "grid_row": null,
            "max_height": null,
            "align_content": null,
            "visibility": null,
            "align_self": null,
            "height": null,
            "min_height": null,
            "padding": null,
            "grid_auto_rows": null,
            "grid_gap": null,
            "max_width": null,
            "order": null,
            "_view_module_version": "1.2.0",
            "grid_template_areas": null,
            "object_position": null,
            "object_fit": null,
            "grid_auto_columns": null,
            "margin": null,
            "display": null,
            "left": null
          }
        }
      }
    }
  },
  "cells": [
    {
      "cell_type": "markdown",
      "metadata": {
        "id": "view-in-github",
        "colab_type": "text"
      },
      "source": [
        "<a href=\"https://colab.research.google.com/github/s-sridhar24/EVA4-S5/blob/master/play_EVA4S5F3.ipynb\" target=\"_parent\"><img src=\"https://colab.research.google.com/assets/colab-badge.svg\" alt=\"Open In Colab\"/></a>"
      ]
    },
    {
      "cell_type": "markdown",
      "metadata": {
        "id": "24nxtgtfgQYM",
        "colab_type": "text"
      },
      "source": [
        "# Program Targets:\n",
        "\n",
        "Consistent accuracy of 99.4%\n",
        "\n",
        "Achieve using less than 10K parameters and in <= 15 epochs\n",
        "\n",
        "Share this as 5 steps with obj, analysis for each step\n",
        "\n",
        "\n",
        "# Step 3 Objectives:\n",
        "\n",
        "Reduce the parameters, reduce overfitting\n",
        "\n",
        "Parameters rationalized in architecture\n",
        "\n",
        "Include small rate of dropout\n"
      ]
    },
    {
      "cell_type": "markdown",
      "metadata": {
        "id": "_OtUY4OVkSlA",
        "colab_type": "text"
      },
      "source": [
        "# Step 3 results and analysis\n",
        "\n",
        "Experimented with various configurations and arrived at this set\n",
        "\n",
        "Tried maxpool after every RF of 5 versus a GAP before L-1 layer. The difference was not much so retained GAP at the end.\n",
        "\n",
        "This resulted in parameters reduction to 11,172\n",
        "\n",
        "**Performance:**\n",
        "\n",
        "Important learning. Each execution gives different results. I got 99.3 and 99.4 several times but did not run the graph cell at the end. So re ran and ended up getting lesser performance. Will be good to get your views on this.\n",
        "\n",
        "The gap between Train and Test is not justifying inclusion of a drop out, experimented with a small number. Though gap between trg and test is low, drop out helps push the test results to be in narrower range and more consistent over epochs.\n",
        "\n",
        "*Myrtle.ai blog by David Page recommends using 32 as batch size for batchnormalization. Tried that (had a small improvement in performance)*\n",
        "\n",
        "Same blog recommended CELU over ReLU, I did not see any change. Sticking to ReLU.\n",
        "\n",
        "** Plan for Step 4 **\n",
        "\n",
        "Retain performance, reduce Parameters below 10K using these rationale:\n",
        "\n",
        "Prefer to use fewer parameters in early layers and retain more for later\n",
        "\n",
        "Prefer depth to breadth\n",
        "\n",
        "\n",
        "\n"
      ]
    },
    {
      "cell_type": "markdown",
      "metadata": {
        "id": "7fGCyxHjM8ni",
        "colab_type": "text"
      },
      "source": [
        "![image.png](data:image/png;base64,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)"
      ]
    },
    {
      "cell_type": "markdown",
      "metadata": {
        "id": "aO-7t1Y7-hV4",
        "colab_type": "text"
      },
      "source": [
        "# Import Libraries"
      ]
    },
    {
      "cell_type": "code",
      "metadata": {
        "id": "8kH16rnZ7wt_",
        "colab_type": "code",
        "colab": {}
      },
      "source": [
        "from __future__ import print_function\n",
        "import torch\n",
        "import torch.nn as nn\n",
        "import torch.nn.functional as F\n",
        "import torch.optim as optim\n",
        "from torchvision import datasets, transforms\n",
        "import matplotlib.pyplot as plt"
      ],
      "execution_count": 0,
      "outputs": []
    },
    {
      "cell_type": "markdown",
      "metadata": {
        "id": "ky3f_Odl-7um",
        "colab_type": "text"
      },
      "source": [
        "## Data Transformations\n",
        "\n",
        "We first start with defining our data transformations. We need to think what our data is and how can we augment it to correct represent images which it might not see otherwise. \n"
      ]
    },
    {
      "cell_type": "code",
      "metadata": {
        "id": "YtssFUKb-jqx",
        "colab_type": "code",
        "colab": {}
      },
      "source": [
        "# Train Phase transformations\n",
        "train_transforms = transforms.Compose([\n",
        "                                      #  transforms.Resize((28, 28)),\n",
        "                                       #transforms.ColorJitter(brightness=0.10, contrast=0.1, saturation=0.10, hue=0.1),\n",
        "                                       #transforms.RandomAffine(degrees=10, translate=(0.1,0.1), scale=(0.9, 1.1)),\n",
        "                                       #transforms.RandomRotation((-7.0, 7.0), fill=(1,)),\n",
        "                                       transforms.ToTensor(),\n",
        "                                       transforms.Normalize((0.1307,), (0.3081,)) # The mean and std have to be sequences (e.g., tuples), therefore you should add a comma after the values. \n",
        "                                       # Note the difference between (0.1307) and (0.1307,)\n",
        "                                       ])\n",
        "\n",
        "# Test Phase transformations\n",
        "test_transforms = transforms.Compose([\n",
        "                                       #transforms.Resize((28, 28)),\n",
        "                                       #transforms.ColorJitter(brightness=0.10, contrast=0.1, saturation=0.10, hue=0.1),\n",
        "                                       transforms.ToTensor(),\n",
        "                                       transforms.Normalize((0.1307,), (0.3081,))\n",
        "                                       ])\n"
      ],
      "execution_count": 0,
      "outputs": []
    },
    {
      "cell_type": "markdown",
      "metadata": {
        "id": "oQciFYo2B1mO",
        "colab_type": "text"
      },
      "source": [
        "# Dataset and Creating Train/Test Split"
      ]
    },
    {
      "cell_type": "code",
      "metadata": {
        "id": "_4A84rlfDA23",
        "colab_type": "code",
        "colab": {
          "base_uri": "https://localhost:8080/",
          "height": 411,
          "referenced_widgets": [
            "3812e77e893d4bab93f3f8d16f10ca09",
            "0c7881fd87bd46e7b597a0d5292ecb27",
            "77ad9d91c4fe4318900f745b1e015d06",
            "af6358c6652747858033ab14a55e160b",
            "292f67d8ac994642a16e03db1ca2340f",
            "5998931bc9e5463d9f84d8f839ed717b",
            "7faf18d5b3af45e18803f9c2e1ca5eb9",
            "abf2e6b3278f4454813f1de9a80979a9",
            "2c235111a0b2478ca2c8ef6ec7d87047",
            "a7c57b5a691f4525a9d0fa740c28be90",
            "d4a556b7285d4ba5ac16e9726fe0df7b",
            "80395ca232a34cd2a9659724551136e7",
            "cdaa0473e7794d0dba06e8788815d79a",
            "1efe2fc41bbe4f6e8797bae1d82669ce",
            "34ccecb42a15423b829009b14d0e7033",
            "f21d9ef3af5746da8d096ff1c253977b",
            "e7dad273857e4ab4bd0be30d7c2bb3e8",
            "2f8c82f0432e4a6287a7c0f82dacecf9",
            "ab93b6d3c8914c68973ef7e5fd0c8eef",
            "bedd03d8771942039779417c12c06627",
            "35f892f38e904f9d9bfd0d0c92653e6d",
            "75171383ad2b462a82168c1fda8d65a4",
            "c280e4fd272b4235955ba441164eb261",
            "e5b24fb79e05446caea70127d64ef42b",
            "9144a742b54f49fd92f9ca50fa62c86e",
            "d7fe2bfcfa7943c29ba7cb3a395460dc",
            "c64ebdf6d963440190c791e6f9cadc39",
            "46d179dc66074f8fa5f2b768fa714976",
            "93a600bdbfbe428faa2ccaa5335abee8",
            "4b52a46c6d154b54873d6e65bd5ad961",
            "014ef1b5832c46649ffd68cd038a5b10",
            "a31a8445d7f74cb4a810a34d2e05288b"
          ]
        },
        "outputId": "4d1f882a-b51f-493b-fbba-5d84b0c7549f"
      },
      "source": [
        "train = datasets.MNIST('./data', train=True, download=True, transform=train_transforms)\n",
        "test = datasets.MNIST('./data', train=False, download=True, transform=test_transforms)"
      ],
      "execution_count": 3,
      "outputs": [
        {
          "output_type": "stream",
          "text": [
            "Downloading http://yann.lecun.com/exdb/mnist/train-images-idx3-ubyte.gz to ./data/MNIST/raw/train-images-idx3-ubyte.gz\n"
          ],
          "name": "stdout"
        },
        {
          "output_type": "display_data",
          "data": {
            "application/vnd.jupyter.widget-view+json": {
              "model_id": "3812e77e893d4bab93f3f8d16f10ca09",
              "version_minor": 0,
              "version_major": 2
            },
            "text/plain": [
              "HBox(children=(IntProgress(value=1, bar_style='info', max=1), HTML(value='')))"
            ]
          },
          "metadata": {
            "tags": []
          }
        },
        {
          "output_type": "stream",
          "text": [
            "\n",
            "Extracting ./data/MNIST/raw/train-images-idx3-ubyte.gz to ./data/MNIST/raw\n",
            "Downloading http://yann.lecun.com/exdb/mnist/train-labels-idx1-ubyte.gz to ./data/MNIST/raw/train-labels-idx1-ubyte.gz\n"
          ],
          "name": "stdout"
        },
        {
          "output_type": "display_data",
          "data": {
            "application/vnd.jupyter.widget-view+json": {
              "model_id": "2c235111a0b2478ca2c8ef6ec7d87047",
              "version_minor": 0,
              "version_major": 2
            },
            "text/plain": [
              "HBox(children=(IntProgress(value=1, bar_style='info', max=1), HTML(value='')))"
            ]
          },
          "metadata": {
            "tags": []
          }
        },
        {
          "output_type": "stream",
          "text": [
            "\n",
            "Extracting ./data/MNIST/raw/train-labels-idx1-ubyte.gz to ./data/MNIST/raw\n",
            "Downloading http://yann.lecun.com/exdb/mnist/t10k-images-idx3-ubyte.gz to ./data/MNIST/raw/t10k-images-idx3-ubyte.gz\n"
          ],
          "name": "stdout"
        },
        {
          "output_type": "display_data",
          "data": {
            "application/vnd.jupyter.widget-view+json": {
              "model_id": "e7dad273857e4ab4bd0be30d7c2bb3e8",
              "version_minor": 0,
              "version_major": 2
            },
            "text/plain": [
              "HBox(children=(IntProgress(value=1, bar_style='info', max=1), HTML(value='')))"
            ]
          },
          "metadata": {
            "tags": []
          }
        },
        {
          "output_type": "stream",
          "text": [
            "\n",
            "Extracting ./data/MNIST/raw/t10k-images-idx3-ubyte.gz to ./data/MNIST/raw\n",
            "Downloading http://yann.lecun.com/exdb/mnist/t10k-labels-idx1-ubyte.gz to ./data/MNIST/raw/t10k-labels-idx1-ubyte.gz\n"
          ],
          "name": "stdout"
        },
        {
          "output_type": "display_data",
          "data": {
            "application/vnd.jupyter.widget-view+json": {
              "model_id": "9144a742b54f49fd92f9ca50fa62c86e",
              "version_minor": 0,
              "version_major": 2
            },
            "text/plain": [
              "HBox(children=(IntProgress(value=1, bar_style='info', max=1), HTML(value='')))"
            ]
          },
          "metadata": {
            "tags": []
          }
        },
        {
          "output_type": "stream",
          "text": [
            "\n",
            "Extracting ./data/MNIST/raw/t10k-labels-idx1-ubyte.gz to ./data/MNIST/raw\n",
            "Processing...\n",
            "Done!\n"
          ],
          "name": "stdout"
        }
      ]
    },
    {
      "cell_type": "markdown",
      "metadata": {
        "id": "qgldp_3-Dn0c",
        "colab_type": "text"
      },
      "source": [
        "# Dataloader Arguments & Test/Train Dataloaders\n"
      ]
    },
    {
      "cell_type": "code",
      "metadata": {
        "id": "C8OLDR79DrHG",
        "colab_type": "code",
        "outputId": "e6f48092-ac73-4f08-d595-6b4df00ac422",
        "colab": {
          "base_uri": "https://localhost:8080/",
          "height": 428
        }
      },
      "source": [
        "SEED = 1\n",
        "\n",
        "# CUDA?\n",
        "cuda = torch.cuda.is_available()\n",
        "print(\"CUDA Available?\", cuda)\n",
        "\n",
        "# For reproducibility\n",
        "torch.manual_seed(SEED)\n",
        "\n",
        "if cuda:\n",
        "    torch.cuda.manual_seed(SEED)\n",
        "\n",
        "# dataloader arguments - something you'll fetch these from cmdprmt\n",
        "dataloader_args = dict(shuffle=True, batch_size=128, num_workers=4, pin_memory=True) if cuda else dict(shuffle=True, batch_size=64)\n",
        "#dataloader_args = dict(shuffle=True, batch_size=32, num_workers=4, pin_memory=True) if cuda else dict(shuffle=True, batch_size=32)\n",
        "\n",
        "# train dataloader\n",
        "train_loader = torch.utils.data.DataLoader(train, **dataloader_args)\n",
        "\n",
        "# test dataloader\n",
        "test_loader = torch.utils.data.DataLoader(test, **dataloader_args)"
      ],
      "execution_count": 12,
      "outputs": [
        {
          "output_type": "stream",
          "text": [
            "CUDA Available? True\n"
          ],
          "name": "stdout"
        },
        {
          "output_type": "error",
          "ename": "TypeError",
          "evalue": "ignored",
          "traceback": [
            "\u001b[0;31m---------------------------------------------------------------------------\u001b[0m",
            "\u001b[0;31mTypeError\u001b[0m                                 Traceback (most recent call last)",
            "\u001b[0;32m<ipython-input-12-bdc0fdc457c6>\u001b[0m in \u001b[0;36m<module>\u001b[0;34m()\u001b[0m\n\u001b[1;32m     16\u001b[0m \u001b[0;34m\u001b[0m\u001b[0m\n\u001b[1;32m     17\u001b[0m \u001b[0;31m# train dataloader\u001b[0m\u001b[0;34m\u001b[0m\u001b[0;34m\u001b[0m\u001b[0;34m\u001b[0m\u001b[0m\n\u001b[0;32m---> 18\u001b[0;31m \u001b[0mtrain_loader\u001b[0m \u001b[0;34m=\u001b[0m \u001b[0mtorch\u001b[0m\u001b[0;34m.\u001b[0m\u001b[0mutils\u001b[0m\u001b[0;34m.\u001b[0m\u001b[0mdata\u001b[0m\u001b[0;34m.\u001b[0m\u001b[0mDataLoader\u001b[0m\u001b[0;34m(\u001b[0m\u001b[0mtrain\u001b[0m\u001b[0;34m,\u001b[0m \u001b[0;34m**\u001b[0m\u001b[0mdataloader_args\u001b[0m\u001b[0;34m)\u001b[0m\u001b[0;34m\u001b[0m\u001b[0;34m\u001b[0m\u001b[0m\n\u001b[0m\u001b[1;32m     19\u001b[0m \u001b[0;34m\u001b[0m\u001b[0m\n\u001b[1;32m     20\u001b[0m \u001b[0;31m# test dataloader\u001b[0m\u001b[0;34m\u001b[0m\u001b[0;34m\u001b[0m\u001b[0;34m\u001b[0m\u001b[0m\n",
            "\u001b[0;32m/usr/local/lib/python3.6/dist-packages/torch/utils/data/dataloader.py\u001b[0m in \u001b[0;36m__init__\u001b[0;34m(self, dataset, batch_size, shuffle, sampler, batch_sampler, num_workers, collate_fn, pin_memory, drop_last, timeout, worker_init_fn, multiprocessing_context)\u001b[0m\n\u001b[1;32m    211\u001b[0m             \u001b[0;32melse\u001b[0m\u001b[0;34m:\u001b[0m  \u001b[0;31m# map-style\u001b[0m\u001b[0;34m\u001b[0m\u001b[0;34m\u001b[0m\u001b[0m\n\u001b[1;32m    212\u001b[0m                 \u001b[0;32mif\u001b[0m \u001b[0mshuffle\u001b[0m\u001b[0;34m:\u001b[0m\u001b[0;34m\u001b[0m\u001b[0;34m\u001b[0m\u001b[0m\n\u001b[0;32m--> 213\u001b[0;31m                     \u001b[0msampler\u001b[0m \u001b[0;34m=\u001b[0m \u001b[0mRandomSampler\u001b[0m\u001b[0;34m(\u001b[0m\u001b[0mdataset\u001b[0m\u001b[0;34m)\u001b[0m\u001b[0;34m\u001b[0m\u001b[0;34m\u001b[0m\u001b[0m\n\u001b[0m\u001b[1;32m    214\u001b[0m                 \u001b[0;32melse\u001b[0m\u001b[0;34m:\u001b[0m\u001b[0;34m\u001b[0m\u001b[0;34m\u001b[0m\u001b[0m\n\u001b[1;32m    215\u001b[0m                     \u001b[0msampler\u001b[0m \u001b[0;34m=\u001b[0m \u001b[0mSequentialSampler\u001b[0m\u001b[0;34m(\u001b[0m\u001b[0mdataset\u001b[0m\u001b[0;34m)\u001b[0m\u001b[0;34m\u001b[0m\u001b[0;34m\u001b[0m\u001b[0m\n",
            "\u001b[0;32m/usr/local/lib/python3.6/dist-packages/torch/utils/data/sampler.py\u001b[0m in \u001b[0;36m__init__\u001b[0;34m(self, data_source, replacement, num_samples)\u001b[0m\n\u001b[1;32m     90\u001b[0m                              \"since a random permute will be performed.\")\n\u001b[1;32m     91\u001b[0m \u001b[0;34m\u001b[0m\u001b[0m\n\u001b[0;32m---> 92\u001b[0;31m         \u001b[0;32mif\u001b[0m \u001b[0;32mnot\u001b[0m \u001b[0misinstance\u001b[0m\u001b[0;34m(\u001b[0m\u001b[0mself\u001b[0m\u001b[0;34m.\u001b[0m\u001b[0mnum_samples\u001b[0m\u001b[0;34m,\u001b[0m \u001b[0mint\u001b[0m\u001b[0;34m)\u001b[0m \u001b[0;32mor\u001b[0m \u001b[0mself\u001b[0m\u001b[0;34m.\u001b[0m\u001b[0mnum_samples\u001b[0m \u001b[0;34m<=\u001b[0m \u001b[0;36m0\u001b[0m\u001b[0;34m:\u001b[0m\u001b[0;34m\u001b[0m\u001b[0;34m\u001b[0m\u001b[0m\n\u001b[0m\u001b[1;32m     93\u001b[0m             raise ValueError(\"num_samples should be a positive integer \"\n\u001b[1;32m     94\u001b[0m                              \"value, but got num_samples={}\".format(self.num_samples))\n",
            "\u001b[0;32m/usr/local/lib/python3.6/dist-packages/torch/utils/data/sampler.py\u001b[0m in \u001b[0;36mnum_samples\u001b[0;34m(self)\u001b[0m\n\u001b[1;32m     98\u001b[0m         \u001b[0;31m# dataset size might change at runtime\u001b[0m\u001b[0;34m\u001b[0m\u001b[0;34m\u001b[0m\u001b[0;34m\u001b[0m\u001b[0m\n\u001b[1;32m     99\u001b[0m         \u001b[0;32mif\u001b[0m \u001b[0mself\u001b[0m\u001b[0;34m.\u001b[0m\u001b[0m_num_samples\u001b[0m \u001b[0;32mis\u001b[0m \u001b[0;32mNone\u001b[0m\u001b[0;34m:\u001b[0m\u001b[0;34m\u001b[0m\u001b[0;34m\u001b[0m\u001b[0m\n\u001b[0;32m--> 100\u001b[0;31m             \u001b[0;32mreturn\u001b[0m \u001b[0mlen\u001b[0m\u001b[0;34m(\u001b[0m\u001b[0mself\u001b[0m\u001b[0;34m.\u001b[0m\u001b[0mdata_source\u001b[0m\u001b[0;34m)\u001b[0m\u001b[0;34m\u001b[0m\u001b[0;34m\u001b[0m\u001b[0m\n\u001b[0m\u001b[1;32m    101\u001b[0m         \u001b[0;32mreturn\u001b[0m \u001b[0mself\u001b[0m\u001b[0;34m.\u001b[0m\u001b[0m_num_samples\u001b[0m\u001b[0;34m\u001b[0m\u001b[0;34m\u001b[0m\u001b[0m\n\u001b[1;32m    102\u001b[0m \u001b[0;34m\u001b[0m\u001b[0m\n",
            "\u001b[0;31mTypeError\u001b[0m: object of type 'function' has no len()"
          ]
        }
      ]
    },
    {
      "cell_type": "markdown",
      "metadata": {
        "id": "-TFjoFekE_va",
        "colab_type": "text"
      },
      "source": [
        "# Data Statistics\n",
        "\n",
        "Same dataset so not important in this step"
      ]
    },
    {
      "cell_type": "markdown",
      "metadata": {
        "id": "ubQL3H6RJL3h",
        "colab_type": "text"
      },
      "source": [
        "# The model\n"
      ]
    },
    {
      "cell_type": "code",
      "metadata": {
        "id": "V9IiSpaMR4yJ",
        "colab_type": "code",
        "colab": {}
      },
      "source": [
        "import torch.nn.functional as F\n",
        "dropout_value = 0.03\n",
        "class Net(nn.Module):\n",
        "    def __init__(self):\n",
        "        super(Net, self).__init__()\n",
        "        # Input Block\n",
        "        self.convblock1 = nn.Sequential(\n",
        "            nn.Conv2d(in_channels=1, out_channels=16, kernel_size=(3, 3), padding=0, bias=False),\n",
        "            nn.ReLU(),\n",
        "            nn.BatchNorm2d(16),\n",
        "            nn.Dropout(dropout_value)\n",
        "        ) # output_size = 26\n",
        "\n",
        "        # CONVOLUTION BLOCK 1\n",
        "        self.convblock2 = nn.Sequential(\n",
        "            nn.Conv2d(in_channels=16, out_channels=32, kernel_size=(3, 3), padding=0, bias=False),\n",
        "            nn.ReLU(),\n",
        "            nn.BatchNorm2d(32),\n",
        "            nn.Dropout(dropout_value)\n",
        "        ) # output_size = 24\n",
        "\n",
        "        # TRANSITION BLOCK 1\n",
        "        self.convblock3 = nn.Sequential(\n",
        "            nn.Conv2d(in_channels=32, out_channels=10, kernel_size=(1, 1), padding=0, bias=False),\n",
        "            nn.ReLU(),\n",
        "            nn.BatchNorm2d(10),\n",
        "            nn.Dropout(dropout_value)\n",
        "        ) # output_size = 24\n",
        "        self.pool1 = nn.MaxPool2d(2, 2) # output_size = 12\n",
        "\n",
        "        # CONVOLUTION BLOCK 2\n",
        "        self.convblock4 = nn.Sequential(\n",
        "            nn.Conv2d(in_channels=10, out_channels=16, kernel_size=(3, 3), padding=0, bias=False),\n",
        "            nn.ReLU(),            \n",
        "            nn.BatchNorm2d(16),\n",
        "            nn.Dropout(dropout_value)\n",
        "        ) # output_size = 10\n",
        "        self.convblock5 = nn.Sequential(\n",
        "            nn.Conv2d(in_channels=16, out_channels=12, kernel_size=(3, 3), padding=0, bias=False),\n",
        "            nn.ReLU(),            \n",
        "            nn.BatchNorm2d(12),\n",
        "            nn.Dropout(dropout_value)\n",
        "        ) # output_size = 8\n",
        "        self.convblock6 = nn.Sequential(\n",
        "            nn.Conv2d(in_channels=12, out_channels=12, kernel_size=(3, 3), padding=0, bias=False),\n",
        "            nn.ReLU(),            \n",
        "            nn.BatchNorm2d(12),\n",
        "            nn.Dropout(dropout_value)\n",
        "        ) # output_size = 6\n",
        "        self.convblock7 = nn.Sequential(\n",
        "            nn.Conv2d(in_channels=12, out_channels=12, kernel_size=(3, 3), padding=1, bias=False),\n",
        "            nn.ReLU(),            \n",
        "            nn.BatchNorm2d(12),\n",
        "            nn.Dropout(dropout_value)\n",
        "        ) # output_size = 6\n",
        "        \n",
        "        # OUTPUT BLOCK\n",
        "        self.gap = nn.Sequential(\n",
        "            nn.AvgPool2d(kernel_size=6)\n",
        "        ) # output_size = 1\n",
        "\n",
        "        self.convblock8 = nn.Sequential(\n",
        "            nn.Conv2d(in_channels=12, out_channels=10, kernel_size=(1, 1), padding=0, bias=False),\n",
        "            # nn.BatchNorm2d(10),\n",
        "            # nn.ReLU(),\n",
        "            # nn.Dropout(dropout_value)\n",
        "        ) \n",
        "\n",
        "\n",
        "        self.dropout = nn.Dropout(dropout_value)\n",
        "\n",
        "    def forward(self, x):\n",
        "        x = self.convblock1(x)\n",
        "        x = self.convblock2(x)\n",
        "        x = self.convblock3(x)\n",
        "        x = self.pool1(x)\n",
        "        x = self.convblock4(x)\n",
        "        x = self.convblock5(x)\n",
        "        x = self.convblock6(x)\n",
        "        x = self.convblock7(x)\n",
        "        x = self.gap(x)        \n",
        "        x = self.convblock8(x)\n",
        "\n",
        "        x = x.view(-1, 10)\n",
        "        return F.log_softmax(x, dim=-1)"
      ],
      "execution_count": 0,
      "outputs": []
    },
    {
      "cell_type": "markdown",
      "metadata": {
        "id": "M3-vp8X9LCWo",
        "colab_type": "text"
      },
      "source": [
        "# Model Params\n",
        "Can't emphasize on how important viewing Model Summary is. \n",
        "Unfortunately, there is no in-built model visualizer, so we have to take external help"
      ]
    },
    {
      "cell_type": "code",
      "metadata": {
        "id": "5skB97zIJQQe",
        "colab_type": "code",
        "outputId": "4af36d89-eb08-4c1a-81ac-e033c501135c",
        "colab": {
          "base_uri": "https://localhost:8080/",
          "height": 893
        }
      },
      "source": [
        "!pip install torchsummary\n",
        "from torchsummary import summary\n",
        "use_cuda = torch.cuda.is_available()\n",
        "device = torch.device(\"cuda\" if use_cuda else \"cpu\")\n",
        "print(device)\n",
        "model = Net().to(device)\n",
        "summary(model, input_size=(1, 28, 28))"
      ],
      "execution_count": 14,
      "outputs": [
        {
          "output_type": "stream",
          "text": [
            "Requirement already satisfied: torchsummary in /usr/local/lib/python3.6/dist-packages (1.5.1)\n",
            "cuda\n",
            "----------------------------------------------------------------\n",
            "        Layer (type)               Output Shape         Param #\n",
            "================================================================\n",
            "            Conv2d-1           [-1, 16, 26, 26]             144\n",
            "              ReLU-2           [-1, 16, 26, 26]               0\n",
            "       BatchNorm2d-3           [-1, 16, 26, 26]              32\n",
            "           Dropout-4           [-1, 16, 26, 26]               0\n",
            "            Conv2d-5           [-1, 32, 24, 24]           4,608\n",
            "              ReLU-6           [-1, 32, 24, 24]               0\n",
            "       BatchNorm2d-7           [-1, 32, 24, 24]              64\n",
            "           Dropout-8           [-1, 32, 24, 24]               0\n",
            "            Conv2d-9           [-1, 10, 24, 24]             320\n",
            "             ReLU-10           [-1, 10, 24, 24]               0\n",
            "      BatchNorm2d-11           [-1, 10, 24, 24]              20\n",
            "          Dropout-12           [-1, 10, 24, 24]               0\n",
            "        MaxPool2d-13           [-1, 10, 12, 12]               0\n",
            "           Conv2d-14           [-1, 16, 10, 10]           1,440\n",
            "             ReLU-15           [-1, 16, 10, 10]               0\n",
            "      BatchNorm2d-16           [-1, 16, 10, 10]              32\n",
            "          Dropout-17           [-1, 16, 10, 10]               0\n",
            "           Conv2d-18             [-1, 12, 8, 8]           1,728\n",
            "             ReLU-19             [-1, 12, 8, 8]               0\n",
            "      BatchNorm2d-20             [-1, 12, 8, 8]              24\n",
            "          Dropout-21             [-1, 12, 8, 8]               0\n",
            "           Conv2d-22             [-1, 12, 6, 6]           1,296\n",
            "             ReLU-23             [-1, 12, 6, 6]               0\n",
            "      BatchNorm2d-24             [-1, 12, 6, 6]              24\n",
            "          Dropout-25             [-1, 12, 6, 6]               0\n",
            "           Conv2d-26             [-1, 12, 6, 6]           1,296\n",
            "             ReLU-27             [-1, 12, 6, 6]               0\n",
            "      BatchNorm2d-28             [-1, 12, 6, 6]              24\n",
            "          Dropout-29             [-1, 12, 6, 6]               0\n",
            "        AvgPool2d-30             [-1, 12, 1, 1]               0\n",
            "           Conv2d-31             [-1, 10, 1, 1]             120\n",
            "================================================================\n",
            "Total params: 11,172\n",
            "Trainable params: 11,172\n",
            "Non-trainable params: 0\n",
            "----------------------------------------------------------------\n",
            "Input size (MB): 0.00\n",
            "Forward/backward pass size (MB): 1.18\n",
            "Params size (MB): 0.04\n",
            "Estimated Total Size (MB): 1.22\n",
            "----------------------------------------------------------------\n"
          ],
          "name": "stdout"
        }
      ]
    },
    {
      "cell_type": "markdown",
      "metadata": {
        "id": "1__x_SbrL7z3",
        "colab_type": "text"
      },
      "source": [
        "# Training and Testing\n",
        "\n",
        "Looking at logs can be boring, so we'll introduce **tqdm** progressbar to get cooler logs. \n",
        "\n",
        "Let's write train and test functions"
      ]
    },
    {
      "cell_type": "code",
      "metadata": {
        "id": "fbkF2nN_LYIb",
        "colab_type": "code",
        "colab": {}
      },
      "source": [
        "from tqdm import tqdm\n",
        "\n",
        "train_losses = []\n",
        "test_losses = []\n",
        "train_acc = []\n",
        "test_acc = []\n",
        "\n",
        "def train(model, device, train_loader, optimizer, epoch):\n",
        "  model.train()\n",
        "  pbar = tqdm(train_loader)\n",
        "  correct = 0\n",
        "  processed = 0\n",
        "  for batch_idx, (data, target) in enumerate(pbar):\n",
        "    # get samples\n",
        "    data, target = data.to(device), target.to(device)\n",
        "\n",
        "    # Init\n",
        "    optimizer.zero_grad()\n",
        "    # In PyTorch, we need to set the gradients to zero before starting to do backpropragation because PyTorch accumulates the gradients on subsequent backward passes. \n",
        "    # Because of this, when you start your training loop, ideally you should zero out the gradients so that you do the parameter update correctly.\n",
        "\n",
        "    # Predict\n",
        "    y_pred = model(data)\n",
        "\n",
        "    # Calculate loss\n",
        "    loss = F.nll_loss(y_pred, target)\n",
        "    train_losses.append(loss)\n",
        "\n",
        "    # Backpropagation\n",
        "    loss.backward()\n",
        "    optimizer.step()\n",
        "\n",
        "    # Update pbar-tqdm\n",
        "    \n",
        "    pred = y_pred.argmax(dim=1, keepdim=True)  # get the index of the max log-probability\n",
        "    correct += pred.eq(target.view_as(pred)).sum().item()\n",
        "    processed += len(data)\n",
        "\n",
        "    pbar.set_description(desc= f'Loss={loss.item()} Batch_id={batch_idx} Accuracy={100*correct/processed:0.2f}')\n",
        "    train_acc.append(100*correct/processed)\n",
        "\n",
        "def test(model, device, test_loader):\n",
        "    model.eval()\n",
        "    test_loss = 0\n",
        "    correct = 0\n",
        "    with torch.no_grad():\n",
        "        for data, target in test_loader:\n",
        "            data, target = data.to(device), target.to(device)\n",
        "            output = model(data)\n",
        "            test_loss += F.nll_loss(output, target, reduction='sum').item()  # sum up batch loss\n",
        "            pred = output.argmax(dim=1, keepdim=True)  # get the index of the max log-probability\n",
        "            correct += pred.eq(target.view_as(pred)).sum().item()\n",
        "\n",
        "    test_loss /= len(test_loader.dataset)\n",
        "    test_losses.append(test_loss)\n",
        "\n",
        "    print('\\nTest set: Average loss: {:.4f}, Accuracy: {}/{} ({:.2f}%)\\n'.format(\n",
        "        test_loss, correct, len(test_loader.dataset),\n",
        "        100. * correct / len(test_loader.dataset)))\n",
        "    \n",
        "    test_acc.append(100. * correct / len(test_loader.dataset))"
      ],
      "execution_count": 0,
      "outputs": []
    },
    {
      "cell_type": "markdown",
      "metadata": {
        "id": "drokW8wWODKq",
        "colab_type": "text"
      },
      "source": [
        "# Let's Train and test our model"
      ]
    },
    {
      "cell_type": "code",
      "metadata": {
        "id": "xMCFxeAKOB53",
        "colab_type": "code",
        "outputId": "fa840120-210c-4b0c-8654-1e5bd4969a7b",
        "colab": {
          "base_uri": "https://localhost:8080/",
          "height": 1000
        }
      },
      "source": [
        "from torch.optim.lr_scheduler import StepLR\n",
        "\n",
        "model =  Net().to(device)\n",
        "optimizer = optim.SGD(model.parameters(), lr=0.01, momentum=0.9)\n",
        "scheduler = StepLR(optimizer, step_size=5, gamma=0.1)\n",
        "\n",
        "EPOCHS = 15\n",
        "for epoch in range(EPOCHS):\n",
        "    print(\"EPOCH:\", epoch)\n",
        "    train(model, device, train_loader, optimizer, epoch)\n",
        "    test(model, device, test_loader)"
      ],
      "execution_count": 16,
      "outputs": [
        {
          "output_type": "stream",
          "text": [
            "\r  0%|          | 0/1875 [00:00<?, ?it/s]"
          ],
          "name": "stderr"
        },
        {
          "output_type": "stream",
          "text": [
            "EPOCH: 0\n"
          ],
          "name": "stdout"
        },
        {
          "output_type": "stream",
          "text": [
            "Loss=0.036050766706466675 Batch_id=1874 Accuracy=94.07: 100%|██████████| 1875/1875 [00:27<00:00, 78.57it/s]\n",
            "  0%|          | 0/1875 [00:00<?, ?it/s]"
          ],
          "name": "stderr"
        },
        {
          "output_type": "stream",
          "text": [
            "\n",
            "Test set: Average loss: 0.0528, Accuracy: 9840/10000 (98.40%)\n",
            "\n",
            "EPOCH: 1\n"
          ],
          "name": "stdout"
        },
        {
          "output_type": "stream",
          "text": [
            "Loss=0.02222101390361786 Batch_id=1874 Accuracy=98.22: 100%|██████████| 1875/1875 [00:26<00:00, 69.54it/s]\n",
            "  0%|          | 0/1875 [00:00<?, ?it/s]"
          ],
          "name": "stderr"
        },
        {
          "output_type": "stream",
          "text": [
            "\n",
            "Test set: Average loss: 0.0321, Accuracy: 9900/10000 (99.00%)\n",
            "\n",
            "EPOCH: 2\n"
          ],
          "name": "stdout"
        },
        {
          "output_type": "stream",
          "text": [
            "Loss=0.03239883482456207 Batch_id=1874 Accuracy=98.47: 100%|██████████| 1875/1875 [00:26<00:00, 69.66it/s]\n",
            "  0%|          | 0/1875 [00:00<?, ?it/s]"
          ],
          "name": "stderr"
        },
        {
          "output_type": "stream",
          "text": [
            "\n",
            "Test set: Average loss: 0.0290, Accuracy: 9912/10000 (99.12%)\n",
            "\n",
            "EPOCH: 3\n"
          ],
          "name": "stdout"
        },
        {
          "output_type": "stream",
          "text": [
            "Loss=0.011262238025665283 Batch_id=1874 Accuracy=98.63: 100%|██████████| 1875/1875 [00:27<00:00, 69.05it/s]\n",
            "  0%|          | 0/1875 [00:00<?, ?it/s]"
          ],
          "name": "stderr"
        },
        {
          "output_type": "stream",
          "text": [
            "\n",
            "Test set: Average loss: 0.0269, Accuracy: 9915/10000 (99.15%)\n",
            "\n",
            "EPOCH: 4\n"
          ],
          "name": "stdout"
        },
        {
          "output_type": "stream",
          "text": [
            "Loss=0.004012763500213623 Batch_id=1874 Accuracy=98.78: 100%|██████████| 1875/1875 [00:27<00:00, 69.36it/s]\n",
            "  0%|          | 0/1875 [00:00<?, ?it/s]"
          ],
          "name": "stderr"
        },
        {
          "output_type": "stream",
          "text": [
            "\n",
            "Test set: Average loss: 0.0270, Accuracy: 9915/10000 (99.15%)\n",
            "\n",
            "EPOCH: 5\n"
          ],
          "name": "stdout"
        },
        {
          "output_type": "stream",
          "text": [
            "Loss=0.0021077394485473633 Batch_id=1874 Accuracy=98.88: 100%|██████████| 1875/1875 [00:27<00:00, 68.65it/s]\n",
            "  0%|          | 0/1875 [00:00<?, ?it/s]"
          ],
          "name": "stderr"
        },
        {
          "output_type": "stream",
          "text": [
            "\n",
            "Test set: Average loss: 0.0232, Accuracy: 9929/10000 (99.29%)\n",
            "\n",
            "EPOCH: 6\n"
          ],
          "name": "stdout"
        },
        {
          "output_type": "stream",
          "text": [
            "Loss=0.0670837014913559 Batch_id=1874 Accuracy=98.97: 100%|██████████| 1875/1875 [00:26<00:00, 69.80it/s]\n",
            "  0%|          | 0/1875 [00:00<?, ?it/s]"
          ],
          "name": "stderr"
        },
        {
          "output_type": "stream",
          "text": [
            "\n",
            "Test set: Average loss: 0.0264, Accuracy: 9908/10000 (99.08%)\n",
            "\n",
            "EPOCH: 7\n"
          ],
          "name": "stdout"
        },
        {
          "output_type": "stream",
          "text": [
            "Loss=0.003284141421318054 Batch_id=1874 Accuracy=99.02: 100%|██████████| 1875/1875 [00:27<00:00, 69.41it/s]\n",
            "  0%|          | 0/1875 [00:00<?, ?it/s]"
          ],
          "name": "stderr"
        },
        {
          "output_type": "stream",
          "text": [
            "\n",
            "Test set: Average loss: 0.0247, Accuracy: 9924/10000 (99.24%)\n",
            "\n",
            "EPOCH: 8\n"
          ],
          "name": "stdout"
        },
        {
          "output_type": "stream",
          "text": [
            "Loss=0.00407041609287262 Batch_id=1874 Accuracy=99.03: 100%|██████████| 1875/1875 [00:27<00:00, 69.33it/s]\n",
            "  0%|          | 0/1875 [00:00<?, ?it/s]"
          ],
          "name": "stderr"
        },
        {
          "output_type": "stream",
          "text": [
            "\n",
            "Test set: Average loss: 0.0225, Accuracy: 9929/10000 (99.29%)\n",
            "\n",
            "EPOCH: 9\n"
          ],
          "name": "stdout"
        },
        {
          "output_type": "stream",
          "text": [
            "Loss=0.07853575050830841 Batch_id=1874 Accuracy=99.12: 100%|██████████| 1875/1875 [00:27<00:00, 69.15it/s]\n",
            "  0%|          | 0/1875 [00:00<?, ?it/s]"
          ],
          "name": "stderr"
        },
        {
          "output_type": "stream",
          "text": [
            "\n",
            "Test set: Average loss: 0.0213, Accuracy: 9939/10000 (99.39%)\n",
            "\n",
            "EPOCH: 10\n"
          ],
          "name": "stdout"
        },
        {
          "output_type": "stream",
          "text": [
            "Loss=0.0007030367851257324 Batch_id=1874 Accuracy=99.18: 100%|██████████| 1875/1875 [00:27<00:00, 69.32it/s]\n",
            "  0%|          | 0/1875 [00:00<?, ?it/s]"
          ],
          "name": "stderr"
        },
        {
          "output_type": "stream",
          "text": [
            "\n",
            "Test set: Average loss: 0.0232, Accuracy: 9933/10000 (99.33%)\n",
            "\n",
            "EPOCH: 11\n"
          ],
          "name": "stdout"
        },
        {
          "output_type": "stream",
          "text": [
            "Loss=0.00041997432708740234 Batch_id=1874 Accuracy=99.12: 100%|██████████| 1875/1875 [00:26<00:00, 75.20it/s]\n",
            "  0%|          | 0/1875 [00:00<?, ?it/s]"
          ],
          "name": "stderr"
        },
        {
          "output_type": "stream",
          "text": [
            "\n",
            "Test set: Average loss: 0.0233, Accuracy: 9927/10000 (99.27%)\n",
            "\n",
            "EPOCH: 12\n"
          ],
          "name": "stdout"
        },
        {
          "output_type": "stream",
          "text": [
            "Loss=0.0005770325660705566 Batch_id=1874 Accuracy=99.16: 100%|██████████| 1875/1875 [00:26<00:00, 69.57it/s]\n",
            "  0%|          | 0/1875 [00:00<?, ?it/s]"
          ],
          "name": "stderr"
        },
        {
          "output_type": "stream",
          "text": [
            "\n",
            "Test set: Average loss: 0.0206, Accuracy: 9938/10000 (99.38%)\n",
            "\n",
            "EPOCH: 13\n"
          ],
          "name": "stdout"
        },
        {
          "output_type": "stream",
          "text": [
            "Loss=0.07409805059432983 Batch_id=1874 Accuracy=99.22: 100%|██████████| 1875/1875 [00:26<00:00, 69.46it/s]\n",
            "  0%|          | 0/1875 [00:00<?, ?it/s]"
          ],
          "name": "stderr"
        },
        {
          "output_type": "stream",
          "text": [
            "\n",
            "Test set: Average loss: 0.0204, Accuracy: 9942/10000 (99.42%)\n",
            "\n",
            "EPOCH: 14\n"
          ],
          "name": "stdout"
        },
        {
          "output_type": "stream",
          "text": [
            "Loss=0.003212660551071167 Batch_id=1874 Accuracy=99.21: 100%|██████████| 1875/1875 [00:27<00:00, 69.14it/s]\n"
          ],
          "name": "stderr"
        },
        {
          "output_type": "stream",
          "text": [
            "\n",
            "Test set: Average loss: 0.0170, Accuracy: 9948/10000 (99.48%)\n",
            "\n"
          ],
          "name": "stdout"
        }
      ]
    },
    {
      "cell_type": "code",
      "metadata": {
        "id": "87RaqGSEOWDe",
        "colab_type": "code",
        "outputId": "0a829b76-7977-4df8-f998-45b13979b797",
        "colab": {
          "base_uri": "https://localhost:8080/",
          "height": 626
        }
      },
      "source": [
        "fig, axs = plt.subplots(2,2,figsize=(15,10))\n",
        "axs[0, 0].plot(train_losses)\n",
        "axs[0, 0].set_title(\"Training Loss\")\n",
        "axs[1, 0].plot(train_acc)\n",
        "axs[1, 0].set_title(\"Training Accuracy\")\n",
        "axs[0, 1].plot(test_losses)\n",
        "axs[0, 1].set_title(\"Test Loss\")\n",
        "axs[1, 1].plot(test_acc)\n",
        "axs[1, 1].set_title(\"Test Accuracy\")"
      ],
      "execution_count": 17,
      "outputs": [
        {
          "output_type": "execute_result",
          "data": {
            "text/plain": [
              "Text(0.5, 1.0, 'Test Accuracy')"
            ]
          },
          "metadata": {
            "tags": []
          },
          "execution_count": 17
        },
        {
          "output_type": "display_data",
          "data": {
            "image/png": "[encoded data removed]",
            "text/plain": [
              "<Figure size 1080x720 with 4 Axes>"
            ]
          },
          "metadata": {
            "tags": []
          }
        }
      ]
    }
  ]
}