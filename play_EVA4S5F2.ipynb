{
  "nbformat": 4,
  "nbformat_minor": 0,
  "metadata": {
    "colab": {
      "name": "play_EVA4S5F2.ipynb",
      "provenance": [],
      "collapsed_sections": [],
      "include_colab_link": true
    },
    "kernelspec": {
      "name": "python3",
      "display_name": "Python 3"
    },
    "accelerator": "GPU",
    "widgets": {
      "application/vnd.jupyter.widget-state+json": {
        "250cbf30beba4133942cb447745725f8": {
          "model_module": "@jupyter-widgets/controls",
          "model_name": "HBoxModel",
          "state": {
            "_view_name": "HBoxView",
            "_dom_classes": [],
            "_model_name": "HBoxModel",
            "_view_module": "@jupyter-widgets/controls",
            "_model_module_version": "1.5.0",
            "_view_count": null,
            "_view_module_version": "1.5.0",
            "box_style": "",
            "layout": "IPY_MODEL_e01c48711ab74f88a88735a425c8a32f",
            "_model_module": "@jupyter-widgets/controls",
            "children": [
              "IPY_MODEL_a530a063e9f448dea12f4500d7406faf",
              "IPY_MODEL_37adc0df65804cfbab830ec0989c37ce"
            ]
          }
        },
        "e01c48711ab74f88a88735a425c8a32f": {
          "model_module": "@jupyter-widgets/base",
          "model_name": "LayoutModel",
          "state": {
            "_view_name": "LayoutView",
            "grid_template_rows": null,
            "right": null,
            "justify_content": null,
            "_view_module": "@jupyter-widgets/base",
            "overflow": null,
            "_model_module_version": "1.2.0",
            "_view_count": null,
            "flex_flow": null,
            "width": null,
            "min_width": null,
            "border": null,
            "align_items": null,
            "bottom": null,
            "_model_module": "@jupyter-widgets/base",
            "top": null,
            "grid_column": null,
            "overflow_y": null,
            "overflow_x": null,
            "grid_auto_flow": null,
            "grid_area": null,
            "grid_template_columns": null,
            "flex": null,
            "_model_name": "LayoutModel",
            "justify_items": null,
            "grid_row": null,
            "max_height": null,
            "align_content": null,
            "visibility": null,
            "align_self": null,
            "height": null,
            "min_height": null,
            "padding": null,
            "grid_auto_rows": null,
            "grid_gap": null,
            "max_width": null,
            "order": null,
            "_view_module_version": "1.2.0",
            "grid_template_areas": null,
            "object_position": null,
            "object_fit": null,
            "grid_auto_columns": null,
            "margin": null,
            "display": null,
            "left": null
          }
        },
        "a530a063e9f448dea12f4500d7406faf": {
          "model_module": "@jupyter-widgets/controls",
          "model_name": "IntProgressModel",
          "state": {
            "_view_name": "ProgressView",
            "style": "IPY_MODEL_be5b4d684c3e41c9a6b8edd23e96b61a",
            "_dom_classes": [],
            "description": "",
            "_model_name": "IntProgressModel",
            "bar_style": "success",
            "max": 1,
            "_view_module": "@jupyter-widgets/controls",
            "_model_module_version": "1.5.0",
            "value": 1,
            "_view_count": null,
            "_view_module_version": "1.5.0",
            "orientation": "horizontal",
            "min": 0,
            "description_tooltip": null,
            "_model_module": "@jupyter-widgets/controls",
            "layout": "IPY_MODEL_e5cbbd5f64394d14ba69e15b4f0bc670"
          }
        },
        "37adc0df65804cfbab830ec0989c37ce": {
          "model_module": "@jupyter-widgets/controls",
          "model_name": "HTMLModel",
          "state": {
            "_view_name": "HTMLView",
            "style": "IPY_MODEL_2f83bd53662640d49d8fe653a46ba08c",
            "_dom_classes": [],
            "description": "",
            "_model_name": "HTMLModel",
            "placeholder": "​",
            "_view_module": "@jupyter-widgets/controls",
            "_model_module_version": "1.5.0",
            "value": "9920512it [00:00, 18222565.59it/s]",
            "_view_count": null,
            "_view_module_version": "1.5.0",
            "description_tooltip": null,
            "_model_module": "@jupyter-widgets/controls",
            "layout": "IPY_MODEL_2892780f4d1948e8b81b55995c585cdb"
          }
        },
        "be5b4d684c3e41c9a6b8edd23e96b61a": {
          "model_module": "@jupyter-widgets/controls",
          "model_name": "ProgressStyleModel",
          "state": {
            "_view_name": "StyleView",
            "_model_name": "ProgressStyleModel",
            "description_width": "",
            "_view_module": "@jupyter-widgets/base",
            "_model_module_version": "1.5.0",
            "_view_count": null,
            "_view_module_version": "1.2.0",
            "bar_color": null,
            "_model_module": "@jupyter-widgets/controls"
          }
        },
        "e5cbbd5f64394d14ba69e15b4f0bc670": {
          "model_module": "@jupyter-widgets/base",
          "model_name": "LayoutModel",
          "state": {
            "_view_name": "LayoutView",
            "grid_template_rows": null,
            "right": null,
            "justify_content": null,
            "_view_module": "@jupyter-widgets/base",
            "overflow": null,
            "_model_module_version": "1.2.0",
            "_view_count": null,
            "flex_flow": null,
            "width": null,
            "min_width": null,
            "border": null,
            "align_items": null,
            "bottom": null,
            "_model_module": "@jupyter-widgets/base",
            "top": null,
            "grid_column": null,
            "overflow_y": null,
            "overflow_x": null,
            "grid_auto_flow": null,
            "grid_area": null,
            "grid_template_columns": null,
            "flex": null,
            "_model_name": "LayoutModel",
            "justify_items": null,
            "grid_row": null,
            "max_height": null,
            "align_content": null,
            "visibility": null,
            "align_self": null,
            "height": null,
            "min_height": null,
            "padding": null,
            "grid_auto_rows": null,
            "grid_gap": null,
            "max_width": null,
            "order": null,
            "_view_module_version": "1.2.0",
            "grid_template_areas": null,
            "object_position": null,
            "object_fit": null,
            "grid_auto_columns": null,
            "margin": null,
            "display": null,
            "left": null
          }
        },
        "2f83bd53662640d49d8fe653a46ba08c": {
          "model_module": "@jupyter-widgets/controls",
          "model_name": "DescriptionStyleModel",
          "state": {
            "_view_name": "StyleView",
            "_model_name": "DescriptionStyleModel",
            "description_width": "",
            "_view_module": "@jupyter-widgets/base",
            "_model_module_version": "1.5.0",
            "_view_count": null,
            "_view_module_version": "1.2.0",
            "_model_module": "@jupyter-widgets/controls"
          }
        },
        "2892780f4d1948e8b81b55995c585cdb": {
          "model_module": "@jupyter-widgets/base",
          "model_name": "LayoutModel",
          "state": {
            "_view_name": "LayoutView",
            "grid_template_rows": null,
            "right": null,
            "justify_content": null,
            "_view_module": "@jupyter-widgets/base",
            "overflow": null,
            "_model_module_version": "1.2.0",
            "_view_count": null,
            "flex_flow": null,
            "width": null,
            "min_width": null,
            "border": null,
            "align_items": null,
            "bottom": null,
            "_model_module": "@jupyter-widgets/base",
            "top": null,
            "grid_column": null,
            "overflow_y": null,
            "overflow_x": null,
            "grid_auto_flow": null,
            "grid_area": null,
            "grid_template_columns": null,
            "flex": null,
            "_model_name": "LayoutModel",
            "justify_items": null,
            "grid_row": null,
            "max_height": null,
            "align_content": null,
            "visibility": null,
            "align_self": null,
            "height": null,
            "min_height": null,
            "padding": null,
            "grid_auto_rows": null,
            "grid_gap": null,
            "max_width": null,
            "order": null,
            "_view_module_version": "1.2.0",
            "grid_template_areas": null,
            "object_position": null,
            "object_fit": null,
            "grid_auto_columns": null,
            "margin": null,
            "display": null,
            "left": null
          }
        },
        "152a5547908d442d9e53ea5243b24189": {
          "model_module": "@jupyter-widgets/controls",
          "model_name": "HBoxModel",
          "state": {
            "_view_name": "HBoxView",
            "_dom_classes": [],
            "_model_name": "HBoxModel",
            "_view_module": "@jupyter-widgets/controls",
            "_model_module_version": "1.5.0",
            "_view_count": null,
            "_view_module_version": "1.5.0",
            "box_style": "",
            "layout": "IPY_MODEL_db4d0a47158841d4b09d4ad669bf2e35",
            "_model_module": "@jupyter-widgets/controls",
            "children": [
              "IPY_MODEL_6ab83de34a454c7f9dabbef900941c22",
              "IPY_MODEL_00e48ccf474b4c84975bf74502e33704"
            ]
          }
        },
        "db4d0a47158841d4b09d4ad669bf2e35": {
          "model_module": "@jupyter-widgets/base",
          "model_name": "LayoutModel",
          "state": {
            "_view_name": "LayoutView",
            "grid_template_rows": null,
            "right": null,
            "justify_content": null,
            "_view_module": "@jupyter-widgets/base",
            "overflow": null,
            "_model_module_version": "1.2.0",
            "_view_count": null,
            "flex_flow": null,
            "width": null,
            "min_width": null,
            "border": null,
            "align_items": null,
            "bottom": null,
            "_model_module": "@jupyter-widgets/base",
            "top": null,
            "grid_column": null,
            "overflow_y": null,
            "overflow_x": null,
            "grid_auto_flow": null,
            "grid_area": null,
            "grid_template_columns": null,
            "flex": null,
            "_model_name": "LayoutModel",
            "justify_items": null,
            "grid_row": null,
            "max_height": null,
            "align_content": null,
            "visibility": null,
            "align_self": null,
            "height": null,
            "min_height": null,
            "padding": null,
            "grid_auto_rows": null,
            "grid_gap": null,
            "max_width": null,
            "order": null,
            "_view_module_version": "1.2.0",
            "grid_template_areas": null,
            "object_position": null,
            "object_fit": null,
            "grid_auto_columns": null,
            "margin": null,
            "display": null,
            "left": null
          }
        },
        "6ab83de34a454c7f9dabbef900941c22": {
          "model_module": "@jupyter-widgets/controls",
          "model_name": "IntProgressModel",
          "state": {
            "_view_name": "ProgressView",
            "style": "IPY_MODEL_d75e23a44a6c460b86e3667694b647a5",
            "_dom_classes": [],
            "description": "",
            "_model_name": "IntProgressModel",
            "bar_style": "success",
            "max": 1,
            "_view_module": "@jupyter-widgets/controls",
            "_model_module_version": "1.5.0",
            "value": 1,
            "_view_count": null,
            "_view_module_version": "1.5.0",
            "orientation": "horizontal",
            "min": 0,
            "description_tooltip": null,
            "_model_module": "@jupyter-widgets/controls",
            "layout": "IPY_MODEL_81998e44db2f42c187dde125e6997a81"
          }
        },
        "00e48ccf474b4c84975bf74502e33704": {
          "model_module": "@jupyter-widgets/controls",
          "model_name": "HTMLModel",
          "state": {
            "_view_name": "HTMLView",
            "style": "IPY_MODEL_c31cbadad4854f298bca2d7d3d052098",
            "_dom_classes": [],
            "description": "",
            "_model_name": "HTMLModel",
            "placeholder": "​",
            "_view_module": "@jupyter-widgets/controls",
            "_model_module_version": "1.5.0",
            "value": "32768it [00:00, 172554.26it/s]",
            "_view_count": null,
            "_view_module_version": "1.5.0",
            "description_tooltip": null,
            "_model_module": "@jupyter-widgets/controls",
            "layout": "IPY_MODEL_c1dc7794bcaf4cb6b85222b2cb394995"
          }
        },
        "d75e23a44a6c460b86e3667694b647a5": {
          "model_module": "@jupyter-widgets/controls",
          "model_name": "ProgressStyleModel",
          "state": {
            "_view_name": "StyleView",
            "_model_name": "ProgressStyleModel",
            "description_width": "",
            "_view_module": "@jupyter-widgets/base",
            "_model_module_version": "1.5.0",
            "_view_count": null,
            "_view_module_version": "1.2.0",
            "bar_color": null,
            "_model_module": "@jupyter-widgets/controls"
          }
        },
        "81998e44db2f42c187dde125e6997a81": {
          "model_module": "@jupyter-widgets/base",
          "model_name": "LayoutModel",
          "state": {
            "_view_name": "LayoutView",
            "grid_template_rows": null,
            "right": null,
            "justify_content": null,
            "_view_module": "@jupyter-widgets/base",
            "overflow": null,
            "_model_module_version": "1.2.0",
            "_view_count": null,
            "flex_flow": null,
            "width": null,
            "min_width": null,
            "border": null,
            "align_items": null,
            "bottom": null,
            "_model_module": "@jupyter-widgets/base",
            "top": null,
            "grid_column": null,
            "overflow_y": null,
            "overflow_x": null,
            "grid_auto_flow": null,
            "grid_area": null,
            "grid_template_columns": null,
            "flex": null,
            "_model_name": "LayoutModel",
            "justify_items": null,
            "grid_row": null,
            "max_height": null,
            "align_content": null,
            "visibility": null,
            "align_self": null,
            "height": null,
            "min_height": null,
            "padding": null,
            "grid_auto_rows": null,
            "grid_gap": null,
            "max_width": null,
            "order": null,
            "_view_module_version": "1.2.0",
            "grid_template_areas": null,
            "object_position": null,
            "object_fit": null,
            "grid_auto_columns": null,
            "margin": null,
            "display": null,
            "left": null
          }
        },
        "c31cbadad4854f298bca2d7d3d052098": {
          "model_module": "@jupyter-widgets/controls",
          "model_name": "DescriptionStyleModel",
          "state": {
            "_view_name": "StyleView",
            "_model_name": "DescriptionStyleModel",
            "description_width": "",
            "_view_module": "@jupyter-widgets/base",
            "_model_module_version": "1.5.0",
            "_view_count": null,
            "_view_module_version": "1.2.0",
            "_model_module": "@jupyter-widgets/controls"
          }
        },
        "c1dc7794bcaf4cb6b85222b2cb394995": {
          "model_module": "@jupyter-widgets/base",
          "model_name": "LayoutModel",
          "state": {
            "_view_name": "LayoutView",
            "grid_template_rows": null,
            "right": null,
            "justify_content": null,
            "_view_module": "@jupyter-widgets/base",
            "overflow": null,
            "_model_module_version": "1.2.0",
            "_view_count": null,
            "flex_flow": null,
            "width": null,
            "min_width": null,
            "border": null,
            "align_items": null,
            "bottom": null,
            "_model_module": "@jupyter-widgets/base",
            "top": null,
            "grid_column": null,
            "overflow_y": null,
            "overflow_x": null,
            "grid_auto_flow": null,
            "grid_area": null,
            "grid_template_columns": null,
            "flex": null,
            "_model_name": "LayoutModel",
            "justify_items": null,
            "grid_row": null,
            "max_height": null,
            "align_content": null,
            "visibility": null,
            "align_self": null,
            "height": null,
            "min_height": null,
            "padding": null,
            "grid_auto_rows": null,
            "grid_gap": null,
            "max_width": null,
            "order": null,
            "_view_module_version": "1.2.0",
            "grid_template_areas": null,
            "object_position": null,
            "object_fit": null,
            "grid_auto_columns": null,
            "margin": null,
            "display": null,
            "left": null
          }
        },
        "40ee1755eb924debb0f0e75515600278": {
          "model_module": "@jupyter-widgets/controls",
          "model_name": "HBoxModel",
          "state": {
            "_view_name": "HBoxView",
            "_dom_classes": [],
            "_model_name": "HBoxModel",
            "_view_module": "@jupyter-widgets/controls",
            "_model_module_version": "1.5.0",
            "_view_count": null,
            "_view_module_version": "1.5.0",
            "box_style": "",
            "layout": "IPY_MODEL_118d5a4a61d24783bd0826ab50412874",
            "_model_module": "@jupyter-widgets/controls",
            "children": [
              "IPY_MODEL_a276d72798dc4270aa7fae8af159664a",
              "IPY_MODEL_b97cee25161b47b493527f1e34695f5f"
            ]
          }
        },
        "118d5a4a61d24783bd0826ab50412874": {
          "model_module": "@jupyter-widgets/base",
          "model_name": "LayoutModel",
          "state": {
            "_view_name": "LayoutView",
            "grid_template_rows": null,
            "right": null,
            "justify_content": null,
            "_view_module": "@jupyter-widgets/base",
            "overflow": null,
            "_model_module_version": "1.2.0",
            "_view_count": null,
            "flex_flow": null,
            "width": null,
            "min_width": null,
            "border": null,
            "align_items": null,
            "bottom": null,
            "_model_module": "@jupyter-widgets/base",
            "top": null,
            "grid_column": null,
            "overflow_y": null,
            "overflow_x": null,
            "grid_auto_flow": null,
            "grid_area": null,
            "grid_template_columns": null,
            "flex": null,
            "_model_name": "LayoutModel",
            "justify_items": null,
            "grid_row": null,
            "max_height": null,
            "align_content": null,
            "visibility": null,
            "align_self": null,
            "height": null,
            "min_height": null,
            "padding": null,
            "grid_auto_rows": null,
            "grid_gap": null,
            "max_width": null,
            "order": null,
            "_view_module_version": "1.2.0",
            "grid_template_areas": null,
            "object_position": null,
            "object_fit": null,
            "grid_auto_columns": null,
            "margin": null,
            "display": null,
            "left": null
          }
        },
        "a276d72798dc4270aa7fae8af159664a": {
          "model_module": "@jupyter-widgets/controls",
          "model_name": "IntProgressModel",
          "state": {
            "_view_name": "ProgressView",
            "style": "IPY_MODEL_4c53402de82d467db464d7fff6a9bfe1",
            "_dom_classes": [],
            "description": "",
            "_model_name": "IntProgressModel",
            "bar_style": "success",
            "max": 1,
            "_view_module": "@jupyter-widgets/controls",
            "_model_module_version": "1.5.0",
            "value": 1,
            "_view_count": null,
            "_view_module_version": "1.5.0",
            "orientation": "horizontal",
            "min": 0,
            "description_tooltip": null,
            "_model_module": "@jupyter-widgets/controls",
            "layout": "IPY_MODEL_ff502e30a89443dfbce51eab2095ad22"
          }
        },
        "b97cee25161b47b493527f1e34695f5f": {
          "model_module": "@jupyter-widgets/controls",
          "model_name": "HTMLModel",
          "state": {
            "_view_name": "HTMLView",
            "style": "IPY_MODEL_472a3d1175e54fe4bca3a2edd1b030a8",
            "_dom_classes": [],
            "description": "",
            "_model_name": "HTMLModel",
            "placeholder": "​",
            "_view_module": "@jupyter-widgets/controls",
            "_model_module_version": "1.5.0",
            "value": "1654784it [00:00, 5046987.11it/s]",
            "_view_count": null,
            "_view_module_version": "1.5.0",
            "description_tooltip": null,
            "_model_module": "@jupyter-widgets/controls",
            "layout": "IPY_MODEL_dc46532e5dc84aedaf8372d93a5c4711"
          }
        },
        "4c53402de82d467db464d7fff6a9bfe1": {
          "model_module": "@jupyter-widgets/controls",
          "model_name": "ProgressStyleModel",
          "state": {
            "_view_name": "StyleView",
            "_model_name": "ProgressStyleModel",
            "description_width": "",
            "_view_module": "@jupyter-widgets/base",
            "_model_module_version": "1.5.0",
            "_view_count": null,
            "_view_module_version": "1.2.0",
            "bar_color": null,
            "_model_module": "@jupyter-widgets/controls"
          }
        },
        "ff502e30a89443dfbce51eab2095ad22": {
          "model_module": "@jupyter-widgets/base",
          "model_name": "LayoutModel",
          "state": {
            "_view_name": "LayoutView",
            "grid_template_rows": null,
            "right": null,
            "justify_content": null,
            "_view_module": "@jupyter-widgets/base",
            "overflow": null,
            "_model_module_version": "1.2.0",
            "_view_count": null,
            "flex_flow": null,
            "width": null,
            "min_width": null,
            "border": null,
            "align_items": null,
            "bottom": null,
            "_model_module": "@jupyter-widgets/base",
            "top": null,
            "grid_column": null,
            "overflow_y": null,
            "overflow_x": null,
            "grid_auto_flow": null,
            "grid_area": null,
            "grid_template_columns": null,
            "flex": null,
            "_model_name": "LayoutModel",
            "justify_items": null,
            "grid_row": null,
            "max_height": null,
            "align_content": null,
            "visibility": null,
            "align_self": null,
            "height": null,
            "min_height": null,
            "padding": null,
            "grid_auto_rows": null,
            "grid_gap": null,
            "max_width": null,
            "order": null,
            "_view_module_version": "1.2.0",
            "grid_template_areas": null,
            "object_position": null,
            "object_fit": null,
            "grid_auto_columns": null,
            "margin": null,
            "display": null,
            "left": null
          }
        },
        "472a3d1175e54fe4bca3a2edd1b030a8": {
          "model_module": "@jupyter-widgets/controls",
          "model_name": "DescriptionStyleModel",
          "state": {
            "_view_name": "StyleView",
            "_model_name": "DescriptionStyleModel",
            "description_width": "",
            "_view_module": "@jupyter-widgets/base",
            "_model_module_version": "1.5.0",
            "_view_count": null,
            "_view_module_version": "1.2.0",
            "_model_module": "@jupyter-widgets/controls"
          }
        },
        "dc46532e5dc84aedaf8372d93a5c4711": {
          "model_module": "@jupyter-widgets/base",
          "model_name": "LayoutModel",
          "state": {
            "_view_name": "LayoutView",
            "grid_template_rows": null,
            "right": null,
            "justify_content": null,
            "_view_module": "@jupyter-widgets/base",
            "overflow": null,
            "_model_module_version": "1.2.0",
            "_view_count": null,
            "flex_flow": null,
            "width": null,
            "min_width": null,
            "border": null,
            "align_items": null,
            "bottom": null,
            "_model_module": "@jupyter-widgets/base",
            "top": null,
            "grid_column": null,
            "overflow_y": null,
            "overflow_x": null,
            "grid_auto_flow": null,
            "grid_area": null,
            "grid_template_columns": null,
            "flex": null,
            "_model_name": "LayoutModel",
            "justify_items": null,
            "grid_row": null,
            "max_height": null,
            "align_content": null,
            "visibility": null,
            "align_self": null,
            "height": null,
            "min_height": null,
            "padding": null,
            "grid_auto_rows": null,
            "grid_gap": null,
            "max_width": null,
            "order": null,
            "_view_module_version": "1.2.0",
            "grid_template_areas": null,
            "object_position": null,
            "object_fit": null,
            "grid_auto_columns": null,
            "margin": null,
            "display": null,
            "left": null
          }
        },
        "3783dbb9a07445558bb6567f084ef8c3": {
          "model_module": "@jupyter-widgets/controls",
          "model_name": "HBoxModel",
          "state": {
            "_view_name": "HBoxView",
            "_dom_classes": [],
            "_model_name": "HBoxModel",
            "_view_module": "@jupyter-widgets/controls",
            "_model_module_version": "1.5.0",
            "_view_count": null,
            "_view_module_version": "1.5.0",
            "box_style": "",
            "layout": "IPY_MODEL_52d781505a0d4477830f62fd03b64365",
            "_model_module": "@jupyter-widgets/controls",
            "children": [
              "IPY_MODEL_fc4b806dc40641ec9f1453f4f2ad5bf2",
              "IPY_MODEL_1c4ba399caa54cbd81dc27b77513ba96"
            ]
          }
        },
        "52d781505a0d4477830f62fd03b64365": {
          "model_module": "@jupyter-widgets/base",
          "model_name": "LayoutModel",
          "state": {
            "_view_name": "LayoutView",
            "grid_template_rows": null,
            "right": null,
            "justify_content": null,
            "_view_module": "@jupyter-widgets/base",
            "overflow": null,
            "_model_module_version": "1.2.0",
            "_view_count": null,
            "flex_flow": null,
            "width": null,
            "min_width": null,
            "border": null,
            "align_items": null,
            "bottom": null,
            "_model_module": "@jupyter-widgets/base",
            "top": null,
            "grid_column": null,
            "overflow_y": null,
            "overflow_x": null,
            "grid_auto_flow": null,
            "grid_area": null,
            "grid_template_columns": null,
            "flex": null,
            "_model_name": "LayoutModel",
            "justify_items": null,
            "grid_row": null,
            "max_height": null,
            "align_content": null,
            "visibility": null,
            "align_self": null,
            "height": null,
            "min_height": null,
            "padding": null,
            "grid_auto_rows": null,
            "grid_gap": null,
            "max_width": null,
            "order": null,
            "_view_module_version": "1.2.0",
            "grid_template_areas": null,
            "object_position": null,
            "object_fit": null,
            "grid_auto_columns": null,
            "margin": null,
            "display": null,
            "left": null
          }
        },
        "fc4b806dc40641ec9f1453f4f2ad5bf2": {
          "model_module": "@jupyter-widgets/controls",
          "model_name": "IntProgressModel",
          "state": {
            "_view_name": "ProgressView",
            "style": "IPY_MODEL_20d7ba3440034d20bfd086bf735abeee",
            "_dom_classes": [],
            "description": "",
            "_model_name": "IntProgressModel",
            "bar_style": "success",
            "max": 1,
            "_view_module": "@jupyter-widgets/controls",
            "_model_module_version": "1.5.0",
            "value": 1,
            "_view_count": null,
            "_view_module_version": "1.5.0",
            "orientation": "horizontal",
            "min": 0,
            "description_tooltip": null,
            "_model_module": "@jupyter-widgets/controls",
            "layout": "IPY_MODEL_1359d26d433048008a924134d2c12b43"
          }
        },
        "1c4ba399caa54cbd81dc27b77513ba96": {
          "model_module": "@jupyter-widgets/controls",
          "model_name": "HTMLModel",
          "state": {
            "_view_name": "HTMLView",
            "style": "IPY_MODEL_37e8761cc6aa4823ad83ca3cf37b3244",
            "_dom_classes": [],
            "description": "",
            "_model_name": "HTMLModel",
            "placeholder": "​",
            "_view_module": "@jupyter-widgets/controls",
            "_model_module_version": "1.5.0",
            "value": "8192it [00:00, 54496.54it/s]",
            "_view_count": null,
            "_view_module_version": "1.5.0",
            "description_tooltip": null,
            "_model_module": "@jupyter-widgets/controls",
            "layout": "IPY_MODEL_5583bc3c135d4cb5a1922aff7a7a198c"
          }
        },
        "20d7ba3440034d20bfd086bf735abeee": {
          "model_module": "@jupyter-widgets/controls",
          "model_name": "ProgressStyleModel",
          "state": {
            "_view_name": "StyleView",
            "_model_name": "ProgressStyleModel",
            "description_width": "",
            "_view_module": "@jupyter-widgets/base",
            "_model_module_version": "1.5.0",
            "_view_count": null,
            "_view_module_version": "1.2.0",
            "bar_color": null,
            "_model_module": "@jupyter-widgets/controls"
          }
        },
        "1359d26d433048008a924134d2c12b43": {
          "model_module": "@jupyter-widgets/base",
          "model_name": "LayoutModel",
          "state": {
            "_view_name": "LayoutView",
            "grid_template_rows": null,
            "right": null,
            "justify_content": null,
            "_view_module": "@jupyter-widgets/base",
            "overflow": null,
            "_model_module_version": "1.2.0",
            "_view_count": null,
            "flex_flow": null,
            "width": null,
            "min_width": null,
            "border": null,
            "align_items": null,
            "bottom": null,
            "_model_module": "@jupyter-widgets/base",
            "top": null,
            "grid_column": null,
            "overflow_y": null,
            "overflow_x": null,
            "grid_auto_flow": null,
            "grid_area": null,
            "grid_template_columns": null,
            "flex": null,
            "_model_name": "LayoutModel",
            "justify_items": null,
            "grid_row": null,
            "max_height": null,
            "align_content": null,
            "visibility": null,
            "align_self": null,
            "height": null,
            "min_height": null,
            "padding": null,
            "grid_auto_rows": null,
            "grid_gap": null,
            "max_width": null,
            "order": null,
            "_view_module_version": "1.2.0",
            "grid_template_areas": null,
            "object_position": null,
            "object_fit": null,
            "grid_auto_columns": null,
            "margin": null,
            "display": null,
            "left": null
          }
        },
        "37e8761cc6aa4823ad83ca3cf37b3244": {
          "model_module": "@jupyter-widgets/controls",
          "model_name": "DescriptionStyleModel",
          "state": {
            "_view_name": "StyleView",
            "_model_name": "DescriptionStyleModel",
            "description_width": "",
            "_view_module": "@jupyter-widgets/base",
            "_model_module_version": "1.5.0",
            "_view_count": null,
            "_view_module_version": "1.2.0",
            "_model_module": "@jupyter-widgets/controls"
          }
        },
        "5583bc3c135d4cb5a1922aff7a7a198c": {
          "model_module": "@jupyter-widgets/base",
          "model_name": "LayoutModel",
          "state": {
            "_view_name": "LayoutView",
            "grid_template_rows": null,
            "right": null,
            "justify_content": null,
            "_view_module": "@jupyter-widgets/base",
            "overflow": null,
            "_model_module_version": "1.2.0",
            "_view_count": null,
            "flex_flow": null,
            "width": null,
            "min_width": null,
            "border": null,
            "align_items": null,
            "bottom": null,
            "_model_module": "@jupyter-widgets/base",
            "top": null,
            "grid_column": null,
            "overflow_y": null,
            "overflow_x": null,
            "grid_auto_flow": null,
            "grid_area": null,
            "grid_template_columns": null,
            "flex": null,
            "_model_name": "LayoutModel",
            "justify_items": null,
            "grid_row": null,
            "max_height": null,
            "align_content": null,
            "visibility": null,
            "align_self": null,
            "height": null,
            "min_height": null,
            "padding": null,
            "grid_auto_rows": null,
            "grid_gap": null,
            "max_width": null,
            "order": null,
            "_view_module_version": "1.2.0",
            "grid_template_areas": null,
            "object_position": null,
            "object_fit": null,
            "grid_auto_columns": null,
            "margin": null,
            "display": null,
            "left": null
          }
        }
      }
    }
  },
  "cells": [
    {
      "cell_type": "markdown",
      "metadata": {
        "id": "view-in-github",
        "colab_type": "text"
      },
      "source": [
        "<a href=\"https://colab.research.google.com/github/s-sridhar24/EVA4-S5/blob/master/play_EVA4S5F2.ipynb\" target=\"_parent\"><img src=\"https://colab.research.google.com/assets/colab-badge.svg\" alt=\"Open In Colab\"/></a>"
      ]
    },
    {
      "cell_type": "markdown",
      "metadata": {
        "id": "24nxtgtfgQYM",
        "colab_type": "text"
      },
      "source": [
        "# Program Targets:\n",
        "\n",
        "Consistent accuracy of 99.4%\n",
        "Achieve using less than 10K parameters and in <= 15 epochs\n",
        "Share this as 5 steps with obj, analysis for each step\n",
        "\n",
        "# Step 2 Objectives:\n",
        "\n",
        "Improve performance \n",
        "    \n",
        "How?\n",
        "by adding capacity through batch norm, pooling\n",
        "\n",
        "*Known issues that will be taken up later on*\n",
        "Paremeters already exceeds 10K and will increase slightly\n",
        "The gap between training and test performance\n"
      ]
    },
    {
      "cell_type": "markdown",
      "metadata": {
        "id": "aBIF2l9W_alc",
        "colab_type": "text"
      },
      "source": [
        "# Step 2 results and analysis\n",
        "Parameters increased due to batch normalization\n",
        "\n",
        "**Performance**: \n",
        "\n",
        "Batch Normalization improved performance. Even in first few batches the difference is noticeable.\n",
        "\n",
        "Training touched 100% while Testing peaked to 99.4% few times. \n",
        "Clearly there is overfitting.\n",
        "\n",
        "**Improvements planned for Step 3:**\n",
        "\n",
        "Overfitting containment through dropout\n",
        "\n",
        "\n",
        "Reduce parameters by rationalizing architecture\n",
        "\n",
        "\n",
        "Reduce parameters by using GAP in the end"
      ]
    },
    {
      "cell_type": "markdown",
      "metadata": {
        "id": "gHR0ZqG4K5US",
        "colab_type": "text"
      },
      "source": [
        "![image.png](data:image/png;base64,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)"
      ]
    },
    {
      "cell_type": "markdown",
      "metadata": {
        "id": "aO-7t1Y7-hV4",
        "colab_type": "text"
      },
      "source": [
        "# Import Libraries"
      ]
    },
    {
      "cell_type": "code",
      "metadata": {
        "id": "8kH16rnZ7wt_",
        "colab_type": "code",
        "colab": {}
      },
      "source": [
        "from __future__ import print_function\n",
        "import torch\n",
        "import torch.nn as nn\n",
        "import torch.nn.functional as F\n",
        "import torch.optim as optim\n",
        "from torchvision import datasets, transforms\n",
        "import matplotlib.pyplot as plt"
      ],
      "execution_count": 0,
      "outputs": []
    },
    {
      "cell_type": "markdown",
      "metadata": {
        "id": "ky3f_Odl-7um",
        "colab_type": "text"
      },
      "source": [
        "## Data Transformations\n",
        "\n",
        "We first start with defining our data transformations. We need to think what our data is and how can we augment it to correct represent images which it might not see otherwise. \n"
      ]
    },
    {
      "cell_type": "code",
      "metadata": {
        "id": "YtssFUKb-jqx",
        "colab_type": "code",
        "colab": {}
      },
      "source": [
        "# Train Phase transformations\n",
        "train_transforms = transforms.Compose([\n",
        "                                      #  transforms.Resize((28, 28)),\n",
        "                                      #  transforms.ColorJitter(brightness=0.10, contrast=0.1, saturation=0.10, hue=0.1),\n",
        "                                       transforms.ToTensor(),\n",
        "                                       transforms.Normalize((0.1307,), (0.3081,)) # The mean and std have to be sequences (e.g., tuples), therefore you should add a comma after the values. \n",
        "                                       # Note the difference between (0.1307) and (0.1307,)\n",
        "                                       ])\n",
        "\n",
        "# Test Phase transformations\n",
        "test_transforms = transforms.Compose([\n",
        "                                      #  transforms.Resize((28, 28)),\n",
        "                                      #  transforms.ColorJitter(brightness=0.10, contrast=0.1, saturation=0.10, hue=0.1),\n",
        "                                       transforms.ToTensor(),\n",
        "                                       transforms.Normalize((0.1307,), (0.3081,))\n",
        "                                       ])\n"
      ],
      "execution_count": 0,
      "outputs": []
    },
    {
      "cell_type": "markdown",
      "metadata": {
        "id": "oQciFYo2B1mO",
        "colab_type": "text"
      },
      "source": [
        "# Dataset and Creating Train/Test Split"
      ]
    },
    {
      "cell_type": "code",
      "metadata": {
        "id": "_4A84rlfDA23",
        "colab_type": "code",
        "outputId": "9a6608f3-5a69-43b8-a8a1-39ebb28326f3",
        "colab": {
          "base_uri": "https://localhost:8080/",
          "height": 411,
          "referenced_widgets": [
            "250cbf30beba4133942cb447745725f8",
            "e01c48711ab74f88a88735a425c8a32f",
            "a530a063e9f448dea12f4500d7406faf",
            "37adc0df65804cfbab830ec0989c37ce",
            "be5b4d684c3e41c9a6b8edd23e96b61a",
            "e5cbbd5f64394d14ba69e15b4f0bc670",
            "2f83bd53662640d49d8fe653a46ba08c",
            "2892780f4d1948e8b81b55995c585cdb",
            "152a5547908d442d9e53ea5243b24189",
            "db4d0a47158841d4b09d4ad669bf2e35",
            "6ab83de34a454c7f9dabbef900941c22",
            "00e48ccf474b4c84975bf74502e33704",
            "d75e23a44a6c460b86e3667694b647a5",
            "81998e44db2f42c187dde125e6997a81",
            "c31cbadad4854f298bca2d7d3d052098",
            "c1dc7794bcaf4cb6b85222b2cb394995",
            "40ee1755eb924debb0f0e75515600278",
            "118d5a4a61d24783bd0826ab50412874",
            "a276d72798dc4270aa7fae8af159664a",
            "b97cee25161b47b493527f1e34695f5f",
            "4c53402de82d467db464d7fff6a9bfe1",
            "ff502e30a89443dfbce51eab2095ad22",
            "472a3d1175e54fe4bca3a2edd1b030a8",
            "dc46532e5dc84aedaf8372d93a5c4711",
            "3783dbb9a07445558bb6567f084ef8c3",
            "52d781505a0d4477830f62fd03b64365",
            "fc4b806dc40641ec9f1453f4f2ad5bf2",
            "1c4ba399caa54cbd81dc27b77513ba96",
            "20d7ba3440034d20bfd086bf735abeee",
            "1359d26d433048008a924134d2c12b43",
            "37e8761cc6aa4823ad83ca3cf37b3244",
            "5583bc3c135d4cb5a1922aff7a7a198c"
          ]
        }
      },
      "source": [
        "train = datasets.MNIST('./data', train=True, download=True, transform=train_transforms)\n",
        "test = datasets.MNIST('./data', train=False, download=True, transform=test_transforms)"
      ],
      "execution_count": 3,
      "outputs": [
        {
          "output_type": "stream",
          "text": [
            "Downloading http://yann.lecun.com/exdb/mnist/train-images-idx3-ubyte.gz to ./data/MNIST/raw/train-images-idx3-ubyte.gz\n"
          ],
          "name": "stdout"
        },
        {
          "output_type": "display_data",
          "data": {
            "application/vnd.jupyter.widget-view+json": {
              "model_id": "250cbf30beba4133942cb447745725f8",
              "version_minor": 0,
              "version_major": 2
            },
            "text/plain": [
              "HBox(children=(IntProgress(value=1, bar_style='info', max=1), HTML(value='')))"
            ]
          },
          "metadata": {
            "tags": []
          }
        },
        {
          "output_type": "stream",
          "text": [
            "\n",
            "Extracting ./data/MNIST/raw/train-images-idx3-ubyte.gz to ./data/MNIST/raw\n",
            "Downloading http://yann.lecun.com/exdb/mnist/train-labels-idx1-ubyte.gz to ./data/MNIST/raw/train-labels-idx1-ubyte.gz\n"
          ],
          "name": "stdout"
        },
        {
          "output_type": "display_data",
          "data": {
            "application/vnd.jupyter.widget-view+json": {
              "model_id": "152a5547908d442d9e53ea5243b24189",
              "version_minor": 0,
              "version_major": 2
            },
            "text/plain": [
              "HBox(children=(IntProgress(value=1, bar_style='info', max=1), HTML(value='')))"
            ]
          },
          "metadata": {
            "tags": []
          }
        },
        {
          "output_type": "stream",
          "text": [
            "\n",
            "Extracting ./data/MNIST/raw/train-labels-idx1-ubyte.gz to ./data/MNIST/raw\n",
            "Downloading http://yann.lecun.com/exdb/mnist/t10k-images-idx3-ubyte.gz to ./data/MNIST/raw/t10k-images-idx3-ubyte.gz\n"
          ],
          "name": "stdout"
        },
        {
          "output_type": "display_data",
          "data": {
            "application/vnd.jupyter.widget-view+json": {
              "model_id": "40ee1755eb924debb0f0e75515600278",
              "version_minor": 0,
              "version_major": 2
            },
            "text/plain": [
              "HBox(children=(IntProgress(value=1, bar_style='info', max=1), HTML(value='')))"
            ]
          },
          "metadata": {
            "tags": []
          }
        },
        {
          "output_type": "stream",
          "text": [
            "\n",
            "Extracting ./data/MNIST/raw/t10k-images-idx3-ubyte.gz to ./data/MNIST/raw\n",
            "Downloading http://yann.lecun.com/exdb/mnist/t10k-labels-idx1-ubyte.gz to ./data/MNIST/raw/t10k-labels-idx1-ubyte.gz\n"
          ],
          "name": "stdout"
        },
        {
          "output_type": "display_data",
          "data": {
            "application/vnd.jupyter.widget-view+json": {
              "model_id": "3783dbb9a07445558bb6567f084ef8c3",
              "version_minor": 0,
              "version_major": 2
            },
            "text/plain": [
              "HBox(children=(IntProgress(value=1, bar_style='info', max=1), HTML(value='')))"
            ]
          },
          "metadata": {
            "tags": []
          }
        },
        {
          "output_type": "stream",
          "text": [
            "\n",
            "Extracting ./data/MNIST/raw/t10k-labels-idx1-ubyte.gz to ./data/MNIST/raw\n",
            "Processing...\n",
            "Done!\n"
          ],
          "name": "stdout"
        }
      ]
    },
    {
      "cell_type": "markdown",
      "metadata": {
        "id": "qgldp_3-Dn0c",
        "colab_type": "text"
      },
      "source": [
        "# Dataloader Arguments & Test/Train Dataloaders\n"
      ]
    },
    {
      "cell_type": "code",
      "metadata": {
        "id": "C8OLDR79DrHG",
        "colab_type": "code",
        "outputId": "9bbb825a-8e1c-43fb-8ab0-4ace3ff4cefc",
        "colab": {
          "base_uri": "https://localhost:8080/",
          "height": 36
        }
      },
      "source": [
        "SEED = 1\n",
        "\n",
        "# CUDA?\n",
        "cuda = torch.cuda.is_available()\n",
        "print(\"CUDA Available?\", cuda)\n",
        "\n",
        "# For reproducibility\n",
        "torch.manual_seed(SEED)\n",
        "\n",
        "if cuda:\n",
        "    torch.cuda.manual_seed(SEED)\n",
        "\n",
        "# dataloader arguments - something you'll fetch these from cmdprmt\n",
        "dataloader_args = dict(shuffle=True, batch_size=128, num_workers=4, pin_memory=True) if cuda else dict(shuffle=True, batch_size=64)\n",
        "\n",
        "# train dataloader\n",
        "train_loader = torch.utils.data.DataLoader(train, **dataloader_args)\n",
        "\n",
        "# test dataloader\n",
        "test_loader = torch.utils.data.DataLoader(test, **dataloader_args)"
      ],
      "execution_count": 4,
      "outputs": [
        {
          "output_type": "stream",
          "text": [
            "CUDA Available? True\n"
          ],
          "name": "stdout"
        }
      ]
    },
    {
      "cell_type": "markdown",
      "metadata": {
        "id": "-TFjoFekE_va",
        "colab_type": "text"
      },
      "source": [
        "# Data Statistics\n",
        "\n",
        "Same dataset so not important in this step"
      ]
    },
    {
      "cell_type": "markdown",
      "metadata": {
        "id": "ubQL3H6RJL3h",
        "colab_type": "text"
      },
      "source": [
        "# The model\n"
      ]
    },
    {
      "cell_type": "code",
      "metadata": {
        "id": "7FXQlB9kH1ov",
        "colab_type": "code",
        "colab": {}
      },
      "source": [
        "class Net(nn.Module):\n",
        "    def __init__(self):\n",
        "        super(Net, self).__init__()\n",
        "        # Input Block\n",
        "        self.convblock1 = nn.Sequential(\n",
        "            nn.Conv2d(in_channels=1, out_channels=16, kernel_size=(3, 3), padding=0, bias=False),\n",
        "            nn.BatchNorm2d(16),\n",
        "            nn.ReLU()\n",
        "        ) \n",
        "        # \n",
        "\n",
        "        # CONVOLUTION BLOCK 1\n",
        "        self.convblock2 = nn.Sequential(\n",
        "            nn.Conv2d(in_channels=16, out_channels=32, kernel_size=(3, 3), padding=0, bias=False),\n",
        "            nn.BatchNorm2d(32),\n",
        "            nn.ReLU()\n",
        "        ) # \n",
        "\n",
        "        self.convblock3 = nn.Sequential(\n",
        "            nn.Conv2d(in_channels=32, out_channels=64, kernel_size=(3, 3), padding=0, bias=False),\n",
        "            nn.BatchNorm2d(64),\n",
        "            nn.ReLU()\n",
        "        ) # \n",
        "\n",
        "        # TRANSITION BLOCK 1\n",
        "        self.pool1 = nn.MaxPool2d(2, 2) \n",
        "        self.convblock4 = nn.Sequential(\n",
        "            nn.Conv2d(in_channels=64, out_channels=16, kernel_size=(1, 1), padding=0, bias=False),\n",
        "            nn.BatchNorm2d(16),\n",
        "            nn.ReLU()\n",
        "        ) # output_size = 11, RF = 8\n",
        "\n",
        "        self.convblock5 = nn.Sequential(\n",
        "            nn.Conv2d(in_channels=16, out_channels=32, kernel_size=(3, 3), padding=0, bias=False),\n",
        "            nn.BatchNorm2d(32),\n",
        "            nn.ReLU()\n",
        "        ) # output_size = 9, RF = 12\n",
        "\n",
        "        self.convblock6 = nn.Sequential(\n",
        "            nn.Conv2d(in_channels=32, out_channels=16, kernel_size=(3, 3), padding=0, bias=False),\n",
        "            nn.BatchNorm2d(16),\n",
        "            nn.ReLU()\n",
        "        ) # output_size = 7, RF = 16\n",
        "\n",
        "        # OUTPUT BLOCK\n",
        "        self.convblock7 = nn.Sequential(\n",
        "            nn.Conv2d(in_channels=16, out_channels=10, kernel_size=(7, 7), padding=0, bias=False),\n",
        "            nn.BatchNorm2d(10),\n",
        "            nn.ReLU()\n",
        "        ) # output_size = 1, RF = 28\n",
        "        self.convblock8 = nn.Sequential(\n",
        "            nn.Conv2d(in_channels=10, out_channels=10, kernel_size=(1, 1), padding=0, bias=False),\n",
        "        ) # output_size = 1, RF = 28\n",
        "\n",
        "    def forward(self, x):\n",
        "        x = self.convblock1(x)\n",
        "        x = self.convblock2(x)\n",
        "        x = self.convblock3(x)\n",
        "        x = self.pool1(x)\n",
        "        x = self.convblock4(x)\n",
        "        x = self.convblock5(x)\n",
        "        x = self.convblock6(x)\n",
        "        x = self.convblock7(x)\n",
        "        x = self.convblock8(x)\n",
        "        x = x.view(-1, 10)\n",
        "        return F.log_softmax(x, dim=-1)"
      ],
      "execution_count": 0,
      "outputs": []
    },
    {
      "cell_type": "markdown",
      "metadata": {
        "id": "M3-vp8X9LCWo",
        "colab_type": "text"
      },
      "source": [
        "# Model Params\n",
        "Can't emphasize on how important viewing Model Summary is. \n",
        "Unfortunately, there is no in-built model visualizer, so we have to take external help"
      ]
    },
    {
      "cell_type": "code",
      "metadata": {
        "id": "5skB97zIJQQe",
        "colab_type": "code",
        "outputId": "03b1a69a-3d48-4f12-ef65-ccf1052f2049",
        "colab": {
          "base_uri": "https://localhost:8080/",
          "height": 740
        }
      },
      "source": [
        "!pip install torchsummary\n",
        "from torchsummary import summary\n",
        "use_cuda = torch.cuda.is_available()\n",
        "device = torch.device(\"cuda\" if use_cuda else \"cpu\")\n",
        "print(device)\n",
        "model = Net().to(device)\n",
        "summary(model, input_size=(1, 28, 28))"
      ],
      "execution_count": 6,
      "outputs": [
        {
          "output_type": "stream",
          "text": [
            "Requirement already satisfied: torchsummary in /usr/local/lib/python3.6/dist-packages (1.5.1)\n",
            "cuda\n",
            "----------------------------------------------------------------\n",
            "        Layer (type)               Output Shape         Param #\n",
            "================================================================\n",
            "            Conv2d-1           [-1, 16, 26, 26]             144\n",
            "       BatchNorm2d-2           [-1, 16, 26, 26]              32\n",
            "              ReLU-3           [-1, 16, 26, 26]               0\n",
            "            Conv2d-4           [-1, 32, 24, 24]           4,608\n",
            "       BatchNorm2d-5           [-1, 32, 24, 24]              64\n",
            "              ReLU-6           [-1, 32, 24, 24]               0\n",
            "            Conv2d-7           [-1, 64, 22, 22]          18,432\n",
            "       BatchNorm2d-8           [-1, 64, 22, 22]             128\n",
            "              ReLU-9           [-1, 64, 22, 22]               0\n",
            "        MaxPool2d-10           [-1, 64, 11, 11]               0\n",
            "           Conv2d-11           [-1, 16, 11, 11]           1,024\n",
            "      BatchNorm2d-12           [-1, 16, 11, 11]              32\n",
            "             ReLU-13           [-1, 16, 11, 11]               0\n",
            "           Conv2d-14             [-1, 32, 9, 9]           4,608\n",
            "      BatchNorm2d-15             [-1, 32, 9, 9]              64\n",
            "             ReLU-16             [-1, 32, 9, 9]               0\n",
            "           Conv2d-17             [-1, 16, 7, 7]           4,608\n",
            "      BatchNorm2d-18             [-1, 16, 7, 7]              32\n",
            "             ReLU-19             [-1, 16, 7, 7]               0\n",
            "           Conv2d-20             [-1, 10, 1, 1]           7,840\n",
            "      BatchNorm2d-21             [-1, 10, 1, 1]              20\n",
            "             ReLU-22             [-1, 10, 1, 1]               0\n",
            "           Conv2d-23             [-1, 10, 1, 1]             100\n",
            "================================================================\n",
            "Total params: 41,736\n",
            "Trainable params: 41,736\n",
            "Non-trainable params: 0\n",
            "----------------------------------------------------------------\n",
            "Input size (MB): 0.00\n",
            "Forward/backward pass size (MB): 1.56\n",
            "Params size (MB): 0.16\n",
            "Estimated Total Size (MB): 1.72\n",
            "----------------------------------------------------------------\n"
          ],
          "name": "stdout"
        }
      ]
    },
    {
      "cell_type": "markdown",
      "metadata": {
        "id": "1__x_SbrL7z3",
        "colab_type": "text"
      },
      "source": [
        "# Training and Testing\n",
        "\n",
        "Looking at logs can be boring, so we'll introduce **tqdm** progressbar to get cooler logs. \n",
        "\n",
        "Let's write train and test functions"
      ]
    },
    {
      "cell_type": "code",
      "metadata": {
        "id": "fbkF2nN_LYIb",
        "colab_type": "code",
        "colab": {}
      },
      "source": [
        "from tqdm import tqdm\n",
        "\n",
        "train_losses = []\n",
        "test_losses = []\n",
        "train_acc = []\n",
        "test_acc = []\n",
        "\n",
        "def train(model, device, train_loader, optimizer, epoch):\n",
        "  model.train()\n",
        "  pbar = tqdm(train_loader)\n",
        "  correct = 0\n",
        "  processed = 0\n",
        "  for batch_idx, (data, target) in enumerate(pbar):\n",
        "    # get samples\n",
        "    data, target = data.to(device), target.to(device)\n",
        "\n",
        "    # Init\n",
        "    optimizer.zero_grad()\n",
        "    # In PyTorch, we need to set the gradients to zero before starting to do backpropragation because PyTorch accumulates the gradients on subsequent backward passes. \n",
        "    # Because of this, when you start your training loop, ideally you should zero out the gradients so that you do the parameter update correctly.\n",
        "\n",
        "    # Predict\n",
        "    y_pred = model(data)\n",
        "\n",
        "    # Calculate loss\n",
        "    loss = F.nll_loss(y_pred, target)\n",
        "    train_losses.append(loss)\n",
        "\n",
        "    # Backpropagation\n",
        "    loss.backward()\n",
        "    optimizer.step()\n",
        "\n",
        "    # Update pbar-tqdm\n",
        "    \n",
        "    pred = y_pred.argmax(dim=1, keepdim=True)  # get the index of the max log-probability\n",
        "    correct += pred.eq(target.view_as(pred)).sum().item()\n",
        "    processed += len(data)\n",
        "\n",
        "    pbar.set_description(desc= f'Loss={loss.item()} Batch_id={batch_idx} Accuracy={100*correct/processed:0.2f}')\n",
        "    train_acc.append(100*correct/processed)\n",
        "\n",
        "def test(model, device, test_loader):\n",
        "    model.eval()\n",
        "    test_loss = 0\n",
        "    correct = 0\n",
        "    with torch.no_grad():\n",
        "        for data, target in test_loader:\n",
        "            data, target = data.to(device), target.to(device)\n",
        "            output = model(data)\n",
        "            test_loss += F.nll_loss(output, target, reduction='sum').item()  # sum up batch loss\n",
        "            pred = output.argmax(dim=1, keepdim=True)  # get the index of the max log-probability\n",
        "            correct += pred.eq(target.view_as(pred)).sum().item()\n",
        "\n",
        "    test_loss /= len(test_loader.dataset)\n",
        "    test_losses.append(test_loss)\n",
        "\n",
        "    print('\\nTest set: Average loss: {:.4f}, Accuracy: {}/{} ({:.2f}%)\\n'.format(\n",
        "        test_loss, correct, len(test_loader.dataset),\n",
        "        100. * correct / len(test_loader.dataset)))\n",
        "    \n",
        "    test_acc.append(100. * correct / len(test_loader.dataset))"
      ],
      "execution_count": 0,
      "outputs": []
    },
    {
      "cell_type": "markdown",
      "metadata": {
        "id": "drokW8wWODKq",
        "colab_type": "text"
      },
      "source": [
        "# Let's Train and test our model"
      ]
    },
    {
      "cell_type": "code",
      "metadata": {
        "id": "xMCFxeAKOB53",
        "colab_type": "code",
        "outputId": "664ddb34-357a-4dc1-88a2-61b7fc638125",
        "colab": {
          "base_uri": "https://localhost:8080/",
          "height": 1000
        }
      },
      "source": [
        "model =  Net().to(device)\n",
        "optimizer = optim.SGD(model.parameters(), lr=0.01, momentum=0.9)\n",
        "EPOCHS = 20\n",
        "for epoch in range(EPOCHS):\n",
        "    print(\"EPOCH:\", epoch)\n",
        "    train(model, device, train_loader, optimizer, epoch)\n",
        "    test(model, device, test_loader)"
      ],
      "execution_count": 8,
      "outputs": [
        {
          "output_type": "stream",
          "text": [
            "\r  0%|          | 0/469 [00:00<?, ?it/s]"
          ],
          "name": "stderr"
        },
        {
          "output_type": "stream",
          "text": [
            "EPOCH: 0\n"
          ],
          "name": "stdout"
        },
        {
          "output_type": "stream",
          "text": [
            "Loss=0.0471205972135067 Batch_id=468 Accuracy=94.48: 100%|██████████| 469/469 [00:12<00:00, 39.01it/s]\n",
            "  0%|          | 0/469 [00:00<?, ?it/s]"
          ],
          "name": "stderr"
        },
        {
          "output_type": "stream",
          "text": [
            "\n",
            "Test set: Average loss: 0.0877, Accuracy: 9761/10000 (97.61%)\n",
            "\n",
            "EPOCH: 1\n"
          ],
          "name": "stdout"
        },
        {
          "output_type": "stream",
          "text": [
            "Loss=0.025281725451350212 Batch_id=468 Accuracy=98.89: 100%|██████████| 469/469 [00:11<00:00, 40.79it/s]\n",
            "  0%|          | 0/469 [00:00<?, ?it/s]"
          ],
          "name": "stderr"
        },
        {
          "output_type": "stream",
          "text": [
            "\n",
            "Test set: Average loss: 0.0307, Accuracy: 9918/10000 (99.18%)\n",
            "\n",
            "EPOCH: 2\n"
          ],
          "name": "stdout"
        },
        {
          "output_type": "stream",
          "text": [
            "Loss=0.035613831132650375 Batch_id=468 Accuracy=99.15: 100%|██████████| 469/469 [00:11<00:00, 46.24it/s]\n",
            "  0%|          | 0/469 [00:00<?, ?it/s]"
          ],
          "name": "stderr"
        },
        {
          "output_type": "stream",
          "text": [
            "\n",
            "Test set: Average loss: 0.0280, Accuracy: 9921/10000 (99.21%)\n",
            "\n",
            "EPOCH: 3\n"
          ],
          "name": "stdout"
        },
        {
          "output_type": "stream",
          "text": [
            "Loss=0.004904945846647024 Batch_id=468 Accuracy=99.35: 100%|██████████| 469/469 [00:11<00:00, 39.70it/s]\n",
            "  0%|          | 0/469 [00:00<?, ?it/s]"
          ],
          "name": "stderr"
        },
        {
          "output_type": "stream",
          "text": [
            "\n",
            "Test set: Average loss: 0.0357, Accuracy: 9887/10000 (98.87%)\n",
            "\n",
            "EPOCH: 4\n"
          ],
          "name": "stdout"
        },
        {
          "output_type": "stream",
          "text": [
            "Loss=0.061371784657239914 Batch_id=468 Accuracy=99.44: 100%|██████████| 469/469 [00:11<00:00, 39.64it/s]\n",
            "  0%|          | 0/469 [00:00<?, ?it/s]"
          ],
          "name": "stderr"
        },
        {
          "output_type": "stream",
          "text": [
            "\n",
            "Test set: Average loss: 0.0264, Accuracy: 9921/10000 (99.21%)\n",
            "\n",
            "EPOCH: 5\n"
          ],
          "name": "stdout"
        },
        {
          "output_type": "stream",
          "text": [
            "Loss=0.012661228887736797 Batch_id=468 Accuracy=99.56: 100%|██████████| 469/469 [00:11<00:00, 41.53it/s]\n",
            "  0%|          | 0/469 [00:00<?, ?it/s]"
          ],
          "name": "stderr"
        },
        {
          "output_type": "stream",
          "text": [
            "\n",
            "Test set: Average loss: 0.0241, Accuracy: 9931/10000 (99.31%)\n",
            "\n",
            "EPOCH: 6\n"
          ],
          "name": "stdout"
        },
        {
          "output_type": "stream",
          "text": [
            "Loss=0.006658762693405151 Batch_id=468 Accuracy=99.67: 100%|██████████| 469/469 [00:11<00:00, 40.86it/s]\n",
            "  0%|          | 0/469 [00:00<?, ?it/s]"
          ],
          "name": "stderr"
        },
        {
          "output_type": "stream",
          "text": [
            "\n",
            "Test set: Average loss: 0.0195, Accuracy: 9946/10000 (99.46%)\n",
            "\n",
            "EPOCH: 7\n"
          ],
          "name": "stdout"
        },
        {
          "output_type": "stream",
          "text": [
            "Loss=0.001854926347732544 Batch_id=468 Accuracy=99.71: 100%|██████████| 469/469 [00:11<00:00, 39.94it/s]\n",
            "  0%|          | 0/469 [00:00<?, ?it/s]"
          ],
          "name": "stderr"
        },
        {
          "output_type": "stream",
          "text": [
            "\n",
            "Test set: Average loss: 0.0208, Accuracy: 9942/10000 (99.42%)\n",
            "\n",
            "EPOCH: 8\n"
          ],
          "name": "stdout"
        },
        {
          "output_type": "stream",
          "text": [
            "Loss=0.007009113673120737 Batch_id=468 Accuracy=99.78: 100%|██████████| 469/469 [00:11<00:00, 40.65it/s]\n",
            "  0%|          | 0/469 [00:00<?, ?it/s]"
          ],
          "name": "stderr"
        },
        {
          "output_type": "stream",
          "text": [
            "\n",
            "Test set: Average loss: 0.0254, Accuracy: 9928/10000 (99.28%)\n",
            "\n",
            "EPOCH: 9\n"
          ],
          "name": "stdout"
        },
        {
          "output_type": "stream",
          "text": [
            "Loss=0.0028713445644825697 Batch_id=468 Accuracy=99.79: 100%|██████████| 469/469 [00:11<00:00, 39.24it/s]\n",
            "  0%|          | 0/469 [00:00<?, ?it/s]"
          ],
          "name": "stderr"
        },
        {
          "output_type": "stream",
          "text": [
            "\n",
            "Test set: Average loss: 0.0230, Accuracy: 9927/10000 (99.27%)\n",
            "\n",
            "EPOCH: 10\n"
          ],
          "name": "stdout"
        },
        {
          "output_type": "stream",
          "text": [
            "Loss=0.0019342502346262336 Batch_id=468 Accuracy=99.86: 100%|██████████| 469/469 [00:11<00:00, 40.24it/s]\n",
            "  0%|          | 0/469 [00:00<?, ?it/s]"
          ],
          "name": "stderr"
        },
        {
          "output_type": "stream",
          "text": [
            "\n",
            "Test set: Average loss: 0.0215, Accuracy: 9932/10000 (99.32%)\n",
            "\n",
            "EPOCH: 11\n"
          ],
          "name": "stdout"
        },
        {
          "output_type": "stream",
          "text": [
            "Loss=0.004766558762639761 Batch_id=468 Accuracy=99.93: 100%|██████████| 469/469 [00:11<00:00, 40.14it/s]\n",
            "  0%|          | 0/469 [00:00<?, ?it/s]"
          ],
          "name": "stderr"
        },
        {
          "output_type": "stream",
          "text": [
            "\n",
            "Test set: Average loss: 0.0234, Accuracy: 9932/10000 (99.32%)\n",
            "\n",
            "EPOCH: 12\n"
          ],
          "name": "stdout"
        },
        {
          "output_type": "stream",
          "text": [
            "Loss=0.020913684740662575 Batch_id=468 Accuracy=99.93: 100%|██████████| 469/469 [00:11<00:00, 40.36it/s]\n",
            "  0%|          | 0/469 [00:00<?, ?it/s]"
          ],
          "name": "stderr"
        },
        {
          "output_type": "stream",
          "text": [
            "\n",
            "Test set: Average loss: 0.0204, Accuracy: 9943/10000 (99.43%)\n",
            "\n",
            "EPOCH: 13\n"
          ],
          "name": "stdout"
        },
        {
          "output_type": "stream",
          "text": [
            "Loss=0.0011290112743154168 Batch_id=468 Accuracy=99.93: 100%|██████████| 469/469 [00:11<00:00, 40.79it/s]\n",
            "  0%|          | 0/469 [00:00<?, ?it/s]"
          ],
          "name": "stderr"
        },
        {
          "output_type": "stream",
          "text": [
            "\n",
            "Test set: Average loss: 0.0206, Accuracy: 9934/10000 (99.34%)\n",
            "\n",
            "EPOCH: 14\n"
          ],
          "name": "stdout"
        },
        {
          "output_type": "stream",
          "text": [
            "Loss=0.0013429522514343262 Batch_id=468 Accuracy=99.94: 100%|██████████| 469/469 [00:11<00:00, 39.91it/s]\n",
            "  0%|          | 0/469 [00:00<?, ?it/s]"
          ],
          "name": "stderr"
        },
        {
          "output_type": "stream",
          "text": [
            "\n",
            "Test set: Average loss: 0.0208, Accuracy: 9936/10000 (99.36%)\n",
            "\n",
            "EPOCH: 15\n"
          ],
          "name": "stdout"
        },
        {
          "output_type": "stream",
          "text": [
            "Loss=0.0032822240609675646 Batch_id=468 Accuracy=99.94: 100%|██████████| 469/469 [00:11<00:00, 40.99it/s]\n",
            "  0%|          | 0/469 [00:00<?, ?it/s]"
          ],
          "name": "stderr"
        },
        {
          "output_type": "stream",
          "text": [
            "\n",
            "Test set: Average loss: 0.0236, Accuracy: 9932/10000 (99.32%)\n",
            "\n",
            "EPOCH: 16\n"
          ],
          "name": "stdout"
        },
        {
          "output_type": "stream",
          "text": [
            "Loss=0.007211029529571533 Batch_id=468 Accuracy=99.97: 100%|██████████| 469/469 [00:11<00:00, 44.44it/s]\n",
            "  0%|          | 0/469 [00:00<?, ?it/s]"
          ],
          "name": "stderr"
        },
        {
          "output_type": "stream",
          "text": [
            "\n",
            "Test set: Average loss: 0.0224, Accuracy: 9931/10000 (99.31%)\n",
            "\n",
            "EPOCH: 17\n"
          ],
          "name": "stdout"
        },
        {
          "output_type": "stream",
          "text": [
            "Loss=0.0008608450298197567 Batch_id=468 Accuracy=99.95: 100%|██████████| 469/469 [00:11<00:00, 39.66it/s]\n",
            "  0%|          | 0/469 [00:00<?, ?it/s]"
          ],
          "name": "stderr"
        },
        {
          "output_type": "stream",
          "text": [
            "\n",
            "Test set: Average loss: 0.0253, Accuracy: 9927/10000 (99.27%)\n",
            "\n",
            "EPOCH: 18\n"
          ],
          "name": "stdout"
        },
        {
          "output_type": "stream",
          "text": [
            "Loss=0.009604543447494507 Batch_id=468 Accuracy=99.97: 100%|██████████| 469/469 [00:11<00:00, 39.96it/s]\n",
            "  0%|          | 0/469 [00:00<?, ?it/s]"
          ],
          "name": "stderr"
        },
        {
          "output_type": "stream",
          "text": [
            "\n",
            "Test set: Average loss: 0.0232, Accuracy: 9927/10000 (99.27%)\n",
            "\n",
            "EPOCH: 19\n"
          ],
          "name": "stdout"
        },
        {
          "output_type": "stream",
          "text": [
            "Loss=0.0012204746017232537 Batch_id=468 Accuracy=100.00: 100%|██████████| 469/469 [00:11<00:00, 41.19it/s]\n"
          ],
          "name": "stderr"
        },
        {
          "output_type": "stream",
          "text": [
            "\n",
            "Test set: Average loss: 0.0203, Accuracy: 9940/10000 (99.40%)\n",
            "\n"
          ],
          "name": "stdout"
        }
      ]
    },
    {
      "cell_type": "code",
      "metadata": {
        "id": "87RaqGSEOWDe",
        "colab_type": "code",
        "outputId": "722af2e8-ca6a-4189-e332-9cc0b1f8c801",
        "colab": {
          "base_uri": "https://localhost:8080/",
          "height": 625
        }
      },
      "source": [
        "fig, axs = plt.subplots(2,2,figsize=(15,10))\n",
        "axs[0, 0].plot(train_losses)\n",
        "axs[0, 0].set_title(\"Training Loss\")\n",
        "axs[1, 0].plot(train_acc)\n",
        "axs[1, 0].set_title(\"Training Accuracy\")\n",
        "axs[0, 1].plot(test_losses)\n",
        "axs[0, 1].set_title(\"Test Loss\")\n",
        "axs[1, 1].plot(test_acc)\n",
        "axs[1, 1].set_title(\"Test Accuracy\")"
      ],
      "execution_count": 0,
      "outputs": [
        {
          "output_type": "execute_result",
          "data": {
            "text/plain": [
              "Text(0.5, 1.0, 'Test Accuracy')"
            ]
          },
          "metadata": {
            "tags": []
          },
          "execution_count": 11
        },
        {
          "output_type": "display_data",
          "data": {
            "image/png": "[encoded data removed]",
            "text/plain": [
              "<Figure size 1080x720 with 4 Axes>"
            ]
          },
          "metadata": {
            "tags": []
          }
        }
      ]
    }
  ]
}