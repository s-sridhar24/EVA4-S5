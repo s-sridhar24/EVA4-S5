{
  "nbformat": 4,
  "nbformat_minor": 0,
  "metadata": {
    "colab": {
      "name": "Play_EVA4S5F1.ipynb",
      "provenance": [],
      "collapsed_sections": [],
      "include_colab_link": true
    },
    "kernelspec": {
      "name": "python3",
      "display_name": "Python 3"
    },
    "accelerator": "GPU",
    "widgets": {
      "application/vnd.jupyter.widget-state+json": {
        "7eb5e167e66842199c3d885c1cb64271": {
          "model_module": "@jupyter-widgets/controls",
          "model_name": "HBoxModel",
          "state": {
            "_view_name": "HBoxView",
            "_dom_classes": [],
            "_model_name": "HBoxModel",
            "_view_module": "@jupyter-widgets/controls",
            "_model_module_version": "1.5.0",
            "_view_count": null,
            "_view_module_version": "1.5.0",
            "box_style": "",
            "layout": "IPY_MODEL_ef821e288acf476d87b01fe007329aee",
            "_model_module": "@jupyter-widgets/controls",
            "children": [
              "IPY_MODEL_6d82fad24cc64f31bcfb6a157d4bc21c",
              "IPY_MODEL_6c0b409dbb4d47c6adc40a6465427017"
            ]
          }
        },
        "ef821e288acf476d87b01fe007329aee": {
          "model_module": "@jupyter-widgets/base",
          "model_name": "LayoutModel",
          "state": {
            "_view_name": "LayoutView",
            "grid_template_rows": null,
            "right": null,
            "justify_content": null,
            "_view_module": "@jupyter-widgets/base",
            "overflow": null,
            "_model_module_version": "1.2.0",
            "_view_count": null,
            "flex_flow": null,
            "width": null,
            "min_width": null,
            "border": null,
            "align_items": null,
            "bottom": null,
            "_model_module": "@jupyter-widgets/base",
            "top": null,
            "grid_column": null,
            "overflow_y": null,
            "overflow_x": null,
            "grid_auto_flow": null,
            "grid_area": null,
            "grid_template_columns": null,
            "flex": null,
            "_model_name": "LayoutModel",
            "justify_items": null,
            "grid_row": null,
            "max_height": null,
            "align_content": null,
            "visibility": null,
            "align_self": null,
            "height": null,
            "min_height": null,
            "padding": null,
            "grid_auto_rows": null,
            "grid_gap": null,
            "max_width": null,
            "order": null,
            "_view_module_version": "1.2.0",
            "grid_template_areas": null,
            "object_position": null,
            "object_fit": null,
            "grid_auto_columns": null,
            "margin": null,
            "display": null,
            "left": null
          }
        },
        "6d82fad24cc64f31bcfb6a157d4bc21c": {
          "model_module": "@jupyter-widgets/controls",
          "model_name": "IntProgressModel",
          "state": {
            "_view_name": "ProgressView",
            "style": "IPY_MODEL_5c65b9ac2e5b4ab3a7913d640c63b947",
            "_dom_classes": [],
            "description": "",
            "_model_name": "IntProgressModel",
            "bar_style": "success",
            "max": 1,
            "_view_module": "@jupyter-widgets/controls",
            "_model_module_version": "1.5.0",
            "value": 1,
            "_view_count": null,
            "_view_module_version": "1.5.0",
            "orientation": "horizontal",
            "min": 0,
            "description_tooltip": null,
            "_model_module": "@jupyter-widgets/controls",
            "layout": "IPY_MODEL_efd351fff4b548f1aa7c4e39760d2628"
          }
        },
        "6c0b409dbb4d47c6adc40a6465427017": {
          "model_module": "@jupyter-widgets/controls",
          "model_name": "HTMLModel",
          "state": {
            "_view_name": "HTMLView",
            "style": "IPY_MODEL_9c0655794cbc46619e04eb3dbd8035c8",
            "_dom_classes": [],
            "description": "",
            "_model_name": "HTMLModel",
            "placeholder": "​",
            "_view_module": "@jupyter-widgets/controls",
            "_model_module_version": "1.5.0",
            "value": "9920512it [00:00, 10800972.06it/s]",
            "_view_count": null,
            "_view_module_version": "1.5.0",
            "description_tooltip": null,
            "_model_module": "@jupyter-widgets/controls",
            "layout": "IPY_MODEL_256bb0a87d7642f0adffb3c58ce2b71e"
          }
        },
        "5c65b9ac2e5b4ab3a7913d640c63b947": {
          "model_module": "@jupyter-widgets/controls",
          "model_name": "ProgressStyleModel",
          "state": {
            "_view_name": "StyleView",
            "_model_name": "ProgressStyleModel",
            "description_width": "",
            "_view_module": "@jupyter-widgets/base",
            "_model_module_version": "1.5.0",
            "_view_count": null,
            "_view_module_version": "1.2.0",
            "bar_color": null,
            "_model_module": "@jupyter-widgets/controls"
          }
        },
        "efd351fff4b548f1aa7c4e39760d2628": {
          "model_module": "@jupyter-widgets/base",
          "model_name": "LayoutModel",
          "state": {
            "_view_name": "LayoutView",
            "grid_template_rows": null,
            "right": null,
            "justify_content": null,
            "_view_module": "@jupyter-widgets/base",
            "overflow": null,
            "_model_module_version": "1.2.0",
            "_view_count": null,
            "flex_flow": null,
            "width": null,
            "min_width": null,
            "border": null,
            "align_items": null,
            "bottom": null,
            "_model_module": "@jupyter-widgets/base",
            "top": null,
            "grid_column": null,
            "overflow_y": null,
            "overflow_x": null,
            "grid_auto_flow": null,
            "grid_area": null,
            "grid_template_columns": null,
            "flex": null,
            "_model_name": "LayoutModel",
            "justify_items": null,
            "grid_row": null,
            "max_height": null,
            "align_content": null,
            "visibility": null,
            "align_self": null,
            "height": null,
            "min_height": null,
            "padding": null,
            "grid_auto_rows": null,
            "grid_gap": null,
            "max_width": null,
            "order": null,
            "_view_module_version": "1.2.0",
            "grid_template_areas": null,
            "object_position": null,
            "object_fit": null,
            "grid_auto_columns": null,
            "margin": null,
            "display": null,
            "left": null
          }
        },
        "9c0655794cbc46619e04eb3dbd8035c8": {
          "model_module": "@jupyter-widgets/controls",
          "model_name": "DescriptionStyleModel",
          "state": {
            "_view_name": "StyleView",
            "_model_name": "DescriptionStyleModel",
            "description_width": "",
            "_view_module": "@jupyter-widgets/base",
            "_model_module_version": "1.5.0",
            "_view_count": null,
            "_view_module_version": "1.2.0",
            "_model_module": "@jupyter-widgets/controls"
          }
        },
        "256bb0a87d7642f0adffb3c58ce2b71e": {
          "model_module": "@jupyter-widgets/base",
          "model_name": "LayoutModel",
          "state": {
            "_view_name": "LayoutView",
            "grid_template_rows": null,
            "right": null,
            "justify_content": null,
            "_view_module": "@jupyter-widgets/base",
            "overflow": null,
            "_model_module_version": "1.2.0",
            "_view_count": null,
            "flex_flow": null,
            "width": null,
            "min_width": null,
            "border": null,
            "align_items": null,
            "bottom": null,
            "_model_module": "@jupyter-widgets/base",
            "top": null,
            "grid_column": null,
            "overflow_y": null,
            "overflow_x": null,
            "grid_auto_flow": null,
            "grid_area": null,
            "grid_template_columns": null,
            "flex": null,
            "_model_name": "LayoutModel",
            "justify_items": null,
            "grid_row": null,
            "max_height": null,
            "align_content": null,
            "visibility": null,
            "align_self": null,
            "height": null,
            "min_height": null,
            "padding": null,
            "grid_auto_rows": null,
            "grid_gap": null,
            "max_width": null,
            "order": null,
            "_view_module_version": "1.2.0",
            "grid_template_areas": null,
            "object_position": null,
            "object_fit": null,
            "grid_auto_columns": null,
            "margin": null,
            "display": null,
            "left": null
          }
        },
        "15366cf50ac3409f8d11153fd776a9b0": {
          "model_module": "@jupyter-widgets/controls",
          "model_name": "HBoxModel",
          "state": {
            "_view_name": "HBoxView",
            "_dom_classes": [],
            "_model_name": "HBoxModel",
            "_view_module": "@jupyter-widgets/controls",
            "_model_module_version": "1.5.0",
            "_view_count": null,
            "_view_module_version": "1.5.0",
            "box_style": "",
            "layout": "IPY_MODEL_c53edc66adf3475e80895b60a54e9796",
            "_model_module": "@jupyter-widgets/controls",
            "children": [
              "IPY_MODEL_4fa18ceede744e959ec2b406e16fd5e9",
              "IPY_MODEL_a83efce1ea4941858bd55363f57934d4"
            ]
          }
        },
        "c53edc66adf3475e80895b60a54e9796": {
          "model_module": "@jupyter-widgets/base",
          "model_name": "LayoutModel",
          "state": {
            "_view_name": "LayoutView",
            "grid_template_rows": null,
            "right": null,
            "justify_content": null,
            "_view_module": "@jupyter-widgets/base",
            "overflow": null,
            "_model_module_version": "1.2.0",
            "_view_count": null,
            "flex_flow": null,
            "width": null,
            "min_width": null,
            "border": null,
            "align_items": null,
            "bottom": null,
            "_model_module": "@jupyter-widgets/base",
            "top": null,
            "grid_column": null,
            "overflow_y": null,
            "overflow_x": null,
            "grid_auto_flow": null,
            "grid_area": null,
            "grid_template_columns": null,
            "flex": null,
            "_model_name": "LayoutModel",
            "justify_items": null,
            "grid_row": null,
            "max_height": null,
            "align_content": null,
            "visibility": null,
            "align_self": null,
            "height": null,
            "min_height": null,
            "padding": null,
            "grid_auto_rows": null,
            "grid_gap": null,
            "max_width": null,
            "order": null,
            "_view_module_version": "1.2.0",
            "grid_template_areas": null,
            "object_position": null,
            "object_fit": null,
            "grid_auto_columns": null,
            "margin": null,
            "display": null,
            "left": null
          }
        },
        "4fa18ceede744e959ec2b406e16fd5e9": {
          "model_module": "@jupyter-widgets/controls",
          "model_name": "IntProgressModel",
          "state": {
            "_view_name": "ProgressView",
            "style": "IPY_MODEL_c829a5b09baa48aa9b23096e4008fbc2",
            "_dom_classes": [],
            "description": "",
            "_model_name": "IntProgressModel",
            "bar_style": "success",
            "max": 1,
            "_view_module": "@jupyter-widgets/controls",
            "_model_module_version": "1.5.0",
            "value": 1,
            "_view_count": null,
            "_view_module_version": "1.5.0",
            "orientation": "horizontal",
            "min": 0,
            "description_tooltip": null,
            "_model_module": "@jupyter-widgets/controls",
            "layout": "IPY_MODEL_63f79254f9d3463d8154d3e89c453a66"
          }
        },
        "a83efce1ea4941858bd55363f57934d4": {
          "model_module": "@jupyter-widgets/controls",
          "model_name": "HTMLModel",
          "state": {
            "_view_name": "HTMLView",
            "style": "IPY_MODEL_4b588e79bd154fc4b3a4306f0279e810",
            "_dom_classes": [],
            "description": "",
            "_model_name": "HTMLModel",
            "placeholder": "​",
            "_view_module": "@jupyter-widgets/controls",
            "_model_module_version": "1.5.0",
            "value": "32768it [00:00, 142628.79it/s]",
            "_view_count": null,
            "_view_module_version": "1.5.0",
            "description_tooltip": null,
            "_model_module": "@jupyter-widgets/controls",
            "layout": "IPY_MODEL_df27bf62a26a44459c00244440a6844d"
          }
        },
        "c829a5b09baa48aa9b23096e4008fbc2": {
          "model_module": "@jupyter-widgets/controls",
          "model_name": "ProgressStyleModel",
          "state": {
            "_view_name": "StyleView",
            "_model_name": "ProgressStyleModel",
            "description_width": "",
            "_view_module": "@jupyter-widgets/base",
            "_model_module_version": "1.5.0",
            "_view_count": null,
            "_view_module_version": "1.2.0",
            "bar_color": null,
            "_model_module": "@jupyter-widgets/controls"
          }
        },
        "63f79254f9d3463d8154d3e89c453a66": {
          "model_module": "@jupyter-widgets/base",
          "model_name": "LayoutModel",
          "state": {
            "_view_name": "LayoutView",
            "grid_template_rows": null,
            "right": null,
            "justify_content": null,
            "_view_module": "@jupyter-widgets/base",
            "overflow": null,
            "_model_module_version": "1.2.0",
            "_view_count": null,
            "flex_flow": null,
            "width": null,
            "min_width": null,
            "border": null,
            "align_items": null,
            "bottom": null,
            "_model_module": "@jupyter-widgets/base",
            "top": null,
            "grid_column": null,
            "overflow_y": null,
            "overflow_x": null,
            "grid_auto_flow": null,
            "grid_area": null,
            "grid_template_columns": null,
            "flex": null,
            "_model_name": "LayoutModel",
            "justify_items": null,
            "grid_row": null,
            "max_height": null,
            "align_content": null,
            "visibility": null,
            "align_self": null,
            "height": null,
            "min_height": null,
            "padding": null,
            "grid_auto_rows": null,
            "grid_gap": null,
            "max_width": null,
            "order": null,
            "_view_module_version": "1.2.0",
            "grid_template_areas": null,
            "object_position": null,
            "object_fit": null,
            "grid_auto_columns": null,
            "margin": null,
            "display": null,
            "left": null
          }
        },
        "4b588e79bd154fc4b3a4306f0279e810": {
          "model_module": "@jupyter-widgets/controls",
          "model_name": "DescriptionStyleModel",
          "state": {
            "_view_name": "StyleView",
            "_model_name": "DescriptionStyleModel",
            "description_width": "",
            "_view_module": "@jupyter-widgets/base",
            "_model_module_version": "1.5.0",
            "_view_count": null,
            "_view_module_version": "1.2.0",
            "_model_module": "@jupyter-widgets/controls"
          }
        },
        "df27bf62a26a44459c00244440a6844d": {
          "model_module": "@jupyter-widgets/base",
          "model_name": "LayoutModel",
          "state": {
            "_view_name": "LayoutView",
            "grid_template_rows": null,
            "right": null,
            "justify_content": null,
            "_view_module": "@jupyter-widgets/base",
            "overflow": null,
            "_model_module_version": "1.2.0",
            "_view_count": null,
            "flex_flow": null,
            "width": null,
            "min_width": null,
            "border": null,
            "align_items": null,
            "bottom": null,
            "_model_module": "@jupyter-widgets/base",
            "top": null,
            "grid_column": null,
            "overflow_y": null,
            "overflow_x": null,
            "grid_auto_flow": null,
            "grid_area": null,
            "grid_template_columns": null,
            "flex": null,
            "_model_name": "LayoutModel",
            "justify_items": null,
            "grid_row": null,
            "max_height": null,
            "align_content": null,
            "visibility": null,
            "align_self": null,
            "height": null,
            "min_height": null,
            "padding": null,
            "grid_auto_rows": null,
            "grid_gap": null,
            "max_width": null,
            "order": null,
            "_view_module_version": "1.2.0",
            "grid_template_areas": null,
            "object_position": null,
            "object_fit": null,
            "grid_auto_columns": null,
            "margin": null,
            "display": null,
            "left": null
          }
        },
        "e0202fe256f0467fb4c317d28842d249": {
          "model_module": "@jupyter-widgets/controls",
          "model_name": "HBoxModel",
          "state": {
            "_view_name": "HBoxView",
            "_dom_classes": [],
            "_model_name": "HBoxModel",
            "_view_module": "@jupyter-widgets/controls",
            "_model_module_version": "1.5.0",
            "_view_count": null,
            "_view_module_version": "1.5.0",
            "box_style": "",
            "layout": "IPY_MODEL_05777b9ee0e344cbbdbe71af0fdbc038",
            "_model_module": "@jupyter-widgets/controls",
            "children": [
              "IPY_MODEL_ce015aaa4ad542c9b05c4e159a1cd2b4",
              "IPY_MODEL_038daf10655a4847b53fca4c4aba00bc"
            ]
          }
        },
        "05777b9ee0e344cbbdbe71af0fdbc038": {
          "model_module": "@jupyter-widgets/base",
          "model_name": "LayoutModel",
          "state": {
            "_view_name": "LayoutView",
            "grid_template_rows": null,
            "right": null,
            "justify_content": null,
            "_view_module": "@jupyter-widgets/base",
            "overflow": null,
            "_model_module_version": "1.2.0",
            "_view_count": null,
            "flex_flow": null,
            "width": null,
            "min_width": null,
            "border": null,
            "align_items": null,
            "bottom": null,
            "_model_module": "@jupyter-widgets/base",
            "top": null,
            "grid_column": null,
            "overflow_y": null,
            "overflow_x": null,
            "grid_auto_flow": null,
            "grid_area": null,
            "grid_template_columns": null,
            "flex": null,
            "_model_name": "LayoutModel",
            "justify_items": null,
            "grid_row": null,
            "max_height": null,
            "align_content": null,
            "visibility": null,
            "align_self": null,
            "height": null,
            "min_height": null,
            "padding": null,
            "grid_auto_rows": null,
            "grid_gap": null,
            "max_width": null,
            "order": null,
            "_view_module_version": "1.2.0",
            "grid_template_areas": null,
            "object_position": null,
            "object_fit": null,
            "grid_auto_columns": null,
            "margin": null,
            "display": null,
            "left": null
          }
        },
        "ce015aaa4ad542c9b05c4e159a1cd2b4": {
          "model_module": "@jupyter-widgets/controls",
          "model_name": "IntProgressModel",
          "state": {
            "_view_name": "ProgressView",
            "style": "IPY_MODEL_24c99ab717884f998afec121d8842325",
            "_dom_classes": [],
            "description": "",
            "_model_name": "IntProgressModel",
            "bar_style": "success",
            "max": 1,
            "_view_module": "@jupyter-widgets/controls",
            "_model_module_version": "1.5.0",
            "value": 1,
            "_view_count": null,
            "_view_module_version": "1.5.0",
            "orientation": "horizontal",
            "min": 0,
            "description_tooltip": null,
            "_model_module": "@jupyter-widgets/controls",
            "layout": "IPY_MODEL_0580dd3c69064d82a952f9c284c9d7c2"
          }
        },
        "038daf10655a4847b53fca4c4aba00bc": {
          "model_module": "@jupyter-widgets/controls",
          "model_name": "HTMLModel",
          "state": {
            "_view_name": "HTMLView",
            "style": "IPY_MODEL_206d77eeee864bb3a89c48496f7fc97d",
            "_dom_classes": [],
            "description": "",
            "_model_name": "HTMLModel",
            "placeholder": "​",
            "_view_module": "@jupyter-widgets/controls",
            "_model_module_version": "1.5.0",
            "value": "1654784it [00:00, 2840147.46it/s]",
            "_view_count": null,
            "_view_module_version": "1.5.0",
            "description_tooltip": null,
            "_model_module": "@jupyter-widgets/controls",
            "layout": "IPY_MODEL_88e4d131cfc746459ea34663ff94f275"
          }
        },
        "24c99ab717884f998afec121d8842325": {
          "model_module": "@jupyter-widgets/controls",
          "model_name": "ProgressStyleModel",
          "state": {
            "_view_name": "StyleView",
            "_model_name": "ProgressStyleModel",
            "description_width": "",
            "_view_module": "@jupyter-widgets/base",
            "_model_module_version": "1.5.0",
            "_view_count": null,
            "_view_module_version": "1.2.0",
            "bar_color": null,
            "_model_module": "@jupyter-widgets/controls"
          }
        },
        "0580dd3c69064d82a952f9c284c9d7c2": {
          "model_module": "@jupyter-widgets/base",
          "model_name": "LayoutModel",
          "state": {
            "_view_name": "LayoutView",
            "grid_template_rows": null,
            "right": null,
            "justify_content": null,
            "_view_module": "@jupyter-widgets/base",
            "overflow": null,
            "_model_module_version": "1.2.0",
            "_view_count": null,
            "flex_flow": null,
            "width": null,
            "min_width": null,
            "border": null,
            "align_items": null,
            "bottom": null,
            "_model_module": "@jupyter-widgets/base",
            "top": null,
            "grid_column": null,
            "overflow_y": null,
            "overflow_x": null,
            "grid_auto_flow": null,
            "grid_area": null,
            "grid_template_columns": null,
            "flex": null,
            "_model_name": "LayoutModel",
            "justify_items": null,
            "grid_row": null,
            "max_height": null,
            "align_content": null,
            "visibility": null,
            "align_self": null,
            "height": null,
            "min_height": null,
            "padding": null,
            "grid_auto_rows": null,
            "grid_gap": null,
            "max_width": null,
            "order": null,
            "_view_module_version": "1.2.0",
            "grid_template_areas": null,
            "object_position": null,
            "object_fit": null,
            "grid_auto_columns": null,
            "margin": null,
            "display": null,
            "left": null
          }
        },
        "206d77eeee864bb3a89c48496f7fc97d": {
          "model_module": "@jupyter-widgets/controls",
          "model_name": "DescriptionStyleModel",
          "state": {
            "_view_name": "StyleView",
            "_model_name": "DescriptionStyleModel",
            "description_width": "",
            "_view_module": "@jupyter-widgets/base",
            "_model_module_version": "1.5.0",
            "_view_count": null,
            "_view_module_version": "1.2.0",
            "_model_module": "@jupyter-widgets/controls"
          }
        },
        "88e4d131cfc746459ea34663ff94f275": {
          "model_module": "@jupyter-widgets/base",
          "model_name": "LayoutModel",
          "state": {
            "_view_name": "LayoutView",
            "grid_template_rows": null,
            "right": null,
            "justify_content": null,
            "_view_module": "@jupyter-widgets/base",
            "overflow": null,
            "_model_module_version": "1.2.0",
            "_view_count": null,
            "flex_flow": null,
            "width": null,
            "min_width": null,
            "border": null,
            "align_items": null,
            "bottom": null,
            "_model_module": "@jupyter-widgets/base",
            "top": null,
            "grid_column": null,
            "overflow_y": null,
            "overflow_x": null,
            "grid_auto_flow": null,
            "grid_area": null,
            "grid_template_columns": null,
            "flex": null,
            "_model_name": "LayoutModel",
            "justify_items": null,
            "grid_row": null,
            "max_height": null,
            "align_content": null,
            "visibility": null,
            "align_self": null,
            "height": null,
            "min_height": null,
            "padding": null,
            "grid_auto_rows": null,
            "grid_gap": null,
            "max_width": null,
            "order": null,
            "_view_module_version": "1.2.0",
            "grid_template_areas": null,
            "object_position": null,
            "object_fit": null,
            "grid_auto_columns": null,
            "margin": null,
            "display": null,
            "left": null
          }
        },
        "a1e5fc37dd2041109a46249276bc6537": {
          "model_module": "@jupyter-widgets/controls",
          "model_name": "HBoxModel",
          "state": {
            "_view_name": "HBoxView",
            "_dom_classes": [],
            "_model_name": "HBoxModel",
            "_view_module": "@jupyter-widgets/controls",
            "_model_module_version": "1.5.0",
            "_view_count": null,
            "_view_module_version": "1.5.0",
            "box_style": "",
            "layout": "IPY_MODEL_c1dfca722f7c4ba6bfdfcd8d00b8199f",
            "_model_module": "@jupyter-widgets/controls",
            "children": [
              "IPY_MODEL_4b6024f5fcc44a27956ed96669d58da9",
              "IPY_MODEL_d279c65c11a145aebe50b0969098c526"
            ]
          }
        },
        "c1dfca722f7c4ba6bfdfcd8d00b8199f": {
          "model_module": "@jupyter-widgets/base",
          "model_name": "LayoutModel",
          "state": {
            "_view_name": "LayoutView",
            "grid_template_rows": null,
            "right": null,
            "justify_content": null,
            "_view_module": "@jupyter-widgets/base",
            "overflow": null,
            "_model_module_version": "1.2.0",
            "_view_count": null,
            "flex_flow": null,
            "width": null,
            "min_width": null,
            "border": null,
            "align_items": null,
            "bottom": null,
            "_model_module": "@jupyter-widgets/base",
            "top": null,
            "grid_column": null,
            "overflow_y": null,
            "overflow_x": null,
            "grid_auto_flow": null,
            "grid_area": null,
            "grid_template_columns": null,
            "flex": null,
            "_model_name": "LayoutModel",
            "justify_items": null,
            "grid_row": null,
            "max_height": null,
            "align_content": null,
            "visibility": null,
            "align_self": null,
            "height": null,
            "min_height": null,
            "padding": null,
            "grid_auto_rows": null,
            "grid_gap": null,
            "max_width": null,
            "order": null,
            "_view_module_version": "1.2.0",
            "grid_template_areas": null,
            "object_position": null,
            "object_fit": null,
            "grid_auto_columns": null,
            "margin": null,
            "display": null,
            "left": null
          }
        },
        "4b6024f5fcc44a27956ed96669d58da9": {
          "model_module": "@jupyter-widgets/controls",
          "model_name": "IntProgressModel",
          "state": {
            "_view_name": "ProgressView",
            "style": "IPY_MODEL_3f941509df3140d1ba9265ad351e8bd1",
            "_dom_classes": [],
            "description": "",
            "_model_name": "IntProgressModel",
            "bar_style": "success",
            "max": 1,
            "_view_module": "@jupyter-widgets/controls",
            "_model_module_version": "1.5.0",
            "value": 1,
            "_view_count": null,
            "_view_module_version": "1.5.0",
            "orientation": "horizontal",
            "min": 0,
            "description_tooltip": null,
            "_model_module": "@jupyter-widgets/controls",
            "layout": "IPY_MODEL_45f68beb2c2a4ad5a08640fbaf2d05b9"
          }
        },
        "d279c65c11a145aebe50b0969098c526": {
          "model_module": "@jupyter-widgets/controls",
          "model_name": "HTMLModel",
          "state": {
            "_view_name": "HTMLView",
            "style": "IPY_MODEL_ff901df71aa8448684efee3bd749773a",
            "_dom_classes": [],
            "description": "",
            "_model_name": "HTMLModel",
            "placeholder": "​",
            "_view_module": "@jupyter-widgets/controls",
            "_model_module_version": "1.5.0",
            "value": "8192it [00:00, 51840.52it/s]",
            "_view_count": null,
            "_view_module_version": "1.5.0",
            "description_tooltip": null,
            "_model_module": "@jupyter-widgets/controls",
            "layout": "IPY_MODEL_f94b9d33103f447d82d3c43baabdb789"
          }
        },
        "3f941509df3140d1ba9265ad351e8bd1": {
          "model_module": "@jupyter-widgets/controls",
          "model_name": "ProgressStyleModel",
          "state": {
            "_view_name": "StyleView",
            "_model_name": "ProgressStyleModel",
            "description_width": "",
            "_view_module": "@jupyter-widgets/base",
            "_model_module_version": "1.5.0",
            "_view_count": null,
            "_view_module_version": "1.2.0",
            "bar_color": null,
            "_model_module": "@jupyter-widgets/controls"
          }
        },
        "45f68beb2c2a4ad5a08640fbaf2d05b9": {
          "model_module": "@jupyter-widgets/base",
          "model_name": "LayoutModel",
          "state": {
            "_view_name": "LayoutView",
            "grid_template_rows": null,
            "right": null,
            "justify_content": null,
            "_view_module": "@jupyter-widgets/base",
            "overflow": null,
            "_model_module_version": "1.2.0",
            "_view_count": null,
            "flex_flow": null,
            "width": null,
            "min_width": null,
            "border": null,
            "align_items": null,
            "bottom": null,
            "_model_module": "@jupyter-widgets/base",
            "top": null,
            "grid_column": null,
            "overflow_y": null,
            "overflow_x": null,
            "grid_auto_flow": null,
            "grid_area": null,
            "grid_template_columns": null,
            "flex": null,
            "_model_name": "LayoutModel",
            "justify_items": null,
            "grid_row": null,
            "max_height": null,
            "align_content": null,
            "visibility": null,
            "align_self": null,
            "height": null,
            "min_height": null,
            "padding": null,
            "grid_auto_rows": null,
            "grid_gap": null,
            "max_width": null,
            "order": null,
            "_view_module_version": "1.2.0",
            "grid_template_areas": null,
            "object_position": null,
            "object_fit": null,
            "grid_auto_columns": null,
            "margin": null,
            "display": null,
            "left": null
          }
        },
        "ff901df71aa8448684efee3bd749773a": {
          "model_module": "@jupyter-widgets/controls",
          "model_name": "DescriptionStyleModel",
          "state": {
            "_view_name": "StyleView",
            "_model_name": "DescriptionStyleModel",
            "description_width": "",
            "_view_module": "@jupyter-widgets/base",
            "_model_module_version": "1.5.0",
            "_view_count": null,
            "_view_module_version": "1.2.0",
            "_model_module": "@jupyter-widgets/controls"
          }
        },
        "f94b9d33103f447d82d3c43baabdb789": {
          "model_module": "@jupyter-widgets/base",
          "model_name": "LayoutModel",
          "state": {
            "_view_name": "LayoutView",
            "grid_template_rows": null,
            "right": null,
            "justify_content": null,
            "_view_module": "@jupyter-widgets/base",
            "overflow": null,
            "_model_module_version": "1.2.0",
            "_view_count": null,
            "flex_flow": null,
            "width": null,
            "min_width": null,
            "border": null,
            "align_items": null,
            "bottom": null,
            "_model_module": "@jupyter-widgets/base",
            "top": null,
            "grid_column": null,
            "overflow_y": null,
            "overflow_x": null,
            "grid_auto_flow": null,
            "grid_area": null,
            "grid_template_columns": null,
            "flex": null,
            "_model_name": "LayoutModel",
            "justify_items": null,
            "grid_row": null,
            "max_height": null,
            "align_content": null,
            "visibility": null,
            "align_self": null,
            "height": null,
            "min_height": null,
            "padding": null,
            "grid_auto_rows": null,
            "grid_gap": null,
            "max_width": null,
            "order": null,
            "_view_module_version": "1.2.0",
            "grid_template_areas": null,
            "object_position": null,
            "object_fit": null,
            "grid_auto_columns": null,
            "margin": null,
            "display": null,
            "left": null
          }
        }
      }
    }
  },
  "cells": [
    {
      "cell_type": "markdown",
      "metadata": {
        "id": "view-in-github",
        "colab_type": "text"
      },
      "source": [
        "<a href=\"https://colab.research.google.com/github/s-sridhar24/EVA4-S5/blob/master/Play_EVA4S5F1.ipynb\" target=\"_parent\"><img src=\"https://colab.research.google.com/assets/colab-badge.svg\" alt=\"Open In Colab\"/></a>"
      ]
    },
    {
      "cell_type": "markdown",
      "metadata": {
        "id": "aO-7t1Y7-hV4",
        "colab_type": "text"
      },
      "source": [
        "# Import Libraries"
      ]
    },
    {
      "cell_type": "markdown",
      "metadata": {
        "id": "Ftu-dAsILrlV",
        "colab_type": "text"
      },
      "source": [
        "# Program Targets:\n",
        "\n",
        "* Consistent accuracy of 99.4%\n",
        "* Achieve using less than 10K parameters and in <= 15 epochs\n",
        "* Share this as 5 steps with obj, analysis for each step\n",
        "\n",
        "This file contains step 1.\n",
        "# `Step 1 Objectives: `\n",
        "\n",
        "*   Create a working version including libraries, input data transformed (normalized) and split of train, test done and a network architecture that can be improved upon in subsequent steps\n",
        "*   This step does not focus on implementing Best practices \n",
        "\n",
        "\n",
        "\n"
      ]
    },
    {
      "cell_type": "markdown",
      "metadata": {
        "id": "XABXzv90VNuL",
        "colab_type": "text"
      },
      "source": [
        "# Step 1 Output Analysis\n",
        "\n",
        "The basic code worked fine. Architecture is written in a way that is easy to modify and add other aspects that are required. \n",
        "\n",
        "At the end of 15 epochs, following are the results\n",
        "\n",
        "Overfitting is observed with\n",
        "Test Accuracy: 98.7-98.8, \n",
        "Training: 99.3 -99.4.  \n",
        "\n",
        "Count of Parameters: 41,364\n",
        "\n",
        "Improvements needed on Performance and Parameters\n",
        "\n",
        "Step 2 focus is performnce.\n",
        "\n",
        "Will implement best pratices BatchNormalization, MaxPooling, GAP as these are anyways needed for performance improvement and design optimization.\n",
        "\n",
        "\n",
        "Parameters and RF were as calculated using Excel. That is also pasted for quick reference.\n",
        "\n",
        "![image.png](data:image/png;base64,iVBORw0KGgoAAAANSUhEUgAABhkAAAF1CAYAAAD1HYu1AAAgAElEQVR4nOydO3KrzBZGmZKkjIGoVKWcObjKgYeg1IEizYFy4kxDcP2JTnjnsW8gHg3q5iUeH9JaVSs4NvaR+Wige0N39Pf3Z4iIiIiIiIiIiIiIiH2N/v7+7L9//0NERERExJEEXf7+/pb+CNAA+WhDPtqQjzbkow35aEM+2lBkQEREREScQNCFTqo25KMN+WhDPtqQjzbkow35aEORARERERFxAkEXOqnakI825KMN+WhDPtqQjzbkow1FBkRERETECQRd6KRqQz7akI825KMN+WhDPtqQjzYUGRARERERJxB0oZOqDfloQz7akI825KMN+WhDPtpQZEBEREREnEDQhU6qNuSjDfloQz7akI825KMN+WhDkQERERERcQJBFzqp2pCPNuSjDfloQz7akI825KMNRQZERERExAkEXeikakM+2pCPNuSjDfloQz7akI82FBkQX9Cf89E2UWRRFFkU7Wx/voa3/73aj8BnLj/P1/2zHy7Lf5Y1y37U9J1z+RU71yDO4CTcbnab5je/FXRStSEfbchHm3A+Pa4fXGsmY5R8YDJGPb/RjkaH6482FBlW68X2UWRRdLTvxT8Lhvz53FkU7ezjt/lro5oPYkY72xyOtj/sbPN59W97PmaFiBmOo9+LfRx2TvEjsmi7s83hy77dfTHLIGxz+/k+3D9fcL+twVcZzPYdN9HONtujff8K5SN1fE9t3n4e3WyP9nH25DLnuQZRyEdSO8VZm4kTSwM36LdTbFEUWXyqdU3TJGtL4Z+FbtBJ1YZ8tPHn8+T5DUbDm8/tZHEUWRTF1rrrudZMytP5wKSMdv2hHU0C9wfaUGRYrRQZ1uB9sLpaULh/bbrc7kWMyPbnDtvnA3/br0mfMM4/UzkQubPN1v2asz8WLjIUn3XifTK5LzCY3X7cRLY5XEbK6Wof28f2Os7nnPv4ntq8/eSFzMxtuQ8ezj8znWsQ+zu87XfxkdQStziX+LudrUWG+MSTcU9CJ1Ub8tEmVGR46vw2G7esGPK6g7n+Qew8n8TSrkUGrjWT8HQ+s/H6bcXH6EUG2tGorO/+4L3aEUWG1UqRQd984MLNKPvahANt+VP4nYoMc1g8wRx5p236+b3YfvulUWR4paetVz6YXQ7c+6f7cqcEG+eNk4EDjZLH99Q2FOkoJuDqXKjIEMeNTywuPwj3+qyvk/pekI82jUUG+fPb6w/40H60WU8+r99WfKwnn/dkffm8VzuiyLBaKTLoerXvz/uTvfm0RXvnaV/3ax8TFAK0igzltCqdP89SRQZnmqnJprKa01UPZnc8bkYtCg0ZaFQ9vufKx7ffuTbh2lyqyHCyNBto8z3htvwg3Ouzvk7qe0E+2jQXGdTPb68/4EP70WY9+bx+W/Gxnnzek/Xl817tiCLDau0xkPN7te/aXOGb7fGhM50/ORx6Kjj0/Z/zV2WajCja2f7TM4VJNri2+bzaf7/Oz7hP+b6E4fnKH+Yv7/AE9n3/1qdjOVbnef/3OGWLd6qWQCYPA56VrO5zzZfzzD8eO0GHPNVc+UzX7v934Djv1n66DRaPdqw/sX/7foY1DmZ3n7IqHxys5ZYfd76/Pd8vzu/OC3M+OxU5Fjy+vduP1X6DDigyNB2Pff62QBsYb9qsF9DNv36MBd4Meu4YC1zPRzxmi+vd76WS/eYQbntdzpV92v6g8/+/pumSEkuLTkdk9VlFgoNw+ZzNjz9gcb79LbVTEpefNU7eolPTl6Y5se/7/Vbdj1Fsic4cFi9PaBDhlp4siaNKLnGSMhXFzDRPlzTw/JZ/Pz1ZEseVc3IcB6aQyacj8U3NlJ8vnUJHmoTP+4HZnVZJez4tcK2ZlKfzyaCtTEPr/cHNuQ7Fp3BetKNJGC2f/EdpR6NCkWG1diwynL/KKUW2+bzZ5TQklc6+Z/Ct1P+knzulyabypL7n9+Qdb2ebzcN0Qi9kbaAh+LUG3cLBpm3e8/PXff9va3k3Db61FRnqb2OEjp2AgxZQLo7DXff/u+E4b28/5UB10+cc9VgfuH+HfIY1Fhn6HDfFPnH/zp5Fhp+87dTbWn3RZsHj27v9SO03bIc1TQLnlIev9/3birdXnPUgtjumZ2rJ/76vnOtJ/Zh9+hirneNGO2bz693RPj7zot6ucq3zZd/1XNm17Q89///3r63IYMH5egcXGZKkmKYkSRKn0/QeT0/1obGT6uzHOEkscQYAeLtkHrz5FIto5rlkxzjzXc9Op0HSvuc353tR1g7vGTcMyvQc8LmlJ0uK9u38H8lJaB7855m8yMC15inGKDLQVqaj2/1BZHHckhftaBJGy8doR1NAkWG1di0yHG3jGSjzDwQFngrOfs/D9sGixNU/Zc/vV7hT/opm+6wymOP7WsvPR5HnrYWGaWJ6TZfUUmTIM3ezCg4iPthwPHX5TH3+74bj3P//lO1nf4ja/56xj/Uhf+PQz7C6IkO/42aMIkP1/+06AK9xfDceK0+13yabF372Pl0eLDIMuUa9yJRmU9mQf3CKsWeOMd85brRjtmxnj9fO8jjs9sBE4FzZdlw9cf7/71+HIoPztK874Da0yJB3fHwDeqFFWN+Vpk6qbz+WA9zdnzKF4Tzm817TDajTbZC05/nNbWP1U1+o/fUc8LHK53rdY2nqIgPXmud4Oh/ayqS03h90LWzTjiZhtHxoR5NAkWG1PjnvdWDAJzQA4OtINw5m+35/0fF+0TcX6maDOb5pXLoMSrYVC0LfH7XI0DRAPnQqm66f6an/u9ze/71+RYbRj/UBf+Pgz/DiRQZvQWENRYaRju/p2m+TbVPC7WxfL6T2PR6921NkePoY63vcthaie17PBxyzTYWx/HtP3Zu0HFfPnP//+9elyGBOx6j82uAig69j1fS9N6axk+rdV+HpX2B8KDJo03mQtMf5LZ9WItS+vN9nwMfL5EUGrjVP8Ww+tJVpaR7E7vGgAe1oEsbKh3Y0DRQZVmvPIsPv1b6zaQH27rQJD5123+/1fc2ZYsZ9krX++90Bg9UOeg7zPvjhm16qywBZ+2BaaI2MUYsM3qyy42HqIsOQ/9tznPv/H/eYbluPYYJjvfff+E7t7U3eZBjp+G58Kvyp9ttkw3RJ53IamV5v1nT92yrTJV3sh2JDz2OsZZqvUY6xkX9fwxuAj9fBAefKxrb//Ln3Ef8gQjFna9ZpGVxk8PaUysVY36Bv05nGTmqgx5nnxJRJ09M+XVJqN2JYjD6DpN3Ob+2DMN6fY8DHy+RFBq41T/FcPrSVqRlyf+CFdjQJ4+RDO5oKigyrtWuRob7oY01Ph/5hkNo7YFedwiDoSwx69jQfUPEMTGzcr3027Yf2fPu8dRJ00iLDk3PW9/q/w8d5p/1bPHnaPMg02rH+RJHhHdpbn+PGu+0sRQaN41utyFDZ/52Ox/7XqIcFeLePU8q9tS1t31+gHvMYG/n3DSwydD5XdiwyDD33PhIaRMi/fu+AUGSYniGd1LYFa2E8Oi/8HFqcESal3yBpl/Nb+wCrdxoRBny8UGTQ5rl8aCtTQ5FBm3HyoR1NBUWG1dqtyJAPgkXb2tzIHTr0+fcGzWHsc8WDnn10F2vuPshR9xXeZHD2RZ8BzQH/d9Nx7v9/HttPmVu9TU1wrA8uMrxHe3t63Y+ZigwKx/eU7Tdsy/XHN5VO4DMNukYV21ztuxjIZgqlrvvOVxwb9xgb+fcNKjL0OR66FBmGn3sfCXdq3M4MRYbp4U0GbUJFhoLbzdKERTKXou8gafv5jadKx4Qigza8yaANRQZteJNBG4oMq7VLkaGhc9xlEMqdSsYzINVrMLv1/3w1s33vGyjuOLjXvH/DU7UoFRncBTDHOU56DsD3KDK4++6pt0Na/4Zh+/et2lvjmyWlwUH+QWsSPDGYuODxve4iw9BrlP846DVt1SvbuO98146xj7GRf1+vIsOAc+UzazJ02P+PNA0iOE/7nhKKDBPTv5PKmgxz0lpkyMgHAchkXvoPkraf35rnxw60v0Fzm7/+gA9FBm2mXZOBtvIsFBm0GSsf2tE0UGRYrc8UGa7BwdTcouO+9T8t/9+///mnxHB/x3nAk6kvY5ZP5W/1fa3BYu7xx6lAfhr2vVSRwfk8UbSz/dlzHP1ebO9OdzLaIOz9OG/M56H9lOszeKffGetYH7J/36y9ucfNx8Nxc7Vv542hx2M9z7F2TPw6CxaPUTgVOL77T2UzdZEh8Ll6FRlCf1ttXz6R20vrFL+iw6WSs//aMfYxNvLv61lk6H2ubDuGnjz3PtIyiFDMOR9RZJiY5oUD7/uy8px1ng37cRYe80kt8UyN1LZwI0zDoEHStvNb8f3HnMPtrzoVk/MD2df9bfbVjxuKDNo8nQ9tZVIoMmgzWj60o0mgyLBa3cGynW3qZgML5RQwu2xtgF05+NBlENQ3UOdYDrBFttnWFkKsd9hXPujZS9/fOuDvr+zffG2HbXMuakWG+8BSdQqp/DiNfMfYgP+76Thvbj+eQdLAU/SjHusD9+97tbfHudDvx01UOW72gfUQ3MH/TWWB1l3wLQf3OLq3tV2HdrTs8b1skWH3sBhu8bm2tbYV+Ez9/janCLitnQ+f+ntezOJtnV1xLsuP51BhbtxjbOTf17fI8K/nufJfe9t/5tz7SNsgQvnkFEWGaWnspMZxVmyILUkSS+K4yOQdOogKeIsMebuIkyyXcIcepmXYIGnL+c2cRaKjyOKklnPgKdDyZ+LsZ7L2mrdjz/FRTN/ktPFXatsUGbR5Oh+jrUwJRQZtRsvHaEdTQJFhtTpFBp/OgMvP57HSud9sj/b92/ZUvTPA1zJ483M+Pgz83f+Pa3Xb1Q969tA3KNIwUNKkd/8eHp/EzNUrMuR/x1dlkKsY8K3/LQP/79Bx3tx+/G8ChabhGe1Yf2L/vlt763zcPHi178oxsbP958V+WvZvtWBw7L4+w0LHt/c8PluRwXftyfdz92O+3992qS0oXBbVlz5WZXT39e+lelw2LJI93jE28u8bUGT471+Pc2VmW9sfeu59pMMggvM0ffLwaBUd1rFo7aTe0kpxgQWG58WfT2qnxMkkii2uvXEC8zB4kLTp/JZvkiYWu4t7R7HFyamh/d0sPSXlW0hRbMkptVvLuS+tHEvJS01jQZFBmzGKDGa0lamgyKDNmEUGM9rR2FBkwKBMQYGIiLgyX6TA+CqCLmN3UmFcuq7JAMtAPtqMNYgN00A+2nB+04Z8tKHIgAG7rPmAiIiIUlJkkBJ0ocigDYMI2pCPNs3TwfGE9NKQjzac37QhH20oMqDXYroYBikQERHXI0UGKUEXigzaMIigDflo4+ZzS0+WJOV0IL61MGBeyEcbzm/akI82FBnQY74eQ3jBZ0RERBSUIoOUoAtFBm0YRNCGfLSpDmInzsKmrGGiAPlow/lNG/LRhiIDIiIiIuIEgi50UrUhH23IRxvy0YZ8tCEfbchHG4oMiIiIiIgTCLrQSdWGfLQhH23IRxvy0YZ8tCEfbSgyICIiIiJO4N/fHyIiIiIi4ltIkQERERERcWRBl78/noRThny0IR9tyEcb8tGGfLQhH20oMiAiIiIiTiDoQidVG/LRhny0IR9tyEcb8tGGfLShyICIiIiIOIGgC51UbchHG/LRhny0IR9tyEcb8tGGIgMiIiIi4gSCLnRStSEfbchHG/LRhny0IR9tyEcbigyIiIiIiBMIutBJ1YZ8tCEfbchHG/LRhny0IR9tKDIgIiIiIk4g6EInVRvy0YZ8tCEfbchHG/LRhny0ociAiIiIiDiBoAudVG3IRxvy0YZ8tCEfbchHG/LRhiIDIiIiIuIEgi50UrUhH23IRxvy0YZ8tCEfbchHG4oMiIiIiIgTCLrQSdWGfLQhH23IRxvy0YZ8tCEfbRqKDBfbR5FF0dG+BTppiIiIiIhrEnShk6oN+WhDPk9wS+2UxBZHkUW5cWKn9Bb6AUtPicWxs30UW5ycLPQj5KMN+SzBzdIkvrefJG3ckny0IZ8l6Nd+XqjIcLWPbWRRtLOP36U/CyIiIiK+s6ALnVRtyEcb8hlIenKKC7HFcewUDiJ7HLu52Skut0+SxJIkcX5HYr7hHvLRhnxm5pZa4hbpKDKsGvKZmQHthyIDIiIiIuLIgi50UrUhH23IZyBp4nkDwS0k1IoGaZK96XCy+ksLaXL/mfj0+DoD+WhDPvNxO8WVIh1FhvVDPvMxtP1QZEBEREREHFnQhU6qNuSjDfmMzC1/wyE2t2aQD/D4CglFAcIz4EM+2pDPXKSWRJHFSVaka2gzLuSjDfnMxfD206/I8PtlmyiyzefV/vu92MdhV742sT36B/fdn/l3rf5MtLP9+fr4M+fj/fuHS/D3Rdsv+8m+9n1w5yisuj8v38lERERExPcSdKGTqg35aEM+IxMoMjQN6jQVIMhHG/KZj9vNaR8UGV4C8pmPoe1nWJHhcLwP9Ec72x+Ott/uiqLBQ6HB8zObw9H2TrHhXoBwfqZnkeHn/GX74vdH2e8/2v7wZd+81YCIiIiIMwu60EnVhny0IZ+RyQdvHtZYuD9Jei8mpMWUSbeGaZTMyEcd8lkIigwvAfksxNRFhrwA8ON87+dz5y8MNPxMUUyo/z89iwx3mS4JERERETUEXeikakM+2pDPuDStr1BddLNcLLqYwsID+WhDPgtBkeElIJ+FmLzI8DDA3/C9pp8pCgO1aY0oMiAiIiLiigVd6KRqQz7akM+IBN9icKgUGrJFONMbRYaVQj4LQZHhJSCfhZi8yOAb/M9/JlRk8P5MuZ5CZcokigyIiIiIuGJBFzqp2pCPNuQzErdyOqTQuE2+9kIUJ3ZKb3ZLT2XBIfYXJshHG/JZCIoMLwH5LMSaigz5NEsUGRARERHxVQRd6KRqQz7akM8YuOst+N9JKAoMSVp7a+FWTLHkW5eBfLQhn4WgyPASkM9CrKnIwJsMiIiIiPhqgi50UrUhH23I51nK6Y9CBYayCBGbf5Pw98lHG/JZCIoMLwH5LMR6igyBNRmGrP1AkQERERERRQRd6KRqQz7akM8zdCkwZNs1rtVws1NMkWGNkM9CUGR4CchnISSLDNnPud/7yd9YeCgY5P9/rWDwm3/dX4DI34qoFCwQEREREWcWdKGTqg35aEM+Q+laYDAriwiBbRsWjCYfbchnISgyvATksxCSRYbtLis27Gx/ONp+u8sujP6iQF4wiKKdbQ5H2x+y7fPf4yky5Os7uP8HBQdEREREnFvQhU6qNuSjDfkMo1hHIYosjmO/7gBOUUi4v7GQJIklSWJx7HzNM95DPtqQz3ykp6RoN0mcL6JetqXk9NiAyEcb8pmPoe1n3umSfi+V4kK0Pdp3cGqjq31/Hsu3IKKd7T8v9hP6fzK/D87vj45MnYSIiIiIswu60EnVhny0IZ9huEWGoPWFnG+pnZLY4sp2scXJydLAyxDkow35zEX5NlDn9mbkow75zMXw9hMoMoxoy8LPiIiIiIivJuhCJ1Ub8tGGfLQhH23IRxvy0YZ8tKHIgIiIiIg4gaALnVRtyEcb8tGGfLQhH23IRxvy0YYiAyIiIiLiBIIudFK1IR9tyEcb8tGGfLQhH23IRxuKDIiIiIiIEwi60EnVhny0IR9tyEcb8tGGfLQhH23mKTIgIiIiIr6ZoAudVG3IRxvy0YZ8tCEfbchHG/LRhiIDIiIiIuIEgi50UrUhH23IRxvy0YZ8tCEfbchHG4oMiIiIiIgT+Pf3h4iIiIiI+BZSZEBEREREHFnQ5e+PJ+GUIR9tyEcb8tHm7+/Poq/IKywP7Ucb8tGGIgMiIiIi4gSCLnRStSEfbchHG/LRJlRkAA1oP9qQjzYUGRARERERJxB0oZOqDfloQz7akI82viID6ED70YZ8tKHIgIiIiIg4gaALnVRtyEcb8tGGfLSpFxlAC9qPNuSjDUUGRERERMQJBF3opGpDPtqQjzbko41bZAA9aD/akI82FBkQEREREScQdKGTqg35aEM+2pCPNnmRATSh/WhDPtpQZEBEREREnEDQhU6qNuSjDfloQz7akI825KMN+WhDkQERERERcQJBFzqp2pCPNuSjDfloQz7akI825KMNRQZERERExAkEXeikakM+2pCPNuSjDfloQz7akI823YoMvxf7OOxsE0UW5W53tjl82ffv8h247l7t+7C7f/7DReDzoK4cK9qSj6Tea8XRPs7X5T/bS9uvPfycv2y/3ZUZRZFttseVXc9f03s2TvuJdrY5XOxH4LOtxyHXh6t9OPt9fx5vexjILbVTElvsXk/ixE7pLfQDlp4Si2O3/cQWJycL/Qid1Hm5pSdLHvJJLZQo+SzBzdIkvueTpI1bks8T9D6/5T92siSOK/dvcZx4z3HkswS0H23IRxvykWTA9aq1yPDzWR+I2NmmMjhxtO/FO5Qd/L1UO+4MTGJIjhVtyUfT81dRXNhsj7Y/HCs5bT6vy3/GV7RneygGX92csq+R0bKW91s72xzu2RQFu+0XhYYuDr0+nI+Ve93WIkOP7WEA6cnpzMQW1wbVHvueNzvF5fZJkliSJM7vSMzXXaWTOh+3U1zmWc8nPnkLDeQzM7e0WgRikGcaep/fsh9Lyu3iOMnOc/evxafHFkQ+M0P70YZ8tCEfTZzrVXHdcXLyXXvM2ooMTidqf74+doh/L7bffskXGdyO+/5wZGASg3KsaEs+wp6P3rfbiswYJB3dvu3BzYK3FsT8zYt09TdKyifmKQI1O/z6kO/jo+0PXYoM/baHAaSJ5w0Et5BQKxqkSXCwOk3CHSE6qTNxyzup9Seuy0zJZ1ncIlCSJAzyTEnf85s5+cThN7PqkM980H60IR9tyEcY7/Wqek0KPSQSKDJcbN/5tXFl73/H5pANcJ0ZmMSQHCvaks8qdQdPl/4sL2Xf9pBf03f2QYFBzu9DQyEhb0MU6hocfn3IixP7c5lD031v3+1hRIrB6tjcMem8s+N9oioNd1jppM5DU6GnyNTTUSWfuUgtiSKLkyyDhjbjQj4jEzi/5fk8fr0Z8pkL2o825KMN+awS9+ERz7fDRYa8gzagU9trvues87z5vBbzeRc/tz0+DIbknbvQE32+7//8Xh//LgYm0SPHirbks0IZIJ3MXu2B9iJs/mR8qABEgaiLw64P2b7Nzk/tRYO+21NkGJXQIFxDp7SpAEEndQ7yJ7RDA6ThAVTymY/bzdn5DPIsw4DzWxPkMx+0H23IRxvyWSEND4iYNRQZGp+qa+rkOWs45HMK75sWx8uLDMXcw7vsZ8rX3iud6sYBqw4dcQZasKscK9qSzwpkqpfZbGkPbQV6XNL83iX0tk9bEQIf7Hh9uN/rlvu1rWjQd/v//lFkGJW88/nw5FQ+UB1ZfCoXEr41TKNkRid1HvJs/E+7NRUhyGchGORZhsD5rfFNrQbIZyFoP9qQjzbkswKap7o0CxYZyoGhXlMlFWs4PL618ON+z/2Z33Kx0OhwqRQOioJFpZPY0Nnu0qlkYBK7yrGiLfkIerGPQ3Ux4Sja2Z6B7eltaQ/FYOjn1b4Pu/K6G0UWbXfedZdwJlunFBt4T/bOdrk+5Pvd2aaxaNB3+0wYj+Zpd9xFA8vFVItX8D3QSZ2Bllfq3c5qfUyBfBaCQZ5FCJ3f8q8np5ulSewsGh1ZFMeWBBZpIJ+FoP1oQz7akI8gqZ2SbNHnxFk/o6HwPWqRodsTYLXvN72ZEPhe6InMLp09Biaxsxwr2pKPnm7R2J0uz7MgNI5sxyLD45uGztuHFIOWscOUYp3ub7C09fpQLt7sFnbC+7nv9qUwEsG3GBwqhYasE5TeKDIsScsr9WbOICpFBg0Y5JmfhvNb3j5y43ywJ47LrzEdnA60H23IRxvy0aN4WKR+LXpcEDpnxCJD++v83uKA58mw0urctw8/U+nstU030LXjiZjJsaIt+cj783txpstj4edJ7Vhk8BYSQm8a4jx2WBydIkNPO65R0vlhlb7bO8II3MrpkEL9znxKkShO7JTe7JaeyoJDHF6YDiam9U0GigxyMMgzLy3nt8Y3uBqKE+SzELQfbchHG/KR51Z5oKfnws/912RoH+T3Tn80pMjgK4J0HXBkYBK7yrGiLfmsRNZlmMWu0yV5B0OZ839ZWZNhdBvbQ3h/+9tJ3+2rwrO46y34H5kqCgxJWnta/lY+Bex5kp5O6hywJsPqYJBnRtrPb6Ei3B3ajxy0H23IRxvyWQnN6zIEiwxFQaDh9f2+neDR3mTwdCA7P+XHwCR2lWNFW/JZjf71dXBUn3mTgUHshc0HsUP7v+Obmlja1B7y723z9WNKN3lBNPvex++A7Wv/HzxD+bRUeNHTfJDucZCt7ft0Uuegaz48iS0Dgzwz0eX81vImA0UGPWg/2pCPNuSzGtwHfOoEiwzu3NpdX8/v9qRkYE2GvkWGSqe7abseHU9EV44VbclnNRbrAZDVdHacHqbvk904j433T8Ugd9eHPrDpeC+Knh3cfF57b1///2Ao3QbgeFJen8YnsfMBBd400YFBnhnoen6zljwo0slB+9GGfLQhn9VQvCncq8jwz10ocmf782PH6b/fi+23x3JBT3de59rTXD+hTvLgIoPTKT/458rt2/FErMixoi35CHm1j23oOtG/YI0DbG0P4afledNEwOC6GEPWyMKh14e+a18wXdJU9BiAa3llmznLBQhmUGbnG08gn4VgkGdi+pzfsu0DbwO1PUkKC0D70YZ8tCEfIW52imNLfKs7O4tBh+7fgkWG//5d7ftQfYJrs93ZZut+rTpgURYmItvkr5Rv/dv+9+9/TxUZyk558zQP35/O6+35Z9/uyq99MrCCdzlWtCUfXZvP/ZFtGMAef5/3bA/uE9mb2nQv0Za3GJbWfbDjns+uKNBRAOqw/0a4PlBk0KB4OiqKLI5jv26vphjEvg/EJUliSWC1gacAACAASURBVJJYHDtfYxB7UcpMY4uTxJIkLjqoocEE8pmP9JQU7SaJ80XUy7aUnBjEHove5zdziglRlLUf5/zGwvaLQ/vRhny0IR9dKterIiP3a+H7t4Yiw92f81fZYcvd7mxz+Hp4Y+G+vTNwUXSY/ds+VWT4dyme8AtvUz4FGJQpCPDf/4xjRV3y0fbqvVZstkf7OF8FPt+rOaw9+K7P+88L7UbCq31/HsvCQj5Ifr4KfDZ1x7k+UGTQwO3UBK1Pr3NL7eQOXBcD2ifzPYRlRid1Xm6WnpJqPqEn5DLIZy7KN0o6tzcjn6EMOr+Z2S11C6dZ8fRUX+y+hHzmgvajDfloQz7a3OyWnsriT1EgT+zUcv/WWmRARERERMR+gi50UrUhH23IRxvy0YZ8tCEfbchHG4oMiIiIiIgTCLrQSdWGfLQhH23IRxvy0YZ8tCEfbSgyICIiIiJOIOhCJ1Ub8tGGfLQhH23IRxvy0YZ8tKHIgIiIiIg4gaALnVRtyEcb8tGGfLQhH23IRxvy0YYiAyIiIiLiBIIudFK1IR9tyEcb8tGGfLQhH23IRxuKDIiIiIiIEwi60EnVhny0IR9tyEcb8tGGfLQhH20oMiAiIiIiTuDf3x8iIiIiIuJbSJEBEREREXFkQZe/P56EU4Z8tCEfbchHm7+/P4u+Iq+wPLQfbchHG4oMiIiIiIgTCLrQSdWGfLQhH23IR5tQkQE0oP1oQz7aUGRARERERJxA0IVOqjbkow35aEM+2viKDKAD7Ucb8tGGIgMiIiIi4gSCLnRStSEfbchHG/LRpl5kAC1oP9qQjzYUGRARERERJxB0oZOqDfloQz7akI82bpEB9KD9aEM+2lBkQEREREScQNCFTqo25KMN+WhDPtrkRQbQhPajDfloQ5EBEREREXECQRc6qdqQjzbkow35aEM+2pCPNuSjDUUGRERERMQJBF3opGpDPtqQjzbkow35aEM+2pCPNhQZEBEREREnEHShk6oN+WhDPtqQjzbkow35aEM+2nQrMvxe7OOws00UWZS73dnm8GXfv8t34Fr1fv6jfZyvy3821JJjZSGv9n3Y3ff34dK6/c/5y/bbXZlRFNlme1zH+eiVpf1o72/ykfd+bnPyiXa2OVzsR+CzLevVPpz9sj+37cNu14d++/tq359H2zxs33wvDAO5pXZKYovd81Wc2Cm9tfzYyZI4ruQfx4n5foxO6rzcs3HbT2xxklooUfJZgpulSdZ+krRxS/J5goHnt+yH7eS0o1BM5LMEtB9tyEeSAedD8pmL1BI3l7rxyXsP11pk+Pmsd9R2tql03o72vXjns8HzlzOgUv/szR1VfDM5Vpbx91Id5GkpMhTFiGzgaH842j772ubzuvzf86467afIxcmVbBbe35zf5C3vt3a2OdwzLTLbfr13oeF87HS89rk+9NvfbpFjl/1eZ/uGe2EYQHpyOpuxxbWiQWhsoBg8yAoLSZJYkn0tPj12g+ikzsftFJd5JvdsiowbOqkwI7e0WgRiEG4aBp7fyp9POm1PPjND+9GGfDRxzofFfZuTk+/ezYx85qMsMsRx/GigHTUXGZxO3f58ffj+z+/F9tsv8SLD0fOUmdtZFC+S4HxyrMyuO8izPxxbiwzF9tuVvEX1TnrbTzWztx4kXXp/c37T9jcvAtWfuC8zet9CXb4PjrY/hIsMva4Pffd3fj/sOY99H5rzgQGkicXJqfb2gfv0bmL1bk0xiB3Xfy4MndSZuOWDCPU3SspMKQIti1sESpKEQbgpGXB+e9wusSShyKAC7Ucb8hHGez6s3tPxEMKSZEWG1up3lYYiw8X2r/yEY9HB3NkHg5XYJMfKRN7PMZtDNmhzbisy5OckcliV7mDe0p/lHey7vzm/Sdg4UJ1n9KaFurx4sD+X++nxvrTf9aHv/s4/g3f7lmsXjEgxWB1bdUw6f9Kq/vVm6KTOQ5o0PJGYZ+oZSCCfubi3nzjJMkgZhFuE4PnN3SQuCgspRQYRaD/akM8qcR9O8HybfOZi7CJDw1NbrR3CPvOlZ525zee1mC+6+Lnt8aGz2NjR6/D9h04kAyvYJsfKZP78Xst/txUZWosQKOmbD5DK72/ObwLmT8+HMnjnAmv2t2fHc7DI0Ov6MGB/N/z+tvtOGJHQIFzHQYM6dFLnIH/yOjRwGi4Qkc983G7OzmcQbhlaiwxZW8kKchQZdKD9aEM+K6ThAQQz8pmPkYsMba9/h3TXcMjnuN03LdaXFxmKuW2zuW635TQqlU5g4wBKj454MRUUT9diixwr8+7nwCBR5wIiCslUL/L7m/ObgPm9SyiDtkHx1/V+L1r+3aEiQ7/rw5D9Xb7du/ksF4b+6fBADoxIMRd59cm2/One0Ny9IeikzkFeRAhNARMuQpDPQjAItwyB81v57Wo7ocggCu1HG/JZAc1TKZqRz3zkxe04W+cssSQ5WZrevMWfnECRoRyo6DVVkjtYUX8DITSQUTxFeR9cdDtpRcGiMujY0Nnu8STb0CIKvp8cKzPZ0n6LwaXPq30fds6Cm5FF25133Ric24t9HKqLrUbRzva0Hdn9zflNwNYprgbek63dfL8414RQkaHX9WHo/v69OA/NlIunF1P+BYTxCE27Uwy2nW6WJrGzqGrWMQos0kAndQZapjxwBxPqYz7ksxAMwi1Cp2nFnEwoMohC+9GGfARJ7VQMYDvrZzQ8OEI+c1Eu/Pxo3Hj9Ga3IEJ4rt+H7TW8mBL4XemKt7f8v5MlN7CrHyvz7uqXI8PimlPP2FAOly+oWjStZsVC35P7m/KZhhymuOt/fvIzlYs/usdlWZOh0fXhmf1cKDVlR73ylyDAHDU/55oNtuXHeWY3j8mssLLwMLVMemIUHS8lnIRiEm5/GtxjKxZ7Tyo9QZJCE9qMN+ehRPIxQv5d7XBA6h3zmpL4q9/2BnrzQ4KsFjVhkaH+d31sc8DypVlqdi/fhZyqdz7bX350OYvRunXUcJMfKvHYsMjQuvMlgqZQ/lQE5spHa35zfdOywWPfbFRmyc3rXh0l6XR8G7u/i7drt0T7O12z9saj4Wuh3wQjcyiepfOMCjU8ANwze0UmdgdY3GSgyyMEg3Ly0nN/yPIJvcFFk0IL2ow35yHO7pZbEUfDezYx8FCge8PG0pRHXZGgf5PdOfzSkyOArgnSaKsmdU7fr34XvKcfK7HadLsk7yPa+c5bry7oMevub85uWrMnQdX+0TpfU6frQf3+796/1+9HiLYrAmxHwLOUAXGhu3ubBNub8XxbWZFgdDMLNSNv5Ldx+KDKIQvvRhnxWQvO6DOQjQN6WPG+qBosM5RNbzXPN9ukEj/Ymw7//PQxItj/lVz7hyaAKNsuxsojPvMnwdoNw69K/vg4us785v+mZD3qHzl8d39R8FYvFlPP1Rko3+bGbfa++IHS360Pf/d11e//34RnKp9maFnVufJOBQeyFyQdJ/a/UNw2iks9CMAg3Ex3Ob8UgTuIsunk3zn82+x7nNxFoP9qQz2q4neLGJ+VhYRraUrDI4M713PX1/G5PkgXWZOhbZKh0Apu2y7ZlUAU7ybGymG1vIzV+/80G4VZm8aQvRYaF9zfnN1Ub75+KQfeuD32s26JI1sHiOO55fei3v5970wSG0q3AcN+0adCAQeylaXziuuVJOFgABuFmoNv5rRhk62D995DPQtB+tCGf1dA2HQ8sS9MDPuEiwz93Ib37wnYP2/xebL89lgtMuvPe1jpaP6FO8uAig9NJPPjn7i1+B4Mq2EmOlUVtnfIs/LQoT8ov7dU+tqHrRP+CNU6xvzm/SRtcV2bIGlmva7g40PP60Gt/t0xB1rImEAyhR4Eh3z7wtDxPwgkQXBejnA7BN95DPgvBINzE9D2/BX4L0yVpQvvRhnyEuNkpji3xre7sLAbN/cFShPO5Ffd1vRZ+LjtW34fqE2Wb7c42W/dr1Q5dWZiIbJO/4r71b/vfv/89VWQoO3bhJ8gqnyf77A8yMIn/OFYW2eefzlQY+Xlluyu/9lnd3+4Trpva9BlNC2/iDFk2nvsj2s7C+5vzm77ugx33THdFwYgCanUf+Qoufa8PvfZ37X6zPn3T/WEc/2eG/hRPr0WRxXHst9brdJ/4jWvTiUQxCwcuTZlpnOUTFwMIocEe8pmP9ORMxRNnbSmOy6+dKNKNxZDzW9PvociwPLQfbchHl8r5sMjI/Rr3B8tRPggSRfHDVH1RFDdefxqKDFnH7fxVDgDmbne2OXw9vLFw397teOUdOP+2TxUZ/l2Kp8va3nZo9E2mIMBmOVbmtnw6tM/+9p1f9p/1xThxiTx914rN9mgf56vA53s1++1vzm9r8Grfn8dyoDsvunryfFfb1t/qd33oub9/L/bhFiLa7m8zoT9upzOoZ3qdW+p2frIO0Cl92C6HTuqc3Cw9JWVhIR/k8T3BmEE+c+EOJHRvb+QzjKHnt9DvociwNLQfbchHm5vd0lNZ/CkKsImduD9Ynlt271a7t46TkzXE063IgIiIiIiI/QRd6KRqQz7akI825KMN+WhDPtqQjzYUGRARERERJxB0oZOqDfloQz7akI825KMN+WhDPtpQZEBEREREnEDQhU6qNuSjDfloQz7akI825KMN+WhDkQERERERcQJBFzqp2pCPNuSjDfloQz7akI825KMNRQZERERExAkEXeikakM+2pCPNuSjDfloQz7akI82FBkQEREREScQdKGTqg35aEM+2pCPNuSjDfloQz7aUGRARERERJzAv78/RERERETEt5AiAyIiIiLiyIIuf388CacM+WhDPtqQjzZ/f38WfUVeYXloP9qQjzYUGRARERERJxB0oZOqDfloQz7akI82oSIDaED70YZ8tKHIgIiIiIg4gaALnVRtyEcb8tGGfLTxFRlAB9qPNuSjDUUGRERERMQJBF3opGpDPtqQjzbko029yABa0H60IR9tKDIgIiIiIk4g6EInVRvy0YZ8tCEfbdwiA+hB+9GGfLShyICIiIiIOIGgC51UbchHG/LRhny0yYsMoAntRxvy0YYiAyIiIiLiBIIudFK1IR9tyEcb8tGGfLQhH23IRxuKDIiIiIiIEwi60EnVhny0IR9tyEcb8tGGfLQhH20oMiAiIiIiTiDoQidVG/LRhny0IR9tyEcb8tGGfLTpVmT4vdjHYWebKLIod7uzzeHLvn+X78C16v38R/s4X5f/bKglx4r2/iYfbclnEX/OX7bf7sp9HkW22R5brs9X+9iW2+/Py/8dmGfptJ9oZ5vDxX4EPtt4Xu37kB2vh0vzdp9H2zzsjy73nh2O75muPzCQW2qnJLbY3d9xYqf01uWH7RSXP5ek/q3opM7LLT1ZErvtObY4SS2UKPkswc3SJL7nE2o4GeTzBH3PbwPOh+SzBLQfbchHj9QS97xWNz557xHIZw6q99JhE6u3ptYiw89nfeBiZ5vKYMbRvhfvsDZ4/io6hJvt0faHY6UDv/ls7hziG8mxor2/ne2jqH4eYpB0cWk/i1gM1rr7Pfta4z4/H2k/Ypb3WzvbHO5ZFue87ddrFBp+L9UiSrDI4BYJdtlx7eyPtnvPtuN7xusPDCA9OYNpscVxXNnfLWMDZmnSaXs6qfNxO8VlnkliSZKUGTOIoMEtrRaBGISbhr7nt4HnQ/KZGdqPNuQjSllkiOP40UBO5DMH96KcN5c4trhoT32LDE4nbX++Pnz/5/di++2XeJHh6H3qrejMv0rHHZ+XY0V7f3u3dweixAuery7tZ3bdfdvvrcK83Rxtf6DIIOFvPohdfwOlPMetvVDnFlH2h2NzkSG///ScN74Pbfujw/E94/UHBpAmFicnqz6k6z5R9dihedwusSRhEE6CWz5ImgQzjU+PZQbymQ+3CJQkCYNwU9L3/DbwfEg+80H70YZ8lMmKDK1Pj1Qhn+Up2pUnu4Yiw8X2r/yEo9uhX/qzoLYcK9r7u9h+Zx9rmL7t3aT9TGR+je5/3OcDqftzOWD7ktf5Fdk4cJ63oVUX6u7H6+aQ/Q3n5iJDfox690fHnx10fE9w/YERKQarY/OMSWebxEVhIaXIIEGeg6+QUGTqeZuBfObiPsgTJ1kGKYNwi9Dh/NZne/KZC9qPNuSjDUWGdZIXusPXH3+RoeEpsjZ7zQ+dddA2n9divtvi57bHh05bY8ezw/dfq9OOs8ixor2/KTJoS/uZxpaB1rBZcSLLgyKDgvkT8aFz2PCCkpI/v9fy323Hb8P3m+/znjy+J7j+wIi0DsJlndVswJoigwLNHdFyqoTH75PPfNxuzs5nEG4ZKDKsFtqPNuSjDEWGVZK3o4bpLr1FhvbX0QOdSGcNh3xO4X3T4nt5kaGYazebe3dbvlZf6bg1dgC7dsRfZ/oBnFqOFfn9XUzrxpPyetJ+prJzQb3m/dpeXiMpMiiY37uEzmFtRYgV2lokK9+m3XyWC1//tDwA89zxPc31B0akWGvBPz3IvahQDrhRZFAgLyKEprgKFyHIZyEYhFuGlvNb3+3JZyFoP9qQjxj5wyH3qazunixNb97B6xzyWZJyur6m+2tPkaHsaPUaeHA7W/U3EEIdseIpsHtn0+00FgWLSie0obMd7LRe7ONQXRAzina2Z9ALH+RYWdv+HloQRc08sZvF4Onn1b4PO2dR2sii7c67jlJxvXWukRQZBGydomfgPZmyXd7EqSwSXS62XEy5FNqPnY/vea4/MB6dpt1xejwUGQRw12PwbxDsrJLPQjAItwiN57cB25PPQtB+tCEfMcqFnx+NuX9TpOUtBrORiwxtgxXe7ze9mRD4XugJzuD/7xYy3CmcPIv+4ZvLsbKu/c1bDFrSfmYzv949vjnovE1YuUaWi+F+e37Pywxer9EOU/S8XE5dp/uqFBqyIsD56tlPA47vma4/MBKNT+2Wiz2nlR+hyLA4DWsu5IRyIp+FYBBufkZ+i8GMfBaD9qMN+QhSuzu43SxNysW6mQ5Oiy4F8RGLDO2v83uLA54nz0qrc+s+dgzdjl3bdAPO56h0WhmcxLAcK8L7+/fFF6d/AWk/09n4BLVv8DP7WufiPM5nh8WGXy6nDkWG4m3W7dE+ztdsva+o+Nq35/c9c3xPdf2BEbiVT7p5xwWyQYN6h4cigwCtbzJQZJCDQbh5aTu/DdyefBaC9qMN+ayG/N7AlxX5LESHezqzUddkaB/k905/NKTI4CuC9F4Ek7nCsascK3r7252vm0y0pf1MYfPgab3oH74+v9zg9SplTYa67v1i/f6veIunuDcc8/ge//oDz1IOqPmfmgrP+U+RQQHWZFgdDMLNSNv5bfj25LMQtB9tyGc9NEzLQz7L0HVav2CRoXyCLPz6ft9O8GhvMng6qEMGSvxrPiA+yrGitL/Lp00ZtF6HtJ/xbX4QoHY9LhbLzeefL93kbSn73ssMYq/KfNA6dP/U/U3N1dhYZOi6P6Y5vse+/sAzpJbELR2aohOaOIsG3o3zn82+xyD2EuSDov4pD5qKEOSzEAzCzUSH89sT25PPQtB+tCGf9dCQFfksQdv9XEmwyODOVdt14L7bk5WBNRn6Fhkqne6m7do/LwNf2CbHisr+psCwRmk/E9hpkPY+KF0MmnaQdrWMjfdPxSB6v3scaXscv4/frxbRxj6+x77+wFC6DajdTnHn/Ou/h07qPDS+UcKTinowCDcD0xYYzMhnMWg/2pDPamh6ap585qe43+4wr1+4yOB2tLKF9h62+b3YfnssF8hz54GuPS32E+okDy4yOJ3yg38u3ntHNPTZ+xdR8JXlWNHf3xQYdKX9zG/4ae8+b44wXZKIwUWEh6yRtQIbiwwtUxZ1XHD5v3+h43ve6w8Mof+Amve3MF2SBsFFavOpkvwZkc9CMAg3MdMXGMzIZzFoP9qQjxA3O8WxJenjee1W3Dew8LMG3d9iMGspMtznvq0+IbbZ7myzdb9WHeAoCxORbfJX1rf+bSsdugFFhrKjGX6tvvnzRLbhyVrM5FjR3t+V7bPz0INktJo88XndJ7g3telhHhbGbcntpQawV6r7YMc9z10x4P0KbwF9fzpTGeX3kdtd+bVP52+s3d/Vpz+6P/zSfZ/Wt53z+gP9KRb7iyKL49hvhyepKDLoUGYaW5wkliRxtnhgeLCHfOYjPTlTjcXZ04pxXH7txHQVY9H3/Db0fEg+80H70YZ8VCkfNIii+GGqyyiKuX8ToXiLwfPWqY+WIsPdn/NX2SHM3e5sc/h6eGPhvr3bEcw7zP5tnyoy/LsUT7uFt7l6P/9me7SP83XxTjcqybGivL/dQZ6grzSdyOqk/Syh73q7/6wvlhuWIoOSV/v+PJaFhXwQ/nwV+GzP/20f257n79+LfbiFlrb7SY/h43u+6w/0xx1UC9qho0ORQYmbpaekLCzkgzyeJxhzyGcu3IGe7u2NfIbR9/w29HxIPnNB+9GGfKS5ZfcGlYxii5OTNdwekM+sNL916qNTkQEREREREfsJutBJ1YZ8tCEfbchHG/LRhny0IR9tKDIgIiIiIk4g6EInVRvy0YZ8tCEfbchHG/LRhny0ociAiIiIiDiBoAudVG3IRxvy0YZ8tCEfbchHG/LRhiIDIiIiIuIEgi50UrUhH23IRxvy0YZ8tCEfbchHG4oMiIiIiIgTCLrQSdWGfLQhH23IRxvy0YZ8tCEfbSgyICIiIiJOIOhCJ1Ub8tGGfLQhH23IRxvy0YZ8tKHIgIiIiIg4gX9/f4iIiIiIiG8hRQZERERExJEFXf7+eBJOGfLRhny0IR9t/v7+LPqKvMLy0H60IR9tKDIgIiIiIk4g6EInVRvy0YZ8tCEfbUJFBtCA9qMN+WhDkQERERERcQJBFzqp2pCPNuSjDflo4ysygA60H23IRxuKDIiIiIiIEwi60EnVhny0IR9tyEebepEBtKD9aEM+2lBkQEREREScQNCFTqo25KMN+WhDPtq4RQbQg/ajDfloQ5EBEREREXECQRc6qdqQjzbkow35aJMXGUAT2o825KMNRQZERERExAkEXeikakM+2pCPNuSjDfloQz7akI82FBkQEREREScQdKGTqg35aEM+2pCPNuSjDfloQz7aUGSY0t8v20SRRYfL8p8FEREREWcVdKGTqg35aEM+2pCPNuSjDfloQz7aNBQZLvaxjSyKIouine3P1w6dqat9H/KfiWzz2eVnxvBi+6j8f0t3tjl82ffvQp1Ligwr9+q0gcj256U/z+v6c/6y/XZXab+b7bGl7ZKPnL8X+zjs7ue93O3RPs7X5T/bC0v7eR3vWdbvYy72I/DZcJgwkFtqpyS22L2exImd0ts42xud1Lm5pSdLYvf8FlucpBZKiHxmhPazEDdLk/i+v5N01O3JZwnIRxLOb6Lc7FS5JwiZWL01kc+c3Cw9JRY/3L+dLNSEGosM1YH7o323dabOx+ogx+xFhp1tDkfbZ26WHkChyLBua8czg3DT+H0oB0c327z97trPIeSj5fnLKS7sbFMb9CafaaT9vI4/n7uy/eT3MUWx7otCw0qFAaQnZzAgtjiOK+erh7Gbvttn0Emdj9spLvNJEkuSpMwsPnkLDeQzE7SfZbil1aJbW5Gh5/bkMzPkownnN2HuRbk4DkmRYXncQlBsSf3+zZONWaciw9H2h26DEPe3GHbdBjhGtfys9UJI2WnvUCQZW4oMKzZ/yrf78Y/9Ldrntu8bR+Qj5/noeXPMfVp+gXPwi0v7eSHz+4Wo/gZK2Ybmu6fCMYUBpInnCSm3o1Pr1PTdPoNO6kzc8kGeJJhRfHosM5DPTNB+ZsctuiVJ0joo3Xd7M/KZE/IRhvPbainalactkc9MpEnwYZA0ab5/ay0yfOdPPDYNlucd5O2XfX/qFBncDvrsgygUGVZrPni3P/+vmAKMQbixLd9A+ug5pRn5rMhi8LR/ztgk7eeVzHPw3jc591e8zbA+YUSKwerYPH2a3tvTSZ2Hpo5okZGnA0s+C0P7mYjUkiiyOMmO+bRtULrv9nfIZy7IZ5VwfhMnLwSRz5LkhR7v/VvDua5bkaEYqA8PZriDFj9NRYbfq33X5uzebI+Pv9d9qq/+Ox6KHsOKDEPmse71MxQZVmp2PGUDOgzCTWSX4iX5rF+KDNNI+3kh2+6xhheUcHlhRCgyrJDmgYJ8gM73ffJZGNrPZNxuzg7tMCjdd3sz8pkT8lkhnN+0aXiC3ox8ZqPhfNZUgOhYZGgpHHTd1pmzu5g7elvOQVzvPBeLSFcGUXwFhaYig79zXk6jFJXrOLSs4dD7ZygyrNJ82q/8eGEQbhqbzynk8zIWc/8zXdKY0n5eyaZ7mP9ZexEClYURyTs7gekN+m5PJ3UO8iJCKLNwEYJ8Fob2Mw8dB6X7bk8+C0E+64DzmzDldFasmbE0+T1cZPEpLQo+tw5FoE5Fhi5vFuSDHeEig2/Obmfw/mEwvlx8Oh8A8Q+IdFiTwZ1mwB30qn+W0IDYkJ+hyLA+PZkxCDeNxX79fHy7KdrubH++ks8L2DgNDD69X2k/L2DT/dW//9mi0z7i08J4NE67M2B7Oqkz4K7H4N8gOJhAPstC+5kJigyvBfmsAs5vwrQMYJuRz6xUFrUvF08vpojz0L3I8C80GPH4hF3vJyybBuPzAfztV8PaEOXbCsUbBoejM+hSffqvbVDF9/0hP0ORYW2Wi6G6Az0Mwk1j8abSw9tBzhtDlXMI+axO3mKYTNrPC9lhzQVyWq8wEiO/xWBGJ3UWGtZcyMkHeygyCEH7mQ+KDK8F+ejD+U2aLg+UkM/MVAoN92JDkt7GKTK4A/5FR9gzkN5aZPi92vf5qygG7A+hNxmqnevwYFX5xkPF7c72n5dap737+hLl5x/yM/59g8LW3sipH38M7oxr4xPuvsFp8lmXv49vouF40n5eyNY3GchpzcII3MrXtTuNw3Xcnk7qDLS+SjSDUQAAIABJREFUyUCRQQ7az7xQZHgtyEcbzm/adLhnMCOfOcnXXojixE7pzW7pqSw4xOHpxroXGTyD7b6Ob7jIcLWPQ3XR5Iqhwfiz81aCd5u2+Yz7bfs4fdOQn/kfRYZVGc6YwZ1pbN6v9XMN+azLssDANEnTSPt5JVmT4ZWFZ3Hng+0yTVL37emkzgFrMqwL2s/sUGR4LchHGM5v6nSdFpN85qEoMCRp7a2FW5GV703VnkWG2mB64BX/UJGheCNhW1uXoXEwvpyLOPdxMKRPkYE3GdBj8ZbO0XnDJpt2Kzv+8sXKGeQZx+a5+mttjnxW5MX226ZscQxpP69kOeWjf//3ucdBNeEZytezOxcYemxPJ3UO8kGdxyJC9fuPRQjymRvazyJQZHgtyEcUzm/6tN0vlJDPHHS9f/M/JNKryOC+1v8RKCb4iwwNA/UNg/GV3+Wbrqnpswbs9gRonzUZAosyUmRYjUXxrIMMnI5kcI2V/1m9TZPPWqTAMJu0n5ey8R4jeO+DaxCGMm2BwYxO6lyEpkPKvtn4JBzMBe1nMSgyvBbkIwjntzXgPjXfBvnMwXNvovYrMvxrXyOhX5HhWv6++mCJZ55i/9ObPZ/yc+errhU8fkKd+SE/Q5HhJWQ6kakMP73rnX6MfMSlwDD7/qb9vI7BRdIDDzHgaoQhTF9gMKOTOhvBRTbzDqq/AEE+c0H7WRSKDK8F+YjB+W0ddH+LwYx85qG8R/O2nYYF1AcVGcrOcIe3Dzxfj6KdbbIFn4u1Fh5+V6hj7RtY6T+VgFso2eRTRxTTMvmnLOj9MxQZXkIG4abTfcJ6U5u+JdqO8WYSzmXl/Ljd+eVcOKq0n9eybEOeeyTazmqF/hTzvEaRxXHs1xnA6bt9Dp3U+Sgzii1OEkuSOFvcMTwYRz7zQPuZn/SUWJJkxvmimnH5tVP61PZm5DMn5KML57d1UC4u/PhWow/ymYmikHC/f8vPaXHsfC3wkEj/IkPL/MHhhZ//Zz+fx0phYbM92vdv9vucTvRPw1QQ7lOaP62fNezP2RmQKTr2Xw9vKgz+GYoMLyGDcNPqa1P7z0vnaUHIR8PqG24Bme5ldGk/r+TVvmv3SNF2Z/vzVeCz4VChP+6gQFCnI9p3+xw6qXNys/SUlIWFfBAuDQ8nkM880H7mpnw6tNv+7rv9HfKZC/JRhvPbGmh+q9EH+czILbWT+2BI8cDIyUK3cA1FBkREREREHCroQidVG/LRhny0IR9tyEcb8tGGfLShyICIiIiIOIGgC51UbchHG/LRhny0IR9tyEcb8tGGIgMiIiIi4gSCLnRStSEfbchHG/LRhny0IR9tyEcbigyIiIiIiBMIutBJ1YZ8tCEfbchHG/LRhny0IR9tKDIgIiIiIk4g6EInVRvy0YZ8tCEfbchHG/LRhny0ociAiIiIiDiBoAudVG3IRxvy0YZ8tCEfbchHG/LRhiIDIiIiIuIE/v39ISIiIiIivoUUGRARERERRxZ0+fvjSThlyEcb8tGGfLT5+/uz6CvyCstD+9GGfLShyICIiIiIOIGgC51UbchHG/LRhny0CRUZQAPajzbkow1FBkRERETECQRd6KRqQz7akI825KONr8gAOtB+tCEfbSgyICIiIiJOIOhCJ1Ub8tGGfLQhH23qRQbQgvajDfloQ5EBEREREXECQRc6qdqQjzbkow35aOMWGUAP2o825KMNRQZERERExAkEXeikakM+2pCPNuSjTV5kAE1oP9qQjzYUGRARERERJxB0oZOqDfloQz7akI825KMN+WhDPtpQZEBEREREnEDQhU6qNuSjDfloQz7akI825KMN+WhDkQERERERcQJBFzqp2pCPNuSjDfloQz7akI825KNNtyLD78U+DjvbRJFFududbQ5f9v27fAeun1f72JZ/x/689OdBHS+2d4/xutsv+1n8M76mP+cv2293lf292R5bzi+0ZV2v9n3I8jxcBD7Pq9tvfw9rbziH92zca8/ONofLm197uh/fvfaf9972aB/na6fP1PX6A89yszSJ7/s6SUfdnk7qvNzSkyWx2z5ji5PUboHtyWcJaD/zwvntJbildkpii937iTixUxo6u5HPrJCPODdLT4nFD/cHJwtFRD5zMiyfxiLDz2d9IGJnm8rgxNG+F++A9vB8rPw9DExiaVlkyI/zigyWTmIxeJQNdO4PR9tnX9t8XsM/S1vW9PdSHeSj3Ujt78HtDSe3vN/a2eZwz6YYAH/XIneP47vX/jt/OcWF+n1th+tJj+sPPMEtrQ5Ktw3C9dyeTup83E6x0zFNLEmScsAnPnkLDeQzM7SfeeH89hqkJ2fwOrY4jiv3B6GYyGcmyEecm53iMp+kfn8QJeaLiHzmYng+4SKD04nan6+PHbrfi+23XysqMuRPnh1tf2BgEutmRQYGRWezGBTa9n0rirasqDvItz8cKTKI7e/h7Q0n9zcf9K6/UVI+Mf9uRaBex3ff/Xc+et7Gdd9OaHqApt/1B4bhDkonSdI6qNZ3ezM6qbNxywd5ktpTb2XnNT49lhnIZz5oP/PC+e2FSBPPE73uwByDpItCPtqkSfBhgzTh/mBxnsgnUGQon+p+lcG7vMO6P//PvhmYxAcpMiyyv6OdffQc8KQtK3rPc3PInhg+U2TQ2t/D2xtOb34e8xYS8gH0t3qbod/xPdr+K4oV4XbS9/oDQ0gtiSKLk6xTk7YNqvXd/g6d1Hlo6ogWBQhPB5Z85oL2My+c396Corgam+/URz4LQz4S5AVU7/1Bw7mOfObhmXz8RYa8QzegU9trvuesQ7f5vBbz4xY/tz0+dPLyzl3oib7w97MBluzvYWASH6XIMKuDB6Fpy6r+/F5HyBcn2d/kIWz+ZHxoYPs9C0Tdj+8R919rkaH/9QeGcbs5HZoOg2p9tzejkzoP+ROj/oGcfADV933ymQ/az7xwfnsDGMTWhnw0aDifNQ1wk89MPJGPt8jQ+FRYU6fQWcMhnxN337Q4Xl5kKObO3WU/U74mX+noNT6RFu5I3v+e8usMTOKj+eBBdgwejrY/fNn3+fpGT4/OZ1vBMCRteSUyqC21v4e2N5zD/N4lNEVP2yD6G9h4fI+4/4ppQv2/a8j1B0ag46Ba3+3ppM5BXkTwT0nRVIQgn4Wg/cwL57fXJM+J6Xg0IR8R8nuEyOJTWrzReGuYpseMfOZjeD6eIkM5L22vgTu3c1Z/AyHUcft1Ft87XCqDuUXBotKpbOgshjqh+f/hfJ2BSXy0nCLs0R3HysgWbfDzat+HnbMIZ1boOV8ff462vB4pMkjt70HtDefRXU/Au83Ae7JXsun4HnH/dZp2qef1B0aAQbj14q7H4N+gmBu7Hhf5LATtZ144v70kjdPEGfksDfkIUVnUvlycu5gizgP5zMjAfEYrMrR1trzfb3ozIfC90BOZ/v+/XKDvu8dnxXf1Wv33731AzvtWDT5l3gYf33xy3oaqtHHa8qqkyCC1v/u3N5zNDmsGvP15rkuR4dn91/gWw/DrD4wAg3DrpWHNhZx8sIcigwi0n3nh/PZ6tDwlb0Y+i0I+elQGsu+D2Ul6o8igwoB8RioytL+O7i0OeJ4MK63OffvwM5XOXuB1+azT2K0ggei3GKBjwHT0feod2PQN9tCW1yVFBqn93bu94Xy2PonPee65Nxk67L/f8k1G7zZPXH9gBBiEWy+tbzJQZJCD9jMvnN9ei1s5vUhTROSzEOQjRz63fxQndkpvdktP5YB2zHRWSzM0n5HWZGibEzcw/dGQIoOvCOLtgIY/09t32LGfTyyEjn6b22C9aElbXp0UGaT2d7/2hvPKmgytTromQ1lg8N/zPnf9gRFgEG7FsCbD6qD9zAvntxfCnb889IzvHfJZAvJRoxjATtLaU/G34gEE35uQ5DMPz+TjLTIUBYHOg6ozvsng6XB6O3rFwPDRWcj37iYrUmyy771txx27yYDp6DYXMmvnE9ry+qTNSO3vXu1t6b/l7cwHsdsGwd/4TZNORYYh++9i+21T2/jf09cfGAEG4VZMPqjzWESofv+xCEE+C0H7mRfOby9COZ1I2wC2GfnMD/no0fX+gIcQluG5fLxFBndB5q5PCHd7UjKwJkPfIkOl0+jfriiUdJC5qLHJ/m/2YKs9nkylLa9Qigxa+/upJ8Fxahvvn3iT7rk3dYL7r0OB4d/z1x8YAQbhVk1oOqTsmzypqAbtZ144v70A/QawzchnXshHE9501Oa5fPxFhn/uQpE72589HbDfi+23R/v+rXXkIudreSct1MkbXGRwOpUH/1y5gzv0+IZe7WPrP86LY5enfEc2/PSpd2q1gLRlUSkyiO3vcdobTpzfQ6FnyBpZL2jXIlrn/detwNAm0yXNBINw6ya4yGbeQfUXIMhnIWg/88L5beX0H8A2I5/5IB9dynsAbzYNC3STzxw8l0+wyPDfv6t9H6pPcG22O9ts3a9VByzKwkRkm/yV8q1/2//+/e+pIkPZqew/AMzAJFYtByKiaPcwFcK90Lb0Z3w93SdEN/V9vu32VDVtWcfvT2cqkfw6sS3b0/6TQewl9/cY7Q0nzNN5sOOez654o/QdC0B9j+8++69yr5rd1z44UpEbhpGeEkuSzDhfdC4uv3ZKn9rejE7qnBRz90axxUliSRJnC0KHB0vJZz5oP/PC+e11KM9tkcVx7NdzjiOfeSAfcYqB6vv9QX5Oi2PnazyEsBxP5NNQZLj7c/4qO3i5251tDl8Pbyzct3cHZ/MOn3/bp4oM/y7lwHDPaQQYmMQHf6/2/dnj2MVR9J0v9p+Xzu2ZtqyiW6gL+M7TvYjs72fbG06b6ffnsRwYzwfVz1eBzzb/vuh/fHfff26R4ZnzFUWGqSifngpamV6n7/Z36KTOyc3SU1IWFvJB0jT8ZCn5zAXtZ144v70S7iA2+ehBPivgltrJffCgeCDhZKFbBPKZkYH5tBYZEBERERGxn6ALnVRtyEcb8tGGfLQhH23IRxvy0YYiAyIiIiLiBIIudFK1IR9tyEcb8tGGfLQhH23IRxuKDIiIiIiIEwi60EnVhny0IR9tyEcb8tGGfLQhH20oMiAiIiIiTiDoQidVG/LRhny0IR9tyEcb8tGGfLShyICIiIiIOIGgC51UbchHG/LRhny0IR9tyEcb8tGGIgMiIiIi4gSCLnRStSEfbchHG/LRhny0IR9tyEcbigyIiIiIiBP49/eHiIiIiIj4FlJkQEREREQcWdDl748n4ZQhH23IRxvy0ebv78+ir8grLA/tRxvy0YYiAyIiIiLiBIIudFK1IR9tyEcb8tEmVGQADWg/2pCPNhQZEBEREREnEHShk6oN+WhDPtqQjza+IgPoQPvRhny0ociAiIiIiDiBoAudVG3IRxvy0YZ8tKkXGUAL2o825KMNRQZERERExAkEXeikakM+2pCPNuSjjVtkAD1oP9qQjzYUGRARERERJxB0oZOqDfloQz7akI82eZEBNKH9aEM+2lBkQEREREScQNCFTqo25KMN+WhDPtqQjzbkow35aEORARERERFxAkEXOqnakI825KMN+WhDPtqQjzbkow1FBkRERETECQRd6KRqQz7akI825KMN+WhDPtqQjzbdigy/F/s47GwTRRblbne2OXzZ9+/yHbhmL7Z3P3fd7Zf9LP4ZUc2f85ftt7vKsbLZHldwvK/Vq30fsv19uJDPWvVeK472cb4u/9le0b77m3zkvZ/b3PuUnW0OF+5T/l3tw9kv+3PbPux2fei3v6/2/Xm0zcP2zffC8Cw3S5P4vr+TdNTt6aTOyy09WRK77Se2OEntFtiefJaA9qPJzdJTYrHbfuLYkjTUeshnVm6pnZLYYvf+Ok7sRD4akI84nvNbFFucnCwUEfmMQcfr/cD201hk+Pmsd9R2tql03o72vXjns8myyJB/9oodBjTxvSwGu7OBif3haPvsa5vP6+Kf7+X8vVQHeVraJPmIev4qBq+LXJxcyWbh/e1sH0X163jzoC3OY3m/tbPN4Z5pkdm7PxBxPnY6XvtcH/rtb7fIsct+r7N9w70wPMEtrQ5KtxUZem5PJ3U+bqfYGThILEmSssMan7yFBvKZGdqPKDc7FbnEliSJJfnAUBRZHMiJfGYiPTmDb7HFcVy5Xwk1I/KZCfIRx3d+c+4PosR8EZHPk3S93j/RfsJFBqdTtz9fH77/83ux/fZrHUUGignYwWLQYbuGt3TWrzvIsz8cW4sM5CPs+eh9otfN7K0HSZfe397t3YFT9QcGXtzfvAhUf+K+zOh9C3X5Pjja/hAuMvS6PvTd3/n9sOc89n1ozgeG4Q5KJ0nSOujZd3szOqmzccs7qUntqcRycCE+PZYZyGc+aD+6FNnU3/q5pZZkmXmaD/nMRZp4nrh2B04ZJF0U8tEmTYIPG6QJ9wdT0Ot6/0T7CRQZyjcA1v2EI0UG7Gp+zO/sgwHs2fb35pAN2pzbigzks0rdwbylP8s72Hd/F9vTrpa0caA6z+hNC3V58WB/LvfT431pv+tD3/2dfwbv9i3XLhjCffAsTrJOZ9o26Nl3+zt0UuehaaCgKEB4BhjIZy5oP7rkgzn+QkI+WMQgnCBFcZUikCTkI0HTOazpWkQ+Qxl2vX+gQ/vxFxkantpq7RD2mS8968xtPq/FfNHFz22PD53Fxo6e9/sUGbCjrYPcOLY/v9fu+5981umbD5DK72+KDALmT8+HMnjnAmv2t2fHc7DI0Ov6MGB/N/z+tvtSGMbt5vRaOnSC+m5vRid1HpoHSfMOr+/75DMftB9V8vbhf1q06Slg8lkYBrG1IR8NGq43FFGnYcj1/vGXDCwytL3+HdJdwyGf43bftFhfXmQo5rbN5rrdltOoVDqBjQMovo543kEt59DdH77s+3xlwAsrtg0U4MS2DBKRzxplqhf5/V1Mi8ibJsuZ37uEMmgbFH9d7/ei5d8dKjL0uz4M2d/O+l6f5cLQPx0eyIER6NsJYpBUiJZB0oYiBPksBO1HiOYpkXgTSJi8HTEdjybkI0J+jossPpVTwt0aCqhm5DMaQ4sMHdqPp8hQDlT0mirJHayov4EQGsgonqK8Dy66nbSiYFEZdGzobHsHKcuO4aO7lU8FhWNaDF58Xu37sHMWdMyKVOfr4p/xpW0pMpDPGrzYx6G62GoU7WxPgUF2fw99oABHtHWKq4H3ZGs33y/ONSFUZOh1fRi6v38vzkMz5eLpxZR/AWEEKDKsF3c9Bv8Gxdy+9bjIZyFoP0I0r1tiaRJsX+SzLI3TxBn5LA35CFFZhLhcXLiY0scD+YzEwCJDl/YzWpEhPFduw/eb3kwIfC/0xFr4/7/Wfu+9E+p9UwLf1vz4eXwTx3k7h4G46exYZCAfYd2icSUrFuqW3N+8xaBhhymu2u6vXs9ysWf32GwrMnS6PjyzvyuFhvxhleY3Y2EEKDKsl4YnrXPyzipFBhFoP1oUT4xGFsX3hTqTJM6KC7kUGaRoecrXjHwWhXz0qBQa7sWGJL1RZJiaIUWGju1npCJD++v83uKA50m10upcvA8/U+l8tr3+Hu5EMsc7/vev5YleBuOmt2ORgXzW409lQI5spPb3b/mW3/sMXIvaYbHutysyZOf0rg+T9Lo+DNzfxdu126N9nK/Z+mNR8bXQ74IRoMiwXlrfZKDIIAftR49bakn2dG9uHCeWpkyXJMetnP6lqQmRz0KQjxz52gtRnNgpvdktPZUFh5jprCal7/11j/Yz0poM7YP83umPhhQZfEWQIYvCPrG4Nb6ezYM47zsn9mx2nS6JfFYm6zLo7W93fnkyWV7WZOi6P1qnS+p0fei/v9371/r9aPHASuBeEkaAIsOKYU2G1UH7WQ95Ec+TFfksgTu/fOgZ7DvkswTko0ZRYEjSWqH0VjyAQBF1QnrdX/drP94iQ/nEVtcB+BnfZPj3v4cByUFP+Q0pTODL2lxYe7dBngV85k0G8pHWv74OLrO/y7cdKDComA96h85f/d/UXLXFAyD5eiOlm/zYzb5XXxC62/Wh7/7uur3/+zACFBlWTMvCtQ1FCPJZCNrPasgH6HwDPuQzN+V0L20DcGbkMz/ko0fX+wMeQpiMzvfX/duPt8jgzvXcdeC+25NkgTUZ+hYZKp3Apu3aPy8DLfjfv/+1DHK/2SCP3P4nnzXL1HQq+5sCg6qN909v9tZlUSTrYHEc97w+9Nvfz71pAiNAkWHVhKZDyr7Jk4pq0H5WQvMAHfnMSb8BODPymRfy0YQ3HRen0/V+WPvxFxn+uQvp3Re2e9jm92L77bFcYNKd97bW0foJdZIHFxmcTuLBP3fvvePn/+zF5+HJZywMP43Ik9gz2PpmEfnoGj7XDilY4xT7mwKDtMF1ZYaskfW6hosDPa8PvfZ3yxRkLWsCwQhQZFg3wUUC8wEEfwGCfBaC9rMCyrYTyol85qL/AJwZ+cwH+ehSnse82TQsMEw+I9F6vR/efoJFhvtcs9UnyjbbnW227teqHbqyMBHZJn/Ffevf9r9//3uqyFB27ELFgrJjGEW7h9ft78WT5TvNqKP7BOWmfrw0LOyIw/z+dKbCyM8r27Kt7j+r5wXy0bX53B/ZhgLQovu7sn12HX+QjEQy3WWZ7oqCEQXU6j7y3bv1vT702t+1+80+95MwjPSUWJJk5guexnH5tVP61PZmdFLnpJhbOYotThJLkjhbEJpBUgVoP7rkbSfOs0icBaA9bwDlkM88lOe2yOI49suaGYtBPuIUhYT7/UF+zYlj52s8hDAqfa73z7SfhiJD1nE7f5UDgLnbnW0OXw9vLNy3dzteeQfOv+1TRYZ/l7KIENrm92rfnz0+D769vuN3/1lf7BGf1y0CBvS0a/JR9eq9Vmy2R/s4XwU+36vZb3+7RYY+7Q3nzfT781gOdOdFV0+e72rb+lv9rg899/fvxT7cQkTH+0kYgvOUbsjK4Frf7e/QSZ2Tm6WnpCws5J3aNPxkHPnMBe1HmtupHAgqBnsSOzW0HTPymQt3EI72owf5rIBbaif3wYPigYSThU5z5DOUftf7Z9pPa5EBERERERH7CbrQSdWGfLQhH23IRxvy0YZ8tCEfbSgyICIiIiJOIOhCJ1Ub8tGGfLQhH23IRxvy0YZ8tKHIgIiIiIg4gaALnVRtyEcb8tGGfLQhH23IRxvy0YYiAyIiIiLiBIIudFK1IR9tyEcb8tGGfLQhH23IRxuKDIiIiIiIEwi60EnVhny0IR9tyEcb8tGGfLQhH20oMiAiIiIiTiDoQidVG/LRhny0IR9tyEcb8tGGfLShyICIiIiIOIF/f3+IiIiIiIhvIUUGRERERMSRBV3+/ngSThny0YZ8tCEfbf7+/iz6irzC8tB+tCEfbSgyICIiIiJOIOhCJ1Ub8tGGfLQhH21CRQbQgPajDfloQ5EBEREREXECQRc6qdqQjzbkow35aOMrMoAOtB9tyEcbigyIiIiIiBMIutBJ1YZ8tCEfbchHm3qRAbSg/WhDPtpQZEBEREREnEDQhU6qNuSjDfloQz7auEUG0IP2ow35aEORARERERFxAkEXOqnakI825KMN+WiTFxlAE9qPNuSjDUUGRERERMQJBF3opGpDPtqQjzbkow35aEM+2pCPNhQZEBEREREnEHShk6oN+WhDPtqQjzbkow35aEM+2lBkQEREREScQNCFTqo25KMN+WhDPtqQjzbkow35aNOtyPB7sY/DzjZRZFHudmebw5d9/y7fgevqz/nL9ttd+TdEkW22x1X9DTiVV/vYRpVjw+/Rvhf/rC+k99xytI/zdZztUTtPHMmrfR+ya9vh0ro910Jd79m415ydbQ4X+xH4bMtavUbvz237sNvx3W9/X+3782ibh+2b74VhLm6WnhKLYyefOLYkvQV/gk7qvNzSkyVuPlFscZJaKCHyWYKbpUl8zydJG7cknzm42anSZkImVk+LfGbkltopiS12M4kTO3H90YB8FqLj9YR8FqL79d4sv4eLK9eeOE7MF1NrkeHns95R29mm0nlbx6BrMQCTdTb3h6Pts69tPq+Lfz5c2vsgXX58P7qu430Vnr+KweiiTTqDNw/t0tk+iurnoeZBJxTME8fx91IdJG0pMnAt1LW839rZ5nDPpjjnbb/eu9BwPnY63/c5vvvtb7fIsct+r7N9w70BzIE7EBdbkiSWJGVHKA50nuikzsftFBf5xEliSZKUAwrxyVtoIJ+ZuaXVIhBFBgHug0BxHJIiw+KkJ2dw9J6Le78SakbkMxPkswxdryfksww9r/epe08dJ5X77Pj0eAfXXGRwOnX78/Xh+z+/F9tvv+QHXYuO5HZdb16gjsUx1OEpYezo+eh9AtRtrz+t27sDPxSAVpUnPq07SLo/HFvPUVwLhf3Ni3T1J+7Lc9z7FoHyfXC0/SFcZOh1fPfd3/n9sOc89n1ozgempxjArj8Vf0styTqunj4QndS5uOWDCPUn3sriUKiTCvPgFoGSJKHIsBLcc18d8pmJNLE4OQXPbb4CkBn5zAb5zE6v6wn5zE7f632xfVzPKUxDkeFi+5d4Qjj/O3b2waAKDjIfdOAYmkV38KfX9uQjad88saP3a9vmkA16ntuKDFwLlW0cqM7b0JsW6vLiwf5c7qfH+9J+x3ff/Z1/Bu/2LW0PpibvjPoLCXnniEHs5UiTcCGhKEB43mYgn7m4F+PiJMsgpciwDprPfeSzMEVxlXwkIZ+JGHY9eYB8JqJvPs0P64QIFxkantpq7RD2me8568xtPq/FfN7Fz22PD53Fxo6e7/utAy+ILT7RFnCAfQfUKDJo++YDpFP683st/912reNaKGxbIfudC0TZ356dP4JFhl7H94D93fD72+5LYWryDpD/abeiA8Ug9kI0D4Q2dWDJZz5uN2fnU2RYBw3nNjPyWRwGSbUhn8kYcj15/CXkMxW98hmYX7C3tq97AAAgAElEQVTI0Pb6d0h3DYd8jtt902J9eZGhmNs2m+t2W04DUekENg5YPXYM2zp/iM2WUyes+42etThgapBiWjeelNeTqV5ms2WQlWuhsvm9S+gc9r5v093vRcu/O1Rk6Hd8D9nf5du9m89yYeifDg8hwNS0PGXFk/IL01IEaihCkM9CUGRYAeV0IsxZLkrejpjuRRPymYehRQbymYeWfJreBm4iUGQYOLDqDvbV30AIDQQWTyHfB0fcTpp/HvyGzrZnkKXokH5mC/s6b1dE2513rQnEQt5imNiLfRyqi3NG0c72PQZChxZEUTNPHGhLkYFrobCtU4q9abE73y++e7rafuh1fA/d35VF1ne2yR6GKaYsCwhT0zyvv6VJuR5A7Vt0UmfAXY/Bv0FwsJR8FoIigz4tbzGYkc/SNE4TZ+SzNOQzEwOLDOQzEy355Dkkp5ulSews0h1ZFMeWBBZpGLXIEJ4rt+H7TW8mBL4XemLN9/vzrz2+XeG8ccEAGAZkAHti3SJjpZ12XJiWtxi0fDZPHG7HIgPXQkE7TCnWdn/1epaLPbvn9rYiQ6fj+5n9XSk0ZEXU85Uiw9IUT7xlnZ4ksaTeGaLIsAwNb5LkFJ1YigwaUGSQp20Azox8FqXlKWwz8lkU8pmPIUUG8pmPjkWG3DhJ7vfYcVx+LbDm2UhFhvbX+b3FAc+TaqXVuXgffqbS+fS//t44SMwAJTbJgrWz+1MZwGnZ77+vsjj969orT3zOjkUGroWCdrjWvF2RITsmuzxM4n690/E9cH8Xb9duj/Zxvmbrj0XF10K/C2billY6PVEUWRwnlqZMl7QorW8yUGSQgyKDNh3alBn5LMYtnyIuPJWVGfksBvnMS98iA/nMS8ciQ+hN4aaHeEZak6FtjtvA9EdDigy+IkhggKW5Y/6+8xxju7zFsJRd5vF358cmH21Zl2EWu06XxLVQUNZk6Lo/WqdL6nR899/f7v1r/X60eIsi8GYELEw+IOfpQNFJnQPWZFgdFBmk6fIWgxn5LEM5QEo+ipDP7PQqMpDP7HSdLsn77eb7N2+RoXxiq+tc9DO+yfDvfw8DKoOebnu7jjt293ERcZxP/3osTjYMWq/K5jxxFJ95k4Fr4cK2XW/aH+J4KYu1kPL1XUo3+bk/+159Qehux3ff/d11e//3YVmaFq2jkzoHLQtzNxQhyGchKDII09aeSshnblJLmtYHqkE+c0M+i9C5yEA+i/DMmwxDigzu3NpdX8/v9iRZYE2GvkWGSiewezHirTvu2FkGRZe1eDL0Yf9TYFij4TxxNFuKDFwLtW28fyoG3bs+9LFui+tvB4vrQM/ju9/+fu5NE1iS5gE5Oqnz0PgkXMMCtuSzEBQZZMmLpl2eCiafOek3QGpGPvNCPovR6XpCPovRlk/j95sfEvEXGf65C+ndF7Z72Ob3YvvtsVzQ0533ttbR+gl1kgcXGZxO4sE/d2+1c/nY+WMgGf3yFsP0Xu1jGzqvhAqcFBh0HZInjmpbkYFrobbBdTGGrJH1uoaLAz2P7177u2XKt5Y1TWAp8ieswp0nOqkzEZy3t8zIFxH5LARFBlG6v8VgRj7z0X+A1Ix85oN8FqX1ekI+i9Iln8B1p6no3VhkuM81W32ibLPd2Wbrfq3aoSsLE5Ft8lfct/5t//v3v6eKDGXHrnlA2H0qblN75b5psT58T/tPFYZDbD5XRLYJrK/inoceZJB0NXniCPv805lKJr8ub3fl1z6r+5xrobbugx33fHZFgY4CUHUf+QoufY/vXvu7dr9Zn77p/jCO/zPD9BSvcyeJJUliSeIsAO15Qj6HTup85BlFUZzlFGeL11IEUiA95W0nKRdQj+PyayfWNFmaYkCn4ZzmQj7zUJ7bIovj2C9rAi0G+cxPn+sJ+cxP3+t9ce1x7rPj/CGe2L/eVkuRIeu4nb/KAYzc7c42h6+HNxbu27sdr7wD59/2qSLDv0vxdFnbgLDvM+0/6wv4IfLU6Jz72ndu2WyP9nG+PmzvDmIHpTC0mjzx+f39se3fHrgWKnu1789jOdCdF43OV4HPpmHztJx9j++e+/v3Yh9uIaLt/jYTZuB2KjtKRWc1sVPKwoE63Cw9JWVhIe/UNmREPnPhvPUTkumsFqb5rR8f5DMP7iAp7UcP8pmbftcT8pmbYdf7W+oUFrIHRpJT2vgQT2uRARERERER+wm60EnVhny0IR9tyEcb8tGGfLQhH20oMiAiIiIiTiDoQidVG/LRhny0IR9tyEcb8tGGfLShyICI+P/2zh05cSaMotoSItNCKKrItQdXEXgJpA6I2IOKhIwlUH/ChLOP7w/QC+iWBFK3LuNzqk4wNtiMLi3T/fUDERExgKALnVRtyEcb8tGGfLQhH23IRxvy0YYiAyIiIiJiAEEXOqnakI825KMN+WhDPtqQjzbkow1FBkRERETEAIIudFK1IR9tyEcb8tGGfLQhH23IRxuKDIiIiIiIAQRd6KRqQz7akI825KMN+WhDPtqQjzYUGRARERERA3i5XBAREREREX+FFBkQEREREScWdLlcmAmnDPloQz7akI82l8vFku/EKcwP7Ucb8tGGIgMiIiIiYgBBFzqp2pCPNuSjDflo4ysygAa0H23IRxuKDIiIiIiIAQRd6KRqQz7akI825KONq8gAOtB+tCEfbSgyICIiIiIGEHShk6oN+WhDPtqQjzaPRQbQgvajDfloQ5EBERERETGAoAudVG3IRxvy0YZ8tGkXGUAP2o825KMNRQZERERExACCLnRStSEfbchHG/LRpioygCa0H23IRxuKDIiIiIiIAQRd6KRqQz7akI825KMN+WhDPtqQjzYUGRARERERAwi60EnVhny0IR9tyEcb8tGGfLQhH20oMiAiIiIiBhB0oZOqDfloQz7akI825KMN+WhDPtoMKzKcDva1XtoiSSypTJe2WH/bz2n+Dpzfs32lrdfsdWM/s79W1PBsP9uNLe7eN5/wXv90z/azXt6u9/rQ+/jj/ttW6fKuHS/SDRnNmB/32nmv/9D2c2s7j/e3gx1n/z8g+VS+ez8Z8/f7/neu9tPlA6G52i4b8n7JrXh4Jp3UuFyLneV3WWWW5YVdPY8nnzm4WpFnt3zyxxZzD/nMAflIci1sl2eWtf/mZLntCt/djXyiQj4zMfx+ZVZ9RsjuPrtlWW6umMhnBC+3h6sVu9yyp89vO2c2ZgOKDMft40De0hZ3g3vKg0a3gZfqNT/7Cf8HjPl+aQYZlrZab2y13rSKa7xPgng63A/a9AyS1oOpZWHhltPta4vtef7/z6+Ue+1svtB+mr/nS1s83t/S7182kK0n+VS+cz8Z+fd7v7n7rOsqMrybD4Tm1onNMp8UGRS47qqBg8yyPLc8z5sObrZzFhrIJzLX4r4IxCC2FuSjSbFrDdbd/u60P0/4YiKfSJDPPLx4v6qLEWVhIc9zy8uvZbvnTwjk8yYvt4f2RJ6szKX1+c3x2dqsr8jQ6nSt9ufnDtfpYKv0+2MHjeoO44CZ0/gLrN7vjsGCn3XCIHYA24M2q/Vm+CBpysqST5J7beDrOqT9nL7LAdHHFT/N4Cz3txkln8E67yej/n5X13hjq7WnyDAiH5iXenDb0cGlkxqJa9WpfZyR2HReGUSYl3YRKM9zBrHFIB9hitwxo7c9MOcfhIMIkE90Xr1f1Y/P/DPjHyGfN3m1PRS5dzJIkXd/fvMUGQ626pjR9flWHcOlfTFYiX+agQvnQMG+fwAcX/V2j1msy0Gh3mtc3ZNos58l99owvtZ+OgdaqwHUXzVbXkvyGar7fjLm73f13NW+yeHxc++YfGBOqo5TZo4+EJ3USHR1ROsChKMDSz6xKCxPEsvyMoOCQWwtyOcjqYur/P2RhHwC8er96vZ4Xw4+yGdiPO2hKgA5P791ZOsvMnTMCuvzpf3Sy87ZYnuuz36on5dungalOjuSA74/xf8P/1E7BiIGv6/wJY+n1vXsKzJQ6PlMudcGc3j76Sv0UMCbV/IZrO9+8vbf7/Lalj/PXWQYlw/MSMcMLDM6qXHoLvR0DTCQTzyu19bFZxBbDvL5QBjE1oZ8gvHS/Wrg/ewR8pkYX3voyKerAOEtMry7PUz7DIdqz9pV12F6VZGh3tu23Es3bbaBuOu0dc4YG9oRb5a3/5urNPA9m9U7i21zkOORQdI4DpxtSqHnk+ReG83O9lPd23z70rPaZF7JZ5hd95P3/n7fPus219VdZBiXD8xFs/ybPZfnpCoiuLek6CpCkM9MMIitDfl8BlVObMejCfnEoed+1TlTvgPymRhve6g+wyWW7Yp6ws51wCQeR5HhzYGh+gyH51ULx/b32s+p97m9DY60O4Hufbw7OnNDZzozaIw+7w5RbQ45r7ckwXAO3O5ltS0PBW2tlErSpfPcGBTJlHttvGvtaj/t/eSdz6cYNKvkM8y++8mrf7+r695qM84iw8h8YCZ6OkBmdFKj0D6Pwf0AbzGIfGaCQWxtyOcj6NwmzshnbsgnEj33qyqHfHe1Is9aBwonlmSZ5Z5DGshnWrq3tWwf4t0cFl1vieVg0iKDby/bQZ03V6fR8z3fjOa+3//4OGZEo9O7gYpydc3+zCBpaAcWGZ5XSrVWT9GmpeReG9EhRYaOYs/Qv58YQPIZ5KD7yeC/381hzz+O3zH4c+qAfGAe+gYQzOikRqHjzIWKepCBIoMGDGJrQz769MySNyOfWSGfeAwsMlRmeW55nlueZc3XPNvxwEQMaA/3hYZbsSEvrjGKDP3L+Z3FAcdMssb7vXKfnnPXOexbzt71XMSb9eqZdGNf+3N5vkhSf433TEDHHFzrWymF88m9Nq6jVjIwiD2r5DPJNXrp73fZXgZNVhmZD8xA7+z5G3RSIzAgC4oMYjCIrQ35aHNtthfpioh8ZoJ84jKwyNB5sLDj8wP5TMSA9lBtaZVkue2Kq12LXVNwyPzbjU10JkP/IL9z+6N3igyuIsjArZKYWYs+2+/Px/dbPYuebV/COXS7JOcgG3uWq8m9NrKcyfDBkk+fffeT1/5++683ZzL8GwxZxWBGJzUOnMnwcTCIrQ35CNPev5y/P3qQT3SGbpfk/DafD8LS3x7qAkNePKxauDarUBwrVb1FhmZG2NBB1YgrGf78fRpQGTbLb+jB0Pj77Htv8N4J7piVDAzCiUl7ie6gIkPf/Y1VJ/NIPtNcn4Hfr892KLfca7koJ7Asyu/dft64fCA2VafpuVP6CJ3UGPTl4S9CkM9MMIitDfmI0mwnMuQQW/KJDfnMwpiVDBQZAjKkPQz9/ObOx1lkaB/IPHR5/rCZxp5l6K8WGe46dV2Pa3QfJI3415hJKmDfaqRRM7UxptxrZ3DMSiAO6J5d8vHbfz957e93/fMGWBW1x+QDcWnPuuqDTmocOmcqdhzQTT4zwSC2NuQjyGsD2GbkExfymY2++1Xn95mEEIah7WHcSlR3keFP+6DV28F5T485HWyVbuzn9NDRSlpfqzqJvk7Y20WGVqdv7d5b190JZZAYXTZFMPb8n8neLc/8bZhBbSW5187i0CLd0z3snTOYMFh+5PPgkPvJdH+/vcWEEflATIavYjCjkxoN777KVQfVXYAgn5lgEFsb8hHj9QFsM/KJB/nMSu/9yv+5rWvSCPm8yyvtofmM9s6ZGd4iw20v2/sZX4t0aYu0/bX7jl9TmEhsUS1BT92P/e/P31FFhqbT1z+g9fr2T/jrfHg/PW6fcCu2CbzOf8ifbWuriuq+kjbXfrW9vy+0Z6AuHvPhYG4JudfG89X20544cGs/y3rFIgW6+SWfZwffTyb6+921YuHdfCAezeF0z7PiXdBJjUe9d2+SWZbnludZeSC0f/CBfOJR7HLL89KsakdZ87UdgzxzQj66NPe2xLIsc8sg6WyQT3xevV/Vn92SpPx8kFs24GBheJ2X20NdSLh9fssf80ky7ySRjiJD2cnbfzcDGJXp0hbr76cVC7fHtzt2VYfM/dhRRYY/h3oGWXcH9LfPBMTBng721R446Hv/4gibdunV0a5d95fV9vGwT5w7U+618a718PZztp/t5v7+lnpWKuIsmZLP/fV46X4ywd/vvm0/38kHYtE9K94FndSYXK3Y5U1hoRp0KPzlIPKJRdN2vLKd1YyQjzLtQTvy0YN8YvPe/epatAeuy8Hr3eNhww3k8x5vtYdrYbv2xJB6wsjOfB/hBhUZEBERERHxNUEXOqnakI825KMN+WhDPtqQjzbkow1FBkRERETEAIIudFK1IR9tyEcb8tGGfLQhH23IRxuKDIiIiIiIAQRd6KRqQz7akI825KMN+WhDPtqQjzYUGRARERERAwi60EnVhny0IR9tyEcb8tGGfLQhH20oMiAiIiIiBhB0oZOqDfloQz7akI825KMN+WhDPtpQZEBEREREDCDoQidVG/LRhny0IR9tyEcb8tGGfLShyICIiIiIGMDL5YKIiIiIiPgrpMiAiIiIiDixoMvlwkw4ZchHG/LRhny0uVwulnwnTmF+aD/akI82FBkQEREREQMIutBJ1YZ8tCEfbchHG1+RATSg/WhDPtpQZEBEREREDCDoQidVG/LRhny0IR9tXEUG0IH2ow35aEORARERERExgKALnVRtyEcb8tGGfLR5LDKAFrQfbchHG4oMiIiIiIgBBF3opGpDPtqQjzbko027yAB60H60IR9tKDIgIiIiIgYQdKGTqg35aEM+2pCPNlWRATSh/WhDPtpQZEBEREREDCDoQidVG/LRhny0IR9tyEcb8tGGfLShyICIiIiIGEDQhU6qNuSjDfloQz7akI825KMN+WhDkQERERERMYCgC51UbchHG/LRhny0IR9tyEcb8tFmWJHhdLCv9dIWSWJJZbq0xfrbfk7zd+D6PdvPdmOLtPX6k096/RhPx3slXdpqfxZ4bf+yZ/tZL2/Xe33ofOxx/22rp7Z8sOPs/wd8J0+Me71pP9qSzxSGaw/v5AOxuVqRZ7d88qLzkXRS43ItdpZn7faTWZYXdvU8nnzmgPajDflIci1sl2eWtcfKstx2he/uRj5RIZ+4vHy9r1bscsuePh/szPcU8hlBpHw6iwzH7bL1wxJbpEtbpO2vbexn9g5ld2fzK206g6v1xlbrTatgov76MZ6u90rzXl8wWBrG0+F+0KbjOjf3o6UtHtty+s1AnIIv5IlxrzftR1vymcCA7eHdfCAi1+J+EJtBOBmuu6zVMc0tz/Omg5vtnIUG8okM7Ucb8tGk2LUG6zLLsqzJKEnMFxP5RIJ84vLy9b7aLmsenz9+Pkhyc0VEPm8SMR9/kWG/qX+hayb38XSwVfqtPUhf/R8cHcCfdTl4vH3+v+Hvsx5AeJyVeDrYqhxY+GLlS5hrXhZ1OgeFTt/lgM7mYQVSUxyiLX9Qnhj3etN+tCWf0QZtDyPygTi0B7HzPGcQTolr1anNH2a9NZ3XbPdcZiCfeNB+tCEfYYrcMaO3PTDHIOmskE9cXr3eRe6dbFDkfD6YnIj5eIoM1cBqYqv9/J3HsZ1OZ+dvzyAYVlYDBe5CQuf7CN/0do9ZrMsCYE977CwKVgNAzPb9mDwx7vWm/WhLPmMN2x7G5AMxKCxPEsvyshNUMAinRFdHtC5AODqw5BML2o825POR1MXVzFy3PvKZGfKJi+d6VwVU5+eDjnsd+UxMgHzcRYaOFQB93vasfdxm6XH2133nbLE912c/1M9LN08Dvn2DvU/f7+hoMnCMjVVRzbN91oj2gH6Pp/PzNXYOCnUXgZr8WG3yGXli3OtN+9GWfKYwXHsYlw/E4XptdYAYhBOimiHnHsipBlBd3yefeNB+tCGfD4RBbG3IJy6+691xP+sa4CafiQmQj7PI8O5WQu0zHKo9a9v74z6tiqiKDPXetuVe+Gmz7P2u09Y5Y8zV0WtWZCy2zTY4RwaN8c6eQRxmkoa3c1CopwjUOwiEWnli3OtN+9GWfCZ30vYwLh+YAQbhhKiKCO4tKbqKEOQzE7QfbcjnM6hyYjseTcgnLt7rXX1GSCzbFfWKxmvHNj1m5DM5AfJxFBmaPWZf2iqpPsPhedXCsf299nPqfW6Tp73w23vkD+rM+TqVdwcBNgdX18vqEfv2Vd5vmv2YZ3+t/6hdg0Lt/bB78vvk7d3+KSky6Fxv2o+25DO9U7aHkfnADDAIp0P7PAb3A+q9gB/jIp+ZoP1oQz4fQec2cUY+c0M+ceneNrF9qH1zGHG9RZwD8pmWEPlMVmSoVj/4nuP8ftcMcc/3fNscdf7+u0JDuWJif6bIgI2tg86TtFxRs142RTCKDHGuf9egUMdKkr77DwrliXGvN+1HW/KZ3inbw8h8YAYYhNOh48yFiqpzS5FBBNqPNuSjT88seTPymRXyicuA630/kH0bzM6LK0WGGATKZ6IiQ/9yfmdxoOq8dS1pf+zYOWeV+Zez1ysi0o197c/lmRFJ/TUGjbH2dHCfJ7Jnu6Tgjpp5yiCcnBQZdK437Udb8pneKdvDyHxgBhiE06F3JQNFBjloP9qQjzbXZnuRrojIZybIJy4Drne1t3+S5bYrrnYtds2AdsZ2VkEJmM9EZzL07Vnr2f7onSKDqwji6VC2f+fjz6j+jwwcY6+d71OcRPaU/7ekyCB0vWk/2pLP5HImw++GQTghOJPh46D9aEM+wrT3L/fN8b1BPnNAPnHpv971AHZePMyKv9YTEFwrIclnCsLm4ywyNLP/hw7AR1zJ4OhAumeR9Rzm2/t9xJu+LbpwQgcNCvW1ZVYmyUiRQeh60360JZ/JnbQ9jMsHZoBBOCGqTuxzEeH++89FCPKZCdqPNuQjSrOdSN8Athn5xId84jLkeg/9fMAkhOkJn4+zyNA+kHno8vzu5fyeLZjeLTLcdep8j2N2IE4hxago9gxKd95fqueyKklHigxS15v2oy35TOzE7WFMPjADDMJJ4dsOqfwmMxXVoP1oQz6CvDaAbUY+cSGfuAy93qx0nIc4+biLDK1OVXVI8tNjTgdbpRv7OT10tJLW10qPvk7Y20WGVqdvvfHMMm8KG84Z6O3XO3eHGEVt3kMMlga2b1Da217fO6geZ84T415v2o+25BPmek7VHkbkAzPAIJwW3kMFqw6quwBBPjNB+9GGfMR4fQDbjHziQT5xeeV6N58BnI/tOJCYfN4lXj7eIsPt3ILHQ3CXtrg7GPd+dndTmEhssd7Yar1pDll2zQQfUWRoOn0ds8wfHrMqX9Oi9ZrouON/f1rnkFTv2/Z7nxmkYa75dlO3yfrA7bRpp6vt/X2hXfhclBlVK64YzJ7fV/PEuNeb9qMt+Yy8foHbw7v5QByKXW55XppVh9Rlzdd2zwNydFLjUe/dm2SW5bnleVYeCO0fLCWfeNB+tCEfXZp7W2JZlrl13OPIJw7kE5eXr3c9UH37fFDd07Ks9TUmIUxGzHw6igw3j/vvpsNWD7oubbH+flqxcHt8exC/6pC5HzuqyPDn0Mwy7xoEPh3sq90Z7HtN+Ds9Pb/PF+nGvvbn+V/bP2lrlYhPx6HvP9vNfVtOPSut8APyxLjXm/ajLfmMuXbh28N7+UAMmtlWXtmOZ2auVuzyprBQDZIW/pl05BML2o825KNMe9COfPQgn7i8db2vhe3aEw/qCQk7831EIJ/3iJlPb5EBERERERFfE3Shk6oN+WhDPtqQjzbkow35aEM+2lBkQEREREQMIOhCJ1Ub8tGGfLQhH23IRxvy0YZ8tKHIgIiIiIgYQNCFTqo25KMN+WhDPtqQjzbkow35aEORARERERExgKALnVRtyEcb8tGGfLQhH23IRxvy0YYiAyIiIiJiAEEXOqnakI825KMN+WhDPtqQjzbkow1FBkRERETEAIIudFK1IR9tyEcb8tGGfLQhH23IRxuKDIiIiIiIAbxcLoiIiIiIiL9CigyIiIiIiBMLulwuzIRThny0IR9tyEcb8tGGfLQhH20oMiAiIiIiBhB0oZOqDfloQz7akI825KMN+WhDPtpQZEBEREREDCDoQidVG/LRhny0IR9tyEcb8tGGfLShyICIiIiIGEDQhU6qNuSjDfloQz7akI825KMN+WhDkQERERERMYCgC51UbchHG/LRhny0IR9tyEcb8tGGIgMiIiIiYgBBFzqp2pCPNuSjDfloQz7akI825KMNRQZERERExACCLnRStSEfbchHG/LRhny0IR9tyEcbigyIiIiIiAEEXeikakM+2pCPNuSjDfloQz7akI82FBkQEREREQMIutBJ1YZ8tCEfbchHG/LRhny0IR9tKDIgIiIiYkTP9pUmliQ3V/vux/6sl7fHrg/+x50O9rVe2iJpfm6Sbuxrf+58Lcf9t63SZfOcJLFFurGf0zSvH3Shk6oN+WhDPtqQjzbkow35aEM+2lBkQERERMR47jd3g/reQfrTwVatwXxvkWH/XRcXFunGVuvN3fMW27PzeXXxov288mu+57z0+v9QZFCGTqo25KMN+WhDPtqQjzbkow35aEORAREREREjWa0C2Nhq7R+kP26rAsDSVutNT5FhY4v199Pqg/pnpN929P389Pl5U7z+StCFTqo25KMN+WhDPtqQjzbkow35aEORARERERGjWA3ur/Z/7cc7SH+wVZLYYl0WB/Y9RQafp2qFw8Z+HD8/SZb29VKBYejrbwRd6KRqQz7akI825KMN+WhDPtqQjzYUGRARERExguXgfrmyoGuQ/ng6N/8eW2R4XMnw7s974fVXgi50UrUhH23IRxvy0YZ8tCEfbchHG4oMiIiIiBjc26B8s3pgyCD9f3/+vlkUaA5nfjxfoVqN0HnuwkSvH3Shk6oN+WhDPtqQjzbkow35aEM+2lBkQERERMSwVqsKWoWCaYsMB/ta3x/enCRLWzkKCfXv3Z7tZ72sD42+ndGwtNX++Tnvvn7QhU6qNla6hgUAAALbSURBVOSjDfloQz7akI825KMN+WhDkQERERERA9ocltw+G2HSIkN9/sK9rgOhq9/bPKYsTqTL5mt3xYn3Xz/oQidVG/LRhny0IR9tyEcb8tGGfLShyICIiIiI4SyLBI/bE4XcLul4OtgqrQoJ7uKAc7uk6ne1nzPi9YMudFK1IR9tyEcb8tGGfLQhH23IRxuKDIiIiIgYyPKw5IeB/v/+hD6T4a/5zmXo/r3Vc6qzF8a9ftCFTqo25KMN+WhDPtqQjzbkow35aEORARERERHDWBUI0uq8hMZFVQAov/d16vkZLxcZmkOeXWcpuA9+figyjHz9oAudVG3IRxvy0YZ8tCEfbchHG/LRhiIDIiIiIgaxHuQfoHvQ/++oIkN9/kL7uZ0/737lwtjXD7rQSdWGfLQhH23IRxvy0YZ8tCEfbSgyICIiImJ0p9ku6Wxf6dJW+/Pz91qHQd//jqqQsHxafeBa+TDm9YMudFK1IR9tyEcb8tGGfLQhH23IRxuKDIiIiIgY3a5B+p9ta2uitBz4T5fN17bP2x8lSWKL+jntrz0XDNorFBYP2x8l6fP5C6++/krQhU6qNuSjDfloQz7akI825KMN+WhDkQERERERo+sfpG8ObPaaftux9fjj/rspRlTFg3RjX/uz9/cf963CQrmyYbU9tH7uu6+/EXShk6oN+WhDPtqQjzbkow35aEM+2lBkQEREREQMIOhCJ1Ub8tGGfLQhH23IRxvy0YZ8tKHIgIiIiIgYQNCFTqo25KMN+WhDPtqQjzbkow35aEORARERERExgKALnVRtyEcb8tGGfLQhH23IRxvy0YYiAyIiIiJiAEEXOqnakI825KMN+WhDPtqQjzbkow1FBkRERETEAIIudFK1IR9tyEcb8tGGfLQhH23IRxuKDIiIiIiIAQRd6KRqQz7akI825KMN+WhDPtqQjzYUGRARERERA3i5XBAREREREX+F/wOZ5njtMLUpAAAAAABJRU5ErkJggg==)"
      ]
    },
    {
      "cell_type": "code",
      "metadata": {
        "id": "8kH16rnZ7wt_",
        "colab_type": "code",
        "colab": {}
      },
      "source": [
        "from __future__ import print_function\n",
        "import torch\n",
        "import torch.nn as nn\n",
        "import torch.nn.functional as F\n",
        "import torch.optim as optim\n",
        "from torchvision import datasets, transforms\n",
        "\n",
        "import matplotlib.pyplot as plt"
      ],
      "execution_count": 0,
      "outputs": []
    },
    {
      "cell_type": "code",
      "metadata": {
        "id": "YtssFUKb-jqx",
        "colab_type": "code",
        "colab": {}
      },
      "source": [
        "# Train Phase transformations\n",
        "train_transforms = transforms.Compose([\n",
        "                                      #  transforms.Resize((28, 28)),\n",
        "                                      #  transforms.ColorJitter(brightness=0.10, contrast=0.1, saturation=0.10, hue=0.1),\n",
        "                                       transforms.ToTensor(),\n",
        "                                       transforms.Normalize((0.1307,), (0.3081,)) # The mean and std have to be sequences (e.g., tuples), therefore you should add a comma after the values. \n",
        "                                       # Note the difference between (0.1307) and (0.1307,)\n",
        "                                       ])\n",
        "\n",
        "# Test Phase transformations\n",
        "test_transforms = transforms.Compose([\n",
        "                                      #  transforms.Resize((28, 28)),\n",
        "                                      #  transforms.ColorJitter(brightness=0.10, contrast=0.1, saturation=0.10, hue=0.1),\n",
        "                                       transforms.ToTensor(),\n",
        "                                       transforms.Normalize((0.1307,), (0.3081,))\n",
        "                                       ])\n"
      ],
      "execution_count": 0,
      "outputs": []
    },
    {
      "cell_type": "markdown",
      "metadata": {
        "id": "oQciFYo2B1mO",
        "colab_type": "text"
      },
      "source": [
        "# Dataset and Creating Train/Test Split"
      ]
    },
    {
      "cell_type": "code",
      "metadata": {
        "id": "_4A84rlfDA23",
        "colab_type": "code",
        "outputId": "1c16bfa9-bca8-4e6f-ff68-3dee1f9d43c5",
        "colab": {
          "base_uri": "https://localhost:8080/",
          "height": 411,
          "referenced_widgets": [
            "7eb5e167e66842199c3d885c1cb64271",
            "ef821e288acf476d87b01fe007329aee",
            "6d82fad24cc64f31bcfb6a157d4bc21c",
            "6c0b409dbb4d47c6adc40a6465427017",
            "5c65b9ac2e5b4ab3a7913d640c63b947",
            "efd351fff4b548f1aa7c4e39760d2628",
            "9c0655794cbc46619e04eb3dbd8035c8",
            "256bb0a87d7642f0adffb3c58ce2b71e",
            "15366cf50ac3409f8d11153fd776a9b0",
            "c53edc66adf3475e80895b60a54e9796",
            "4fa18ceede744e959ec2b406e16fd5e9",
            "a83efce1ea4941858bd55363f57934d4",
            "c829a5b09baa48aa9b23096e4008fbc2",
            "63f79254f9d3463d8154d3e89c453a66",
            "4b588e79bd154fc4b3a4306f0279e810",
            "df27bf62a26a44459c00244440a6844d",
            "e0202fe256f0467fb4c317d28842d249",
            "05777b9ee0e344cbbdbe71af0fdbc038",
            "ce015aaa4ad542c9b05c4e159a1cd2b4",
            "038daf10655a4847b53fca4c4aba00bc",
            "24c99ab717884f998afec121d8842325",
            "0580dd3c69064d82a952f9c284c9d7c2",
            "206d77eeee864bb3a89c48496f7fc97d",
            "88e4d131cfc746459ea34663ff94f275",
            "a1e5fc37dd2041109a46249276bc6537",
            "c1dfca722f7c4ba6bfdfcd8d00b8199f",
            "4b6024f5fcc44a27956ed96669d58da9",
            "d279c65c11a145aebe50b0969098c526",
            "3f941509df3140d1ba9265ad351e8bd1",
            "45f68beb2c2a4ad5a08640fbaf2d05b9",
            "ff901df71aa8448684efee3bd749773a",
            "f94b9d33103f447d82d3c43baabdb789"
          ]
        }
      },
      "source": [
        "train = datasets.MNIST('./data', train=True, download=True, transform=train_transforms)\n",
        "test = datasets.MNIST('./data', train=False, download=True, transform=test_transforms)"
      ],
      "execution_count": 0,
      "outputs": [
        {
          "output_type": "stream",
          "text": [
            "Downloading http://yann.lecun.com/exdb/mnist/train-images-idx3-ubyte.gz to ./data/MNIST/raw/train-images-idx3-ubyte.gz\n"
          ],
          "name": "stdout"
        },
        {
          "output_type": "display_data",
          "data": {
            "application/vnd.jupyter.widget-view+json": {
              "model_id": "7eb5e167e66842199c3d885c1cb64271",
              "version_minor": 0,
              "version_major": 2
            },
            "text/plain": [
              "HBox(children=(IntProgress(value=1, bar_style='info', max=1), HTML(value='')))"
            ]
          },
          "metadata": {
            "tags": []
          }
        },
        {
          "output_type": "stream",
          "text": [
            "\n",
            "Extracting ./data/MNIST/raw/train-images-idx3-ubyte.gz to ./data/MNIST/raw\n",
            "Downloading http://yann.lecun.com/exdb/mnist/train-labels-idx1-ubyte.gz to ./data/MNIST/raw/train-labels-idx1-ubyte.gz\n"
          ],
          "name": "stdout"
        },
        {
          "output_type": "display_data",
          "data": {
            "application/vnd.jupyter.widget-view+json": {
              "model_id": "15366cf50ac3409f8d11153fd776a9b0",
              "version_minor": 0,
              "version_major": 2
            },
            "text/plain": [
              "HBox(children=(IntProgress(value=1, bar_style='info', max=1), HTML(value='')))"
            ]
          },
          "metadata": {
            "tags": []
          }
        },
        {
          "output_type": "stream",
          "text": [
            "\n",
            "Extracting ./data/MNIST/raw/train-labels-idx1-ubyte.gz to ./data/MNIST/raw\n",
            "Downloading http://yann.lecun.com/exdb/mnist/t10k-images-idx3-ubyte.gz to ./data/MNIST/raw/t10k-images-idx3-ubyte.gz\n"
          ],
          "name": "stdout"
        },
        {
          "output_type": "display_data",
          "data": {
            "application/vnd.jupyter.widget-view+json": {
              "model_id": "e0202fe256f0467fb4c317d28842d249",
              "version_minor": 0,
              "version_major": 2
            },
            "text/plain": [
              "HBox(children=(IntProgress(value=1, bar_style='info', max=1), HTML(value='')))"
            ]
          },
          "metadata": {
            "tags": []
          }
        },
        {
          "output_type": "stream",
          "text": [
            "\n",
            "Extracting ./data/MNIST/raw/t10k-images-idx3-ubyte.gz to ./data/MNIST/raw\n",
            "Downloading http://yann.lecun.com/exdb/mnist/t10k-labels-idx1-ubyte.gz to ./data/MNIST/raw/t10k-labels-idx1-ubyte.gz\n"
          ],
          "name": "stdout"
        },
        {
          "output_type": "display_data",
          "data": {
            "application/vnd.jupyter.widget-view+json": {
              "model_id": "a1e5fc37dd2041109a46249276bc6537",
              "version_minor": 0,
              "version_major": 2
            },
            "text/plain": [
              "HBox(children=(IntProgress(value=1, bar_style='info', max=1), HTML(value='')))"
            ]
          },
          "metadata": {
            "tags": []
          }
        },
        {
          "output_type": "stream",
          "text": [
            "\n",
            "Extracting ./data/MNIST/raw/t10k-labels-idx1-ubyte.gz to ./data/MNIST/raw\n",
            "Processing...\n",
            "Done!\n"
          ],
          "name": "stdout"
        }
      ]
    },
    {
      "cell_type": "code",
      "metadata": {
        "id": "0LbgneSNoY3-",
        "colab_type": "code",
        "outputId": "85167a4c-48b6-4389-bc68-c0ac5db3b689",
        "colab": {
          "base_uri": "https://localhost:8080/",
          "height": 245
        }
      },
      "source": [
        "# train contains train_data and train_labels\n",
        "print(train.train_labels.numpy().shape)\n",
        "print(train.train_data.numpy().shape)\n",
        "print(test.test_labels.numpy().shape)\n",
        "print(test.test_data.numpy().shape)"
      ],
      "execution_count": 0,
      "outputs": [
        {
          "output_type": "stream",
          "text": [
            "(60000,)\n",
            "(60000, 28, 28)\n",
            "(10000,)\n",
            "(10000, 28, 28)\n"
          ],
          "name": "stdout"
        },
        {
          "output_type": "stream",
          "text": [
            "/usr/local/lib/python3.6/dist-packages/torchvision/datasets/mnist.py:45: UserWarning: train_labels has been renamed targets\n",
            "  warnings.warn(\"train_labels has been renamed targets\")\n",
            "/usr/local/lib/python3.6/dist-packages/torchvision/datasets/mnist.py:55: UserWarning: train_data has been renamed data\n",
            "  warnings.warn(\"train_data has been renamed data\")\n",
            "/usr/local/lib/python3.6/dist-packages/torchvision/datasets/mnist.py:50: UserWarning: test_labels has been renamed targets\n",
            "  warnings.warn(\"test_labels has been renamed targets\")\n",
            "/usr/local/lib/python3.6/dist-packages/torchvision/datasets/mnist.py:60: UserWarning: test_data has been renamed data\n",
            "  warnings.warn(\"test_data has been renamed data\")\n"
          ],
          "name": "stderr"
        }
      ]
    },
    {
      "cell_type": "markdown",
      "metadata": {
        "id": "qgldp_3-Dn0c",
        "colab_type": "text"
      },
      "source": [
        "# Dataloader Arguments & Test/Train Dataloaders\n"
      ]
    },
    {
      "cell_type": "code",
      "metadata": {
        "id": "C8OLDR79DrHG",
        "colab_type": "code",
        "outputId": "2954edba-3fed-4a01-a3a2-ba0dc71cc5be",
        "colab": {
          "base_uri": "https://localhost:8080/",
          "height": 36
        }
      },
      "source": [
        "SEED = 1\n",
        "\n",
        "# CUDA?\n",
        "cuda = torch.cuda.is_available()\n",
        "print(\"CUDA Available?\", cuda)\n",
        "\n",
        "# For reproducibility\n",
        "torch.manual_seed(SEED)\n",
        "\n",
        "if cuda:\n",
        "    torch.cuda.manual_seed(SEED)\n",
        "\n",
        "# dataloader arguments - something you'll fetch these from cmdprmt\n",
        "dataloader_args = dict(shuffle=True, batch_size=128, num_workers=4, pin_memory=True) if cuda else dict(shuffle=True, batch_size=64)\n",
        "\n",
        "# train dataloader\n",
        "train_loader = torch.utils.data.DataLoader(train, **dataloader_args)\n",
        "\n",
        "# test dataloader\n",
        "test_loader = torch.utils.data.DataLoader(test, **dataloader_args)"
      ],
      "execution_count": 0,
      "outputs": [
        {
          "output_type": "stream",
          "text": [
            "CUDA Available? True\n"
          ],
          "name": "stdout"
        }
      ]
    },
    {
      "cell_type": "markdown",
      "metadata": {
        "id": "-TFjoFekE_va",
        "colab_type": "text"
      },
      "source": [
        "# Basic exploratory data analysis\n",
        "\n"
      ]
    },
    {
      "cell_type": "code",
      "metadata": {
        "id": "hWZPPo3yEHDW",
        "colab_type": "code",
        "outputId": "16b99d9c-a798-465e-9610-839f9cada18b",
        "colab": {
          "base_uri": "https://localhost:8080/",
          "height": 512
        }
      },
      "source": [
        "# We'd need to convert it into Numpy! Remember above we have converted it into tensors already\n",
        "train_data = train.train_data\n",
        "train_data = train.transform(train_data.numpy())\n",
        "\n",
        "\n",
        "print('[Train]')\n",
        "print(' - Numpy Shape:', train.train_data.cpu().numpy().shape)\n",
        "print(' - Tensor Shape:', train.train_data.size())\n",
        "print(' - min:', torch.min(train_data))\n",
        "print(' - max:', torch.max(train_data))\n",
        "print(' - mean:', torch.mean(train_data))\n",
        "print(' - std:', torch.std(train_data))\n",
        "print(' - var:', torch.var(train_data))\n",
        "\n",
        "dataiter = iter(train_loader)\n",
        "images, labels = dataiter.next()\n",
        "\n",
        "print(images.shape)\n",
        "print(labels.shape)\n",
        "\n",
        "# Let's visualize some of the images\n",
        "%matplotlib inline\n",
        "plt.imshow(images[1].numpy().squeeze(), cmap='gray_r')\n"
      ],
      "execution_count": 0,
      "outputs": [
        {
          "output_type": "stream",
          "text": [
            "/usr/local/lib/python3.6/dist-packages/torchvision/datasets/mnist.py:55: UserWarning: train_data has been renamed data\n",
            "  warnings.warn(\"train_data has been renamed data\")\n"
          ],
          "name": "stderr"
        },
        {
          "output_type": "stream",
          "text": [
            "[Train]\n",
            " - Numpy Shape: (60000, 28, 28)\n",
            " - Tensor Shape: torch.Size([60000, 28, 28])\n",
            " - min: tensor(-0.4242)\n",
            " - max: tensor(2.8215)\n",
            " - mean: tensor(0.0009)\n",
            " - std: tensor(1.0000)\n",
            " - var: tensor(1.0001)\n",
            "torch.Size([128, 1, 28, 28])\n",
            "torch.Size([128])\n"
          ],
          "name": "stdout"
        },
        {
          "output_type": "execute_result",
          "data": {
            "text/plain": [
              "<matplotlib.image.AxesImage at 0x7fb9b012e710>"
            ]
          },
          "metadata": {
            "tags": []
          },
          "execution_count": 6
        },
        {
          "output_type": "display_data",
          "data": {
            "image/png": "[encoded data removed]",
            "text/plain": [
              "<Figure size 432x288 with 1 Axes>"
            ]
          },
          "metadata": {
            "tags": []
          }
        }
      ]
    },
    {
      "cell_type": "markdown",
      "metadata": {
        "id": "7l9lNaWYKuik",
        "colab_type": "text"
      },
      "source": [
        "## View more images\n",
        "Display the next 100 images to familiarize with the shapes and orientation involved"
      ]
    },
    {
      "cell_type": "code",
      "metadata": {
        "id": "hXXAg8hbK16u",
        "colab_type": "code",
        "outputId": "b34f0c72-4fb8-43b8-9577-3f18b5398346",
        "colab": {
          "base_uri": "https://localhost:8080/",
          "height": 248
        }
      },
      "source": [
        "figure = plt.figure()\n",
        "num_of_images = 100\n",
        "for index in range(1, num_of_images + 1):\n",
        "    plt.subplot(10, 10, index)\n",
        "    plt.axis('off')\n",
        "    plt.imshow(images[index].numpy().squeeze(), cmap='gray_r')"
      ],
      "execution_count": 0,
      "outputs": [
        {
          "output_type": "display_data",
          "data": {
            "image/png": "[encoded data removed]",
            "text/plain": [
              "<Figure size 432x288 with 100 Axes>"
            ]
          },
          "metadata": {
            "tags": []
          }
        }
      ]
    },
    {
      "cell_type": "markdown",
      "metadata": {
        "id": "j8U3dI0DZDMV",
        "colab_type": "text"
      },
      "source": [
        "# level of brightness and thickness is inconsistent\n",
        "\n",
        "# shape related observations for each class:\n",
        "0,5: consistent \n",
        "1,3,6,8,9: slight tilts both ways\n",
        "2: shapes not consistent with a loop at the base sometimes, \n",
        "4: two types of shapes one which ends as a triangle at the top and other is open, \n",
        "7: two shapes used one without a dash, \n"
      ]
    },
    {
      "cell_type": "markdown",
      "metadata": {
        "id": "ubQL3H6RJL3h",
        "colab_type": "text"
      },
      "source": [
        "# The model\n",
        "This is a basic model architecture\n",
        "This is done in a way extending it will be easy"
      ]
    },
    {
      "cell_type": "code",
      "metadata": {
        "id": "PEXao6GBosMn",
        "colab_type": "code",
        "colab": {}
      },
      "source": [
        "class Net(nn.Module):\n",
        "    def __init__(self):\n",
        "        super(Net, self).__init__()\n",
        "        # Input Block\n",
        "        self.convblock1 = nn.Sequential(\n",
        "            nn.Conv2d(in_channels=1, out_channels=16, kernel_size=(3, 3), padding=0, bias=False),\n",
        "            nn.ReLU()\n",
        "        ) \n",
        "        # output_size = 26, RF = 3\n",
        "\n",
        "        # CONVOLUTION BLOCK 1\n",
        "        self.convblock2 = nn.Sequential(\n",
        "            nn.Conv2d(in_channels=16, out_channels=32, kernel_size=(3, 3), padding=0, bias=False),\n",
        "            nn.ReLU()\n",
        "        ) # output_size = 24, RF = 5\n",
        "\n",
        "        self.convblock3 = nn.Sequential(\n",
        "            nn.Conv2d(in_channels=32, out_channels=64, kernel_size=(3, 3), padding=0, bias=False),\n",
        "            nn.ReLU()\n",
        "        ) # output_size = 22, RF = 7\n",
        "\n",
        "        # TRANSITION BLOCK 1\n",
        "        self.pool1 = nn.MaxPool2d(2, 2) # output_size = 11, RF = 8\n",
        "        self.convblock4 = nn.Sequential(\n",
        "            nn.Conv2d(in_channels=64, out_channels=16, kernel_size=(1, 1), padding=0, bias=False),\n",
        "            nn.ReLU()\n",
        "        ) # output_size = 11, RF = 8\n",
        "\n",
        "        self.convblock5 = nn.Sequential(\n",
        "            nn.Conv2d(in_channels=16, out_channels=32, kernel_size=(3, 3), padding=0, bias=False),\n",
        "            nn.ReLU()\n",
        "        ) # output_size = 9, RF = 12\n",
        "\n",
        "        self.convblock6 = nn.Sequential(\n",
        "            nn.Conv2d(in_channels=32, out_channels=16, kernel_size=(3, 3), padding=0, bias=False),\n",
        "            nn.ReLU()\n",
        "        ) # output_size = 7, RF = 16\n",
        "\n",
        "        # OUTPUT BLOCK\n",
        "        self.convblock7 = nn.Sequential(\n",
        "            nn.Conv2d(in_channels=16, out_channels=10, kernel_size=(7, 7), padding=0, bias=False),\n",
        "            nn.ReLU()\n",
        "        ) # output_size = 1, RF = 28\n",
        "        self.convblock8 = nn.Sequential(\n",
        "            nn.Conv2d(in_channels=10, out_channels=10, kernel_size=(1, 1), padding=0, bias=False),\n",
        "        ) # output_size = 1, RF = 28\n",
        "\n",
        "    def forward(self, x):\n",
        "        x = self.convblock1(x)\n",
        "        x = self.convblock2(x)\n",
        "        x = self.convblock3(x)\n",
        "        x = self.pool1(x)\n",
        "        x = self.convblock4(x)\n",
        "        x = self.convblock5(x)\n",
        "        x = self.convblock6(x)\n",
        "        x = self.convblock7(x)\n",
        "        x = self.convblock8(x)\n",
        "        x = x.view(-1, 10)\n",
        "        return F.log_softmax(x, dim=-1)"
      ],
      "execution_count": 0,
      "outputs": []
    },
    {
      "cell_type": "markdown",
      "metadata": {
        "id": "M3-vp8X9LCWo",
        "colab_type": "text"
      },
      "source": [
        "# Model Params\n",
        "Can't emphasize on how important viewing Model Summary is. \n",
        "Unfortunately, there is no in-built model visualizer, so we have to take external help"
      ]
    },
    {
      "cell_type": "code",
      "metadata": {
        "id": "5skB97zIJQQe",
        "colab_type": "code",
        "outputId": "817c9e6d-e2d4-4f0f-a0f7-2d3ea0b78de0",
        "colab": {
          "base_uri": "https://localhost:8080/",
          "height": 607
        }
      },
      "source": [
        "!pip install torchsummary\n",
        "from torchsummary import summary\n",
        "use_cuda = torch.cuda.is_available()\n",
        "device = torch.device(\"cuda\" if use_cuda else \"cpu\")\n",
        "print(device)\n",
        "model = Net().to(device)\n",
        "summary(model, input_size=(1, 28, 28))"
      ],
      "execution_count": 0,
      "outputs": [
        {
          "output_type": "stream",
          "text": [
            "Requirement already satisfied: torchsummary in /usr/local/lib/python3.6/dist-packages (1.5.1)\n",
            "cuda\n",
            "----------------------------------------------------------------\n",
            "        Layer (type)               Output Shape         Param #\n",
            "================================================================\n",
            "            Conv2d-1           [-1, 16, 26, 26]             144\n",
            "              ReLU-2           [-1, 16, 26, 26]               0\n",
            "            Conv2d-3           [-1, 32, 24, 24]           4,608\n",
            "              ReLU-4           [-1, 32, 24, 24]               0\n",
            "            Conv2d-5           [-1, 64, 22, 22]          18,432\n",
            "              ReLU-6           [-1, 64, 22, 22]               0\n",
            "         MaxPool2d-7           [-1, 64, 11, 11]               0\n",
            "            Conv2d-8           [-1, 16, 11, 11]           1,024\n",
            "              ReLU-9           [-1, 16, 11, 11]               0\n",
            "           Conv2d-10             [-1, 32, 9, 9]           4,608\n",
            "             ReLU-11             [-1, 32, 9, 9]               0\n",
            "           Conv2d-12             [-1, 16, 7, 7]           4,608\n",
            "             ReLU-13             [-1, 16, 7, 7]               0\n",
            "           Conv2d-14             [-1, 10, 1, 1]           7,840\n",
            "             ReLU-15             [-1, 10, 1, 1]               0\n",
            "           Conv2d-16             [-1, 10, 1, 1]             100\n",
            "================================================================\n",
            "Total params: 41,364\n",
            "Trainable params: 41,364\n",
            "Non-trainable params: 0\n",
            "----------------------------------------------------------------\n",
            "Input size (MB): 0.00\n",
            "Forward/backward pass size (MB): 1.06\n",
            "Params size (MB): 0.16\n",
            "Estimated Total Size (MB): 1.22\n",
            "----------------------------------------------------------------\n"
          ],
          "name": "stdout"
        }
      ]
    },
    {
      "cell_type": "markdown",
      "metadata": {
        "id": "1__x_SbrL7z3",
        "colab_type": "text"
      },
      "source": [
        "# Training and Testing\n",
        "\n",
        "All right, so we have 6.3M params, and that's too many, we know that. But the purpose of this notebook is to set things right for our future experiments. \n",
        "\n",
        "Looking at logs can be boring, so we'll introduce **tqdm** progressbar to get cooler logs. \n",
        "\n",
        "Let's write train and test functions"
      ]
    },
    {
      "cell_type": "code",
      "metadata": {
        "id": "fbkF2nN_LYIb",
        "colab_type": "code",
        "colab": {}
      },
      "source": [
        "from tqdm import tqdm\n",
        "\n",
        "train_losses = []\n",
        "test_losses = []\n",
        "train_acc = []\n",
        "test_acc = []\n",
        "\n",
        "def train(model, device, train_loader, optimizer, epoch):\n",
        "  model.train()\n",
        "  pbar = tqdm(train_loader)\n",
        "  correct = 0\n",
        "  processed = 0\n",
        "  for batch_idx, (data, target) in enumerate(pbar):\n",
        "    # get samples\n",
        "    data, target = data.to(device), target.to(device)\n",
        "\n",
        "    # Init\n",
        "    optimizer.zero_grad()\n",
        "    # In PyTorch, we need to set the gradients to zero before starting to do backpropragation because PyTorch accumulates the gradients on subsequent backward passes. \n",
        "    # Because of this, when you start your training loop, ideally you should zero out the gradients so that you do the parameter update correctly.\n",
        "\n",
        "    # Predict\n",
        "    y_pred = model(data)\n",
        "\n",
        "    # Calculate loss\n",
        "    loss = F.nll_loss(y_pred, target)\n",
        "    train_losses.append(loss)\n",
        "\n",
        "    # Backpropagation\n",
        "    loss.backward()\n",
        "    optimizer.step()\n",
        "\n",
        "    # Update pbar-tqdm\n",
        "    \n",
        "    pred = y_pred.argmax(dim=1, keepdim=True)  # get the index of the max log-probability\n",
        "    correct += pred.eq(target.view_as(pred)).sum().item()\n",
        "    processed += len(data)\n",
        "\n",
        "    pbar.set_description(desc= f'Loss={loss.item()} Batch_id={batch_idx} Accuracy={100*correct/processed:0.2f}')\n",
        "    train_acc.append(100*correct/processed)\n",
        "\n",
        "def test(model, device, test_loader):\n",
        "    model.eval()\n",
        "    test_loss = 0\n",
        "    correct = 0\n",
        "    with torch.no_grad():\n",
        "        for data, target in test_loader:\n",
        "            data, target = data.to(device), target.to(device)\n",
        "            output = model(data)\n",
        "            test_loss += F.nll_loss(output, target, reduction='sum').item()  # sum up batch loss\n",
        "            pred = output.argmax(dim=1, keepdim=True)  # get the index of the max log-probability\n",
        "            correct += pred.eq(target.view_as(pred)).sum().item()\n",
        "\n",
        "    test_loss /= len(test_loader.dataset)\n",
        "    test_losses.append(test_loss)\n",
        "\n",
        "    print('\\nTest set: Average loss: {:.4f}, Accuracy: {}/{} ({:.2f}%)\\n'.format(\n",
        "        test_loss, correct, len(test_loader.dataset),\n",
        "        100. * correct / len(test_loader.dataset)))\n",
        "    \n",
        "    test_acc.append(100. * correct / len(test_loader.dataset))"
      ],
      "execution_count": 0,
      "outputs": []
    },
    {
      "cell_type": "markdown",
      "metadata": {
        "id": "drokW8wWODKq",
        "colab_type": "text"
      },
      "source": [
        "# Let's Train and test our model"
      ]
    },
    {
      "cell_type": "code",
      "metadata": {
        "id": "xMCFxeAKOB53",
        "colab_type": "code",
        "outputId": "b4266337-38fe-4212-8004-b555bb8c724a",
        "colab": {
          "base_uri": "https://localhost:8080/",
          "height": 1000
        }
      },
      "source": [
        "model =  Net().to(device)\n",
        "optimizer = optim.SGD(model.parameters(), lr=0.01, momentum=0.9)\n",
        "EPOCHS = 15\n",
        "for epoch in range(EPOCHS):\n",
        "    print(\"EPOCH:\", epoch)\n",
        "    train(model, device, train_loader, optimizer, epoch)\n",
        "    test(model, device, test_loader)"
      ],
      "execution_count": 0,
      "outputs": [
        {
          "output_type": "stream",
          "text": [
            "\r  0%|          | 0/469 [00:00<?, ?it/s]"
          ],
          "name": "stderr"
        },
        {
          "output_type": "stream",
          "text": [
            "EPOCH: 0\n"
          ],
          "name": "stdout"
        },
        {
          "output_type": "stream",
          "text": [
            "Loss=0.17313967645168304 Batch_id=468 Accuracy=62.39: 100%|██████████| 469/469 [00:10<00:00, 42.91it/s]\n",
            "  0%|          | 0/469 [00:00<?, ?it/s]"
          ],
          "name": "stderr"
        },
        {
          "output_type": "stream",
          "text": [
            "\n",
            "Test set: Average loss: 0.1895, Accuracy: 9409/10000 (94.09%)\n",
            "\n",
            "EPOCH: 1\n"
          ],
          "name": "stdout"
        },
        {
          "output_type": "stream",
          "text": [
            "Loss=0.04114629700779915 Batch_id=468 Accuracy=95.55: 100%|██████████| 469/469 [00:10<00:00, 46.17it/s]\n",
            "  0%|          | 0/469 [00:00<?, ?it/s]"
          ],
          "name": "stderr"
        },
        {
          "output_type": "stream",
          "text": [
            "\n",
            "Test set: Average loss: 0.0905, Accuracy: 9733/10000 (97.33%)\n",
            "\n",
            "EPOCH: 2\n"
          ],
          "name": "stdout"
        },
        {
          "output_type": "stream",
          "text": [
            "Loss=0.054675742983818054 Batch_id=468 Accuracy=97.21: 100%|██████████| 469/469 [00:10<00:00, 54.72it/s]\n",
            "  0%|          | 0/469 [00:00<?, ?it/s]"
          ],
          "name": "stderr"
        },
        {
          "output_type": "stream",
          "text": [
            "\n",
            "Test set: Average loss: 0.0732, Accuracy: 9767/10000 (97.67%)\n",
            "\n",
            "EPOCH: 3\n"
          ],
          "name": "stdout"
        },
        {
          "output_type": "stream",
          "text": [
            "Loss=0.035052645951509476 Batch_id=468 Accuracy=97.91: 100%|██████████| 469/469 [00:10<00:00, 45.40it/s]\n",
            "  0%|          | 0/469 [00:00<?, ?it/s]"
          ],
          "name": "stderr"
        },
        {
          "output_type": "stream",
          "text": [
            "\n",
            "Test set: Average loss: 0.0524, Accuracy: 9832/10000 (98.32%)\n",
            "\n",
            "EPOCH: 4\n"
          ],
          "name": "stdout"
        },
        {
          "output_type": "stream",
          "text": [
            "Loss=0.1401672214269638 Batch_id=468 Accuracy=98.20: 100%|██████████| 469/469 [00:10<00:00, 43.74it/s]\n",
            "  0%|          | 0/469 [00:00<?, ?it/s]"
          ],
          "name": "stderr"
        },
        {
          "output_type": "stream",
          "text": [
            "\n",
            "Test set: Average loss: 0.0510, Accuracy: 9842/10000 (98.42%)\n",
            "\n",
            "EPOCH: 5\n"
          ],
          "name": "stdout"
        },
        {
          "output_type": "stream",
          "text": [
            "Loss=0.06959649920463562 Batch_id=468 Accuracy=98.48: 100%|██████████| 469/469 [00:11<00:00, 40.65it/s]\n",
            "  0%|          | 0/469 [00:00<?, ?it/s]"
          ],
          "name": "stderr"
        },
        {
          "output_type": "stream",
          "text": [
            "\n",
            "Test set: Average loss: 0.0453, Accuracy: 9854/10000 (98.54%)\n",
            "\n",
            "EPOCH: 6\n"
          ],
          "name": "stdout"
        },
        {
          "output_type": "stream",
          "text": [
            "Loss=0.03137735649943352 Batch_id=468 Accuracy=98.63: 100%|██████████| 469/469 [00:10<00:00, 45.57it/s]\n",
            "  0%|          | 0/469 [00:00<?, ?it/s]"
          ],
          "name": "stderr"
        },
        {
          "output_type": "stream",
          "text": [
            "\n",
            "Test set: Average loss: 0.0396, Accuracy: 9874/10000 (98.74%)\n",
            "\n",
            "EPOCH: 7\n"
          ],
          "name": "stdout"
        },
        {
          "output_type": "stream",
          "text": [
            "Loss=0.003284777281805873 Batch_id=468 Accuracy=98.75: 100%|██████████| 469/469 [00:10<00:00, 45.27it/s]\n",
            "  0%|          | 0/469 [00:00<?, ?it/s]"
          ],
          "name": "stderr"
        },
        {
          "output_type": "stream",
          "text": [
            "\n",
            "Test set: Average loss: 0.0407, Accuracy: 9862/10000 (98.62%)\n",
            "\n",
            "EPOCH: 8\n"
          ],
          "name": "stdout"
        },
        {
          "output_type": "stream",
          "text": [
            "Loss=0.08665543794631958 Batch_id=468 Accuracy=98.81: 100%|██████████| 469/469 [00:10<00:00, 46.03it/s]\n",
            "  0%|          | 0/469 [00:00<?, ?it/s]"
          ],
          "name": "stderr"
        },
        {
          "output_type": "stream",
          "text": [
            "\n",
            "Test set: Average loss: 0.0369, Accuracy: 9875/10000 (98.75%)\n",
            "\n",
            "EPOCH: 9\n"
          ],
          "name": "stdout"
        },
        {
          "output_type": "stream",
          "text": [
            "Loss=0.022844046354293823 Batch_id=468 Accuracy=98.97: 100%|██████████| 469/469 [00:10<00:00, 43.59it/s]\n",
            "  0%|          | 0/469 [00:00<?, ?it/s]"
          ],
          "name": "stderr"
        },
        {
          "output_type": "stream",
          "text": [
            "\n",
            "Test set: Average loss: 0.0347, Accuracy: 9876/10000 (98.76%)\n",
            "\n",
            "EPOCH: 10\n"
          ],
          "name": "stdout"
        },
        {
          "output_type": "stream",
          "text": [
            "Loss=0.013193413615226746 Batch_id=468 Accuracy=99.02: 100%|██████████| 469/469 [00:11<00:00, 42.48it/s]\n",
            "  0%|          | 0/469 [00:00<?, ?it/s]"
          ],
          "name": "stderr"
        },
        {
          "output_type": "stream",
          "text": [
            "\n",
            "Test set: Average loss: 0.0387, Accuracy: 9875/10000 (98.75%)\n",
            "\n",
            "EPOCH: 11\n"
          ],
          "name": "stdout"
        },
        {
          "output_type": "stream",
          "text": [
            "Loss=0.042585890740156174 Batch_id=468 Accuracy=99.08: 100%|██████████| 469/469 [00:10<00:00, 44.37it/s]\n",
            "  0%|          | 0/469 [00:00<?, ?it/s]"
          ],
          "name": "stderr"
        },
        {
          "output_type": "stream",
          "text": [
            "\n",
            "Test set: Average loss: 0.0351, Accuracy: 9886/10000 (98.86%)\n",
            "\n",
            "EPOCH: 12\n"
          ],
          "name": "stdout"
        },
        {
          "output_type": "stream",
          "text": [
            "Loss=0.04201405122876167 Batch_id=468 Accuracy=99.22: 100%|██████████| 469/469 [00:10<00:00, 43.46it/s]\n",
            "  0%|          | 0/469 [00:00<?, ?it/s]"
          ],
          "name": "stderr"
        },
        {
          "output_type": "stream",
          "text": [
            "\n",
            "Test set: Average loss: 0.0360, Accuracy: 9874/10000 (98.74%)\n",
            "\n",
            "EPOCH: 13\n"
          ],
          "name": "stdout"
        },
        {
          "output_type": "stream",
          "text": [
            "Loss=0.005786076188087463 Batch_id=468 Accuracy=99.21: 100%|██████████| 469/469 [00:10<00:00, 42.95it/s]\n",
            "  0%|          | 0/469 [00:00<?, ?it/s]"
          ],
          "name": "stderr"
        },
        {
          "output_type": "stream",
          "text": [
            "\n",
            "Test set: Average loss: 0.0337, Accuracy: 9888/10000 (98.88%)\n",
            "\n",
            "EPOCH: 14\n"
          ],
          "name": "stdout"
        },
        {
          "output_type": "stream",
          "text": [
            "Loss=0.0027319390792399645 Batch_id=468 Accuracy=99.30: 100%|██████████| 469/469 [00:10<00:00, 44.41it/s]\n",
            "  0%|          | 0/469 [00:00<?, ?it/s]"
          ],
          "name": "stderr"
        },
        {
          "output_type": "stream",
          "text": [
            "\n",
            "Test set: Average loss: 0.0406, Accuracy: 9870/10000 (98.70%)\n",
            "\n",
            "EPOCH: 15\n"
          ],
          "name": "stdout"
        },
        {
          "output_type": "stream",
          "text": [
            "Loss=0.053530942648649216 Batch_id=468 Accuracy=99.38: 100%|██████████| 469/469 [00:11<00:00, 41.62it/s]\n",
            "  0%|          | 0/469 [00:00<?, ?it/s]"
          ],
          "name": "stderr"
        },
        {
          "output_type": "stream",
          "text": [
            "\n",
            "Test set: Average loss: 0.0403, Accuracy: 9880/10000 (98.80%)\n",
            "\n",
            "EPOCH: 16\n"
          ],
          "name": "stdout"
        },
        {
          "output_type": "stream",
          "text": [
            "Loss=0.03776560351252556 Batch_id=468 Accuracy=99.34: 100%|██████████| 469/469 [00:10<00:00, 54.15it/s]\n",
            "  0%|          | 0/469 [00:00<?, ?it/s]"
          ],
          "name": "stderr"
        },
        {
          "output_type": "stream",
          "text": [
            "\n",
            "Test set: Average loss: 0.0369, Accuracy: 9888/10000 (98.88%)\n",
            "\n",
            "EPOCH: 17\n"
          ],
          "name": "stdout"
        },
        {
          "output_type": "stream",
          "text": [
            "Loss=0.009694288484752178 Batch_id=468 Accuracy=99.38: 100%|██████████| 469/469 [00:10<00:00, 43.79it/s]\n",
            "  0%|          | 0/469 [00:00<?, ?it/s]"
          ],
          "name": "stderr"
        },
        {
          "output_type": "stream",
          "text": [
            "\n",
            "Test set: Average loss: 0.0369, Accuracy: 9894/10000 (98.94%)\n",
            "\n",
            "EPOCH: 18\n"
          ],
          "name": "stdout"
        },
        {
          "output_type": "stream",
          "text": [
            "Loss=0.006235996726900339 Batch_id=468 Accuracy=99.43: 100%|██████████| 469/469 [00:10<00:00, 44.59it/s]\n",
            "  0%|          | 0/469 [00:00<?, ?it/s]"
          ],
          "name": "stderr"
        },
        {
          "output_type": "stream",
          "text": [
            "\n",
            "Test set: Average loss: 0.0365, Accuracy: 9895/10000 (98.95%)\n",
            "\n",
            "EPOCH: 19\n"
          ],
          "name": "stdout"
        },
        {
          "output_type": "stream",
          "text": [
            "Loss=0.0018114844569936395 Batch_id=468 Accuracy=99.50: 100%|██████████| 469/469 [00:10<00:00, 44.60it/s]\n"
          ],
          "name": "stderr"
        },
        {
          "output_type": "stream",
          "text": [
            "\n",
            "Test set: Average loss: 0.0406, Accuracy: 9892/10000 (98.92%)\n",
            "\n"
          ],
          "name": "stdout"
        }
      ]
    },
    {
      "cell_type": "code",
      "metadata": {
        "id": "87RaqGSEOWDe",
        "colab_type": "code",
        "outputId": "15b7d5d0-9c9f-4feb-9d8c-ed2f607d79f4",
        "colab": {
          "base_uri": "https://localhost:8080/",
          "height": 626
        }
      },
      "source": [
        "fig, axs = plt.subplots(2,2,figsize=(15,10))\n",
        "axs[0, 0].plot(train_losses)\n",
        "axs[0, 0].set_title(\"Training Loss\")\n",
        "axs[1, 0].plot(train_acc)\n",
        "axs[1, 0].set_title(\"Training Accuracy\")\n",
        "axs[0, 1].plot(test_losses)\n",
        "axs[0, 1].set_title(\"Test Loss\")\n",
        "axs[1, 1].plot(test_acc)\n",
        "axs[1, 1].set_title(\"Test Accuracy\")"
      ],
      "execution_count": 0,
      "outputs": [
        {
          "output_type": "execute_result",
          "data": {
            "text/plain": [
              "Text(0.5, 1.0, 'Test Accuracy')"
            ]
          },
          "metadata": {
            "tags": []
          },
          "execution_count": 12
        },
        {
          "output_type": "display_data",
          "data": {
            "image/png": "[encoded data removed]",
            "text/plain": [
              "<Figure size 1080x720 with 4 Axes>"
            ]
          },
          "metadata": {
            "tags": []
          }
        }
      ]
    },
    {
      "cell_type": "code",
      "metadata": {
        "id": "odozjbIvY12p",
        "colab_type": "code",
        "colab": {}
      },
      "source": [
        ""
      ],
      "execution_count": 0,
      "outputs": []
    }
  ]
}